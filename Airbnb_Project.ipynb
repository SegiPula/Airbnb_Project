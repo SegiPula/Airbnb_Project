{
 "cells": [
  {
   "cell_type": "markdown",
   "id": "2466c27d-1b7f-49cc-a221-750b7f51e3fc",
   "metadata": {},
   "source": [
    "### NAME: Σέργκι, SURNAME: Πούλα, ΑΜ: 8200141, EMAIL: t8200141@aueb.gr"
   ]
  },
  {
   "cell_type": "markdown",
   "id": "9f4cab94-cb5f-43e4-8b7f-65a6e2e1059a",
   "metadata": {},
   "source": [
    "In this project we are going to take a look in the **Airbnbs of Athens**. We are going to analyse topics about their neighbourhoods, their prices, occupancy, room types and more. We will create visualizations and make some conclusions for their productiveness."
   ]
  },
  {
   "cell_type": "markdown",
   "id": "d7868d9e-8770-454d-b8ed-6ff4086fac33",
   "metadata": {},
   "source": [
    "* We will start off by importing all the necessary libraries and csv files.pyterpyter"
   ]
  },
  {
   "cell_type": "code",
   "execution_count": 1,
   "id": "52b069bb-024a-42fe-b814-2a53fee0ca41",
   "metadata": {},
   "outputs": [],
   "source": [
    "import pandas as pd\n",
    "import matplotlib.pyplot as plt\n",
    "import numpy as np\n",
    "import seaborn as sns"
   ]
  },
  {
   "cell_type": "markdown",
   "id": "00e52c6b-be66-41d9-ae7e-ef03a23d95ce",
   "metadata": {},
   "source": [
    "The **list** dataframe will be our most important one for this project. Here we have all the personal data of the host of the airbnbs, data for the airbnbs.\n"
   ]
  },
  {
   "cell_type": "code",
   "execution_count": 2,
   "id": "28df79e8-d7dc-47ea-acd9-c60e1f39b83e",
   "metadata": {},
   "outputs": [
    {
     "data": {
      "text/plain": [
       "Index(['id', 'listing_url', 'scrape_id', 'last_scraped', 'source', 'name',\n",
       "       'description', 'neighborhood_overview', 'picture_url', 'host_id',\n",
       "       'host_url', 'host_name', 'host_since', 'host_location', 'host_about',\n",
       "       'host_response_time', 'host_response_rate', 'host_acceptance_rate',\n",
       "       'host_is_superhost', 'host_thumbnail_url', 'host_picture_url',\n",
       "       'host_neighbourhood', 'host_listings_count',\n",
       "       'host_total_listings_count', 'host_verifications',\n",
       "       'host_has_profile_pic', 'host_identity_verified', 'neighbourhood',\n",
       "       'neighbourhood_cleansed', 'neighbourhood_group_cleansed', 'latitude',\n",
       "       'longitude', 'property_type', 'room_type', 'accommodates', 'bathrooms',\n",
       "       'bathrooms_text', 'bedrooms', 'beds', 'amenities', 'price',\n",
       "       'minimum_nights', 'maximum_nights', 'minimum_minimum_nights',\n",
       "       'maximum_minimum_nights', 'minimum_maximum_nights',\n",
       "       'maximum_maximum_nights', 'minimum_nights_avg_ntm',\n",
       "       'maximum_nights_avg_ntm', 'calendar_updated', 'has_availability',\n",
       "       'availability_30', 'availability_60', 'availability_90',\n",
       "       'availability_365', 'calendar_last_scraped', 'number_of_reviews',\n",
       "       'number_of_reviews_ltm', 'number_of_reviews_l30d', 'first_review',\n",
       "       'last_review', 'review_scores_rating', 'review_scores_accuracy',\n",
       "       'review_scores_cleanliness', 'review_scores_checkin',\n",
       "       'review_scores_communication', 'review_scores_location',\n",
       "       'review_scores_value', 'license', 'instant_bookable',\n",
       "       'calculated_host_listings_count',\n",
       "       'calculated_host_listings_count_entire_homes',\n",
       "       'calculated_host_listings_count_private_rooms',\n",
       "       'calculated_host_listings_count_shared_rooms', 'reviews_per_month'],\n",
       "      dtype='object')"
      ]
     },
     "execution_count": 2,
     "metadata": {},
     "output_type": "execute_result"
    }
   ],
   "source": [
    "list = pd.read_csv(\"listings.csv\")\n",
    "list.columns"
   ]
  },
  {
   "cell_type": "markdown",
   "id": "0fd6715c-3506-43ca-8592-e3cdbd7e8fe1",
   "metadata": {},
   "source": [
    "The **nbh** dataframe contains all the data about the Locations/Neighbourhoods in Athens where there are airbnbs."
   ]
  },
  {
   "cell_type": "code",
   "execution_count": 3,
   "id": "d3f0bed0-c9c5-4756-aec2-b9f138504d62",
   "metadata": {},
   "outputs": [
    {
     "data": {
      "text/plain": [
       "Index(['neighbourhood_group', 'neighbourhood'], dtype='object')"
      ]
     },
     "execution_count": 3,
     "metadata": {},
     "output_type": "execute_result"
    }
   ],
   "source": [
    "nbh = pd.read_csv(\"neighbourhoods.csv\")\n",
    "nbh.columns"
   ]
  },
  {
   "cell_type": "markdown",
   "id": "a553b3cb-96d0-4cda-8ce3-5d7b58786a61",
   "metadata": {},
   "source": [
    "In the **reviews** dataframe we have placed data mainly for the reviews/comments that visitors write, each one with it's date, the listing_id which is the airbnb it is reffering to, the data of the person who wrote the comment and it's unique id. "
   ]
  },
  {
   "cell_type": "code",
   "execution_count": 4,
   "id": "8eea0514-720b-4ef1-ac4f-a1d8d8a518c7",
   "metadata": {},
   "outputs": [
    {
     "data": {
      "text/plain": [
       "Index(['listing_id', 'id', 'date', 'reviewer_id', 'reviewer_name', 'comments'], dtype='object')"
      ]
     },
     "execution_count": 4,
     "metadata": {},
     "output_type": "execute_result"
    }
   ],
   "source": [
    "reviews = pd.read_csv(\"reviews.csv\")\n",
    "reviews.columns"
   ]
  },
  {
   "cell_type": "markdown",
   "id": "47ad1582-770c-404d-99d8-fef0d5da3a16",
   "metadata": {},
   "source": [
    "Lastly, in the **calendar** dataframe we have data for dates and their availability, the prices of each listing_id for the specific date and how many nights a person shall stay. "
   ]
  },
  {
   "cell_type": "code",
   "execution_count": 5,
   "id": "c3fc490c-3bcf-4da6-a001-988c269f05cc",
   "metadata": {},
   "outputs": [
    {
     "data": {
      "text/plain": [
       "Index(['listing_id', 'date', 'available', 'price', 'adjusted_price',\n",
       "       'minimum_nights', 'maximum_nights'],\n",
       "      dtype='object')"
      ]
     },
     "execution_count": 5,
     "metadata": {},
     "output_type": "execute_result"
    }
   ],
   "source": [
    "calendar = pd.read_csv(\"calendar.csv\")\n",
    "calendar.columns"
   ]
  },
  {
   "cell_type": "markdown",
   "id": "3c1634a3-d15c-4583-a107-1630405723af",
   "metadata": {},
   "source": [
    "## Section for cleaning up our dataframes!"
   ]
  },
  {
   "cell_type": "markdown",
   "id": "bedded75-05e6-4b12-8ab0-042e038fe24d",
   "metadata": {},
   "source": [
    "It is common that a lot of data comes with issues. This kind of issues may be NAN values, in other words, blank values, they can also have abnormal values, for instance a price of a hotel could be 1 dollar, which is something that couldn't really happen in the real word. We need to replace these data with normal ones so we dont get wrong analyses in our survey."
   ]
  },
  {
   "cell_type": "markdown",
   "id": "a4610c58-671a-4a35-af22-4fa2cdc23dfb",
   "metadata": {},
   "source": [
    "We will start off with the list dataframe. "
   ]
  },
  {
   "cell_type": "markdown",
   "id": "a6bf2036-5237-46c8-9b7c-09ed1b95e2df",
   "metadata": {},
   "source": [
    "First we will check for the columns 'price' if there are any nan values:"
   ]
  },
  {
   "cell_type": "code",
   "execution_count": 6,
   "id": "dc4d5a91-aaf8-466a-81b9-630a1d1fff7a",
   "metadata": {},
   "outputs": [
    {
     "data": {
      "text/plain": [
       "False"
      ]
     },
     "execution_count": 6,
     "metadata": {},
     "output_type": "execute_result"
    }
   ],
   "source": [
    "list['price'].isna().any()"
   ]
  },
  {
   "cell_type": "markdown",
   "id": "8e140033-c8fe-4eb9-8bcc-cbf418b52700",
   "metadata": {},
   "source": [
    "Since we didn't find any nan value, let's check for abnormal values, for this step we will sort the values to check for extreme values."
   ]
  },
  {
   "cell_type": "code",
   "execution_count": 7,
   "id": "4555b0fb-9a4a-43d3-9963-ed4690697a71",
   "metadata": {},
   "outputs": [],
   "source": [
    "list['price'] = list['price'].str.replace('$', '').str.replace(',','').astype(float)"
   ]
  },
  {
   "cell_type": "code",
   "execution_count": 8,
   "id": "2ed1db92-abbd-4c3f-a763-8f57f7843b33",
   "metadata": {},
   "outputs": [],
   "source": [
    "list = list.sort_values(by= 'price', ascending= True)"
   ]
  },
  {
   "cell_type": "code",
   "execution_count": 9,
   "id": "4f786ac5-c4f4-4bc6-afaf-1d43a286ade9",
   "metadata": {},
   "outputs": [
    {
     "data": {
      "text/plain": [
       "12128       10.0\n",
       "2350        10.0\n",
       "1008        10.0\n",
       "4188        10.0\n",
       "4202        11.0\n",
       "          ...   \n",
       "7458      8000.0\n",
       "1623      8000.0\n",
       "2992      8000.0\n",
       "6520      8000.0\n",
       "3641     80275.0\n",
       "Name: price, Length: 12955, dtype: float64"
      ]
     },
     "execution_count": 9,
     "metadata": {},
     "output_type": "execute_result"
    }
   ],
   "source": [
    "list['price']"
   ]
  },
  {
   "cell_type": "markdown",
   "id": "8e9fadec-e6c6-4325-84b2-0a7237ccf01e",
   "metadata": {},
   "source": [
    "From the list above we can see that prices such as 80275 dollars cannot exist."
   ]
  },
  {
   "cell_type": "markdown",
   "id": "e37bcedd-ae80-430b-8e77-30bf69cd775f",
   "metadata": {},
   "source": [
    "Now we need to find all the abnormal low prices, let's see for the first 100 rows."
   ]
  },
  {
   "cell_type": "code",
   "execution_count": 10,
   "id": "8ddb3eac-35e1-4ac6-a3b8-ef03ba3de1a4",
   "metadata": {},
   "outputs": [
    {
     "data": {
      "text/plain": [
       "12128    10.0\n",
       "2350     10.0\n",
       "1008     10.0\n",
       "4188     10.0\n",
       "4202     11.0\n",
       "         ... \n",
       "11764    17.0\n",
       "4865     17.0\n",
       "3136     17.0\n",
       "4862     17.0\n",
       "7218     18.0\n",
       "Name: price, Length: 90, dtype: float64"
      ]
     },
     "execution_count": 10,
     "metadata": {},
     "output_type": "execute_result"
    }
   ],
   "source": [
    "list['price'][:90]"
   ]
  },
  {
   "cell_type": "markdown",
   "id": "a3a47047-8a19-446b-9ac2-55de28894ccd",
   "metadata": {},
   "source": [
    "As wee see prices like 10 dollars are really low but they could be true, if we take out the taxes for cleaning the room and more. So we decide to leave them as they are. "
   ]
  },
  {
   "cell_type": "markdown",
   "id": "096124b6-f733-4e07-9f10-daefbff433e9",
   "metadata": {},
   "source": [
    "We can either delete those rows with high abnormal prices or replace the values with normal ones, we are choosing to change them into the **mean price**. "
   ]
  },
  {
   "cell_type": "markdown",
   "id": "a78ba9a9-8852-4a73-a702-1dd16039918b",
   "metadata": {},
   "source": [
    "First of all, we need to search which prices are more common, we don't want any extreme values to affect the mean price, so we will find the gravity of each range."
   ]
  },
  {
   "cell_type": "code",
   "execution_count": 11,
   "id": "b9a9f317-696e-41a6-919a-a2e38315edb5",
   "metadata": {},
   "outputs": [],
   "source": [
    "x = list[list['price']<= 100]['id'].count()\n",
    "x1 = list[(list['price']<= 1000) & (list['price']>100)]['id'].count()\n",
    "x2 = list[(list['price']> 1000)]['id'].count()"
   ]
  },
  {
   "cell_type": "markdown",
   "id": "9336a9a6-6839-4430-8a62-1eaf05be208f",
   "metadata": {},
   "source": [
    "Let's see which interval has the most values:"
   ]
  },
  {
   "cell_type": "code",
   "execution_count": 12,
   "id": "f767e787-da98-4e2f-86ec-1c586babceec",
   "metadata": {},
   "outputs": [
    {
     "data": {
      "text/plain": [
       "9147"
      ]
     },
     "execution_count": 12,
     "metadata": {},
     "output_type": "execute_result"
    }
   ],
   "source": [
    "x"
   ]
  },
  {
   "cell_type": "code",
   "execution_count": 13,
   "id": "5bcc8212-c6b0-44e3-ad73-a5563b388316",
   "metadata": {},
   "outputs": [
    {
     "data": {
      "text/plain": [
       "3767"
      ]
     },
     "execution_count": 13,
     "metadata": {},
     "output_type": "execute_result"
    }
   ],
   "source": [
    "x1"
   ]
  },
  {
   "cell_type": "code",
   "execution_count": 14,
   "id": "3ae921b0-f955-4992-9dfb-db6715ce98e1",
   "metadata": {},
   "outputs": [
    {
     "data": {
      "text/plain": [
       "41"
      ]
     },
     "execution_count": 14,
     "metadata": {},
     "output_type": "execute_result"
    }
   ],
   "source": [
    "x2"
   ]
  },
  {
   "cell_type": "markdown",
   "id": "dfcd5171-327f-4135-b7d9-90f3ea1e98b2",
   "metadata": {},
   "source": [
    "We will calculate for each space the mean price of it using the method .mean()"
   ]
  },
  {
   "cell_type": "code",
   "execution_count": 15,
   "id": "6c90a9b2-b4b9-4938-88a3-341b44a27622",
   "metadata": {},
   "outputs": [],
   "source": [
    "mean = list[list['price']<= 100]['price'].mean()\n",
    "mean1 = list[(list['price']<= 1000) & (list['price']>100)]['price'].mean()\n",
    "mean2= list[(list['price']> 1000)]['price'].mean()"
   ]
  },
  {
   "cell_type": "markdown",
   "id": "b893b1a1-36df-4c00-a895-4793b8d7df80",
   "metadata": {},
   "source": [
    "As we saw from the variety of values in each interval, the x has the most of them by far, the x1 has the 1/3 of the first one and the x2 has only 42 values, so we are deciding to place the weights as follows: "
   ]
  },
  {
   "cell_type": "code",
   "execution_count": 16,
   "id": "5ffcdf43-86d8-40f6-8c26-8dbd8caef93e",
   "metadata": {},
   "outputs": [],
   "source": [
    "weight_x = 1 \n",
    "weight_x1 = 0.1 \n",
    "weight_x2 = 0.01"
   ]
  },
  {
   "cell_type": "code",
   "execution_count": 17,
   "id": "b1ae6236-6dcd-46fb-827e-f6e62b0eae35",
   "metadata": {},
   "outputs": [
    {
     "data": {
      "text/plain": [
       "111.75227121882936"
      ]
     },
     "execution_count": 17,
     "metadata": {},
     "output_type": "execute_result"
    }
   ],
   "source": [
    "mean_price = (mean * weight_x + mean1 * weight_x1 + mean2 * weight_x2) / (weight_x + weight_x1 + weight_x2)\n",
    "mean_price"
   ]
  },
  {
   "cell_type": "markdown",
   "id": "c86fa1c8-70f3-410d-ad2f-434f8d747803",
   "metadata": {},
   "source": [
    "Now that we got our mean price we will replace any abnormal price with it."
   ]
  },
  {
   "cell_type": "code",
   "execution_count": 18,
   "id": "438c6857-e657-40f3-a865-f3e5df50b275",
   "metadata": {},
   "outputs": [
    {
     "data": {
      "text/plain": [
       "4797       870.0\n",
       "4489       910.0\n",
       "7475       929.0\n",
       "4753       965.0\n",
       "12503      994.0\n",
       "12511      995.0\n",
       "6575      1000.0\n",
       "745       1000.0\n",
       "5382      1000.0\n",
       "12508     1015.0\n",
       "12505     1028.0\n",
       "3116      1040.0\n",
       "10692     1041.0\n",
       "141       1050.0\n",
       "2351      1069.0\n",
       "7485      1071.0\n",
       "12311     1079.0\n",
       "12328     1087.0\n",
       "12317     1094.0\n",
       "12326     1098.0\n",
       "12322     1126.0\n",
       "4630      1142.0\n",
       "4226      1180.0\n",
       "7313      1214.0\n",
       "12320     1220.0\n",
       "12315     1250.0\n",
       "6196      1303.0\n",
       "4215      1309.0\n",
       "9319      1400.0\n",
       "5769      1440.0\n",
       "6535      1445.0\n",
       "6668      1463.0\n",
       "1839      1500.0\n",
       "8595      1500.0\n",
       "2868      1649.0\n",
       "9967      1702.0\n",
       "5246      1980.0\n",
       "4894      2000.0\n",
       "5986      2500.0\n",
       "5432      3051.0\n",
       "2466      4849.0\n",
       "932       5000.0\n",
       "6619      8000.0\n",
       "6620      8000.0\n",
       "3054      8000.0\n",
       "7458      8000.0\n",
       "1623      8000.0\n",
       "2992      8000.0\n",
       "6520      8000.0\n",
       "3641     80275.0\n",
       "Name: price, dtype: float64"
      ]
     },
     "execution_count": 18,
     "metadata": {},
     "output_type": "execute_result"
    }
   ],
   "source": [
    "list['price'].tail(50)"
   ]
  },
  {
   "cell_type": "markdown",
   "id": "ba44d000-4924-4447-8145-e9b3d0e2c121",
   "metadata": {},
   "source": [
    "In order for those prices to not affect our data analysing we are choosing to evaluate some of them abnormal, any price larger than 5000 dollars per night will be concidered abnormal and so replaced with the mean price."
   ]
  },
  {
   "cell_type": "code",
   "execution_count": 19,
   "id": "5eedb6b3-4d7f-4039-84cf-f8a80615f591",
   "metadata": {},
   "outputs": [],
   "source": [
    "list.loc[(list['price'] >5000), 'price'] = mean_price"
   ]
  },
  {
   "cell_type": "code",
   "execution_count": 20,
   "id": "8d53fdd4-b913-44c0-9544-33b5e25f5b8e",
   "metadata": {},
   "outputs": [],
   "source": [
    "list = list.sort_values(by= 'price', ascending= True)"
   ]
  },
  {
   "cell_type": "code",
   "execution_count": 21,
   "id": "cf1a60db-3f4e-4ef8-8cdb-c52eacaa7b75",
   "metadata": {},
   "outputs": [
    {
     "data": {
      "text/plain": [
       "12128      10.0\n",
       "2350       10.0\n",
       "1008       10.0\n",
       "4188       10.0\n",
       "4202       11.0\n",
       "          ...  \n",
       "4894     2000.0\n",
       "5986     2500.0\n",
       "5432     3051.0\n",
       "2466     4849.0\n",
       "932      5000.0\n",
       "Name: price, Length: 12955, dtype: float64"
      ]
     },
     "execution_count": 21,
     "metadata": {},
     "output_type": "execute_result"
    }
   ],
   "source": [
    "list['price']"
   ]
  },
  {
   "cell_type": "markdown",
   "id": "b94556ac-202c-45af-9932-50afc3de6e8e",
   "metadata": {},
   "source": [
    "Now that we regulated those abnormal prices we expect to find them in the dataframe calendar too, let's check the calendar now."
   ]
  },
  {
   "cell_type": "code",
   "execution_count": 22,
   "id": "f078643a-9079-491d-b012-13d01c3745c4",
   "metadata": {},
   "outputs": [],
   "source": [
    "calendar['price'] = calendar['price'].str.replace('$', '').str.replace(',','').astype(float)"
   ]
  },
  {
   "cell_type": "code",
   "execution_count": 23,
   "id": "e67c227f-5818-45b1-8181-cc1f7fcb784c",
   "metadata": {},
   "outputs": [],
   "source": [
    "calendar['adjusted_price'] = calendar['adjusted_price'].str.replace('$', '').str.replace(',','').astype(float)"
   ]
  },
  {
   "cell_type": "code",
   "execution_count": 24,
   "id": "c43506b8-86ab-43cd-8793-144dd1fd1fce",
   "metadata": {},
   "outputs": [],
   "source": [
    "calendar = calendar.sort_values(by = 'price', ascending = True)"
   ]
  },
  {
   "cell_type": "code",
   "execution_count": 25,
   "id": "0a97ab5b-d160-4ec0-ad74-7ab8ef663f49",
   "metadata": {},
   "outputs": [
    {
     "data": {
      "text/plain": [
       "1403749     0.0\n",
       "1403672     0.0\n",
       "1403673     0.0\n",
       "1403674     0.0\n",
       "1403675     0.0\n",
       "           ... \n",
       "4620126    17.0\n",
       "4492803    17.0\n",
       "372391     18.0\n",
       "2115995    18.0\n",
       "372763     18.0\n",
       "Name: price, Length: 36180, dtype: float64"
      ]
     },
     "execution_count": 25,
     "metadata": {},
     "output_type": "execute_result"
    }
   ],
   "source": [
    "calendar['price'][:36180]"
   ]
  },
  {
   "cell_type": "code",
   "execution_count": 26,
   "id": "9448e90a-aee3-4191-9a25-37f204adacd7",
   "metadata": {},
   "outputs": [
    {
     "data": {
      "text/plain": [
       "2574984     2025.0\n",
       "2574985     2025.0\n",
       "2574986     2025.0\n",
       "2574987     2025.0\n",
       "1037197     2034.0\n",
       "            ...   \n",
       "1313012    85140.0\n",
       "1313013    85140.0\n",
       "1313014    85140.0\n",
       "1313045    85140.0\n",
       "1312993    85140.0\n",
       "Name: price, Length: 23980, dtype: float64"
      ]
     },
     "execution_count": 26,
     "metadata": {},
     "output_type": "execute_result"
    }
   ],
   "source": [
    "calendar['price'].tail(23980)"
   ]
  },
  {
   "cell_type": "markdown",
   "id": "53fc89c7-9180-4fa9-859f-24928f8935dd",
   "metadata": {},
   "source": [
    "Clearly we see the same problem as expected, we need to change all these values with the mean price, so we will make it a string one to replace it, we must be carefull with the prices because we don't want to change any other price, for example any $0.00 dollar wich would probably mean that the airbnb is not available yet for that date or any price such as 67.00 dollars which is a small price but that doesn't mean it is abnormal, because it could be for 2024 so the host keeps it low to book it from now for the profit."
   ]
  },
  {
   "cell_type": "code",
   "execution_count": 27,
   "id": "d9143040-b23d-4931-8e1f-0635fb45820f",
   "metadata": {},
   "outputs": [
    {
     "data": {
      "text/plain": [
       "111.75227121882936"
      ]
     },
     "execution_count": 27,
     "metadata": {},
     "output_type": "execute_result"
    }
   ],
   "source": [
    "mean_price"
   ]
  },
  {
   "cell_type": "code",
   "execution_count": 28,
   "id": "91ba0d18-47c4-4147-afea-4ce1b888989a",
   "metadata": {},
   "outputs": [],
   "source": [
    "calendar.loc[calendar['price'] >5000, 'price'] = mean_price"
   ]
  },
  {
   "cell_type": "markdown",
   "id": "2ca80e81-ddc3-4096-8916-79fc7a2f7908",
   "metadata": {},
   "source": [
    "We will sort them again so the new mean prices find their place in the sorted dataframe. "
   ]
  },
  {
   "cell_type": "code",
   "execution_count": 29,
   "id": "7ccc0419-d845-4172-ad9b-df56f0e574d2",
   "metadata": {},
   "outputs": [],
   "source": [
    "calendar = calendar.sort_values(by = 'price', ascending = True)"
   ]
  },
  {
   "cell_type": "code",
   "execution_count": 30,
   "id": "2095537f-d134-4017-bd95-5ab8c89b4d28",
   "metadata": {},
   "outputs": [
    {
     "data": {
      "text/plain": [
       "1403749       0.0\n",
       "1403639       0.0\n",
       "1403640       0.0\n",
       "1403641       0.0\n",
       "1403642       0.0\n",
       "            ...  \n",
       "4182880    5000.0\n",
       "4182879    5000.0\n",
       "4182878    5000.0\n",
       "4182885    5000.0\n",
       "3019706    5000.0\n",
       "Name: price, Length: 4728229, dtype: float64"
      ]
     },
     "execution_count": 30,
     "metadata": {},
     "output_type": "execute_result"
    }
   ],
   "source": [
    "calendar['price']"
   ]
  },
  {
   "cell_type": "markdown",
   "id": "29c9e06b-8af5-44a6-818e-019a4f2be624",
   "metadata": {},
   "source": [
    "And we will do the same steps for the column: 'adjusted_price'"
   ]
  },
  {
   "cell_type": "code",
   "execution_count": 31,
   "id": "4d234801-f83f-42f9-86ee-f9f62169df4b",
   "metadata": {},
   "outputs": [],
   "source": [
    "calendar.loc[calendar['adjusted_price'] >5000, 'adjusted_price'] = mean_price"
   ]
  },
  {
   "cell_type": "code",
   "execution_count": 32,
   "id": "77ac225a-db94-434f-9bbc-9b44638fafc4",
   "metadata": {},
   "outputs": [],
   "source": [
    "calendar = calendar.sort_values(by = 'adjusted_price', ascending = True)"
   ]
  },
  {
   "cell_type": "code",
   "execution_count": 33,
   "id": "928cc70d-d3cc-4e6b-a947-25125493ca09",
   "metadata": {},
   "outputs": [
    {
     "data": {
      "text/plain": [
       "1403749       0.0\n",
       "1403673       0.0\n",
       "1403674       0.0\n",
       "1403675       0.0\n",
       "1403676       0.0\n",
       "            ...  \n",
       "327258     5000.0\n",
       "327257     5000.0\n",
       "327256     5000.0\n",
       "4182660    5000.0\n",
       "3019706    5000.0\n",
       "Name: adjusted_price, Length: 4728229, dtype: float64"
      ]
     },
     "execution_count": 33,
     "metadata": {},
     "output_type": "execute_result"
    }
   ],
   "source": [
    "calendar['adjusted_price']"
   ]
  },
  {
   "cell_type": "markdown",
   "id": "f7296ea1-4507-4cfa-8f21-d696b81cdaae",
   "metadata": {},
   "source": [
    "Let's check for any NaN values before we move one:"
   ]
  },
  {
   "cell_type": "code",
   "execution_count": 34,
   "id": "2313436d-40cb-4134-b40e-1081ff823ecf",
   "metadata": {},
   "outputs": [
    {
     "data": {
      "text/plain": [
       "False"
      ]
     },
     "execution_count": 34,
     "metadata": {},
     "output_type": "execute_result"
    }
   ],
   "source": [
    "calendar['price'].isna().any()"
   ]
  },
  {
   "cell_type": "code",
   "execution_count": 35,
   "id": "d849a2b7-9a7e-4b33-9cef-b4206db8e267",
   "metadata": {},
   "outputs": [
    {
     "data": {
      "text/plain": [
       "False"
      ]
     },
     "execution_count": 35,
     "metadata": {},
     "output_type": "execute_result"
    }
   ],
   "source": [
    "calendar['adjusted_price'].isna().any()"
   ]
  },
  {
   "cell_type": "markdown",
   "id": "f4e6a03f-7721-4416-b9ae-4ee29366ec41",
   "metadata": {},
   "source": [
    "Now that we changed those abnormal values to mean ones, lets continue to other dataframes."
   ]
  },
  {
   "cell_type": "code",
   "execution_count": 36,
   "id": "7d2b1ec4-4796-4f51-85af-fa51e4ce201f",
   "metadata": {},
   "outputs": [
    {
     "data": {
      "text/html": [
       "<div>\n",
       "<style scoped>\n",
       "    .dataframe tbody tr th:only-of-type {\n",
       "        vertical-align: middle;\n",
       "    }\n",
       "\n",
       "    .dataframe tbody tr th {\n",
       "        vertical-align: top;\n",
       "    }\n",
       "\n",
       "    .dataframe thead th {\n",
       "        text-align: right;\n",
       "    }\n",
       "</style>\n",
       "<table border=\"1\" class=\"dataframe\">\n",
       "  <thead>\n",
       "    <tr style=\"text-align: right;\">\n",
       "      <th></th>\n",
       "      <th>neighbourhood_group</th>\n",
       "      <th>neighbourhood</th>\n",
       "    </tr>\n",
       "  </thead>\n",
       "  <tbody>\n",
       "    <tr>\n",
       "      <th>0</th>\n",
       "      <td>NaN</td>\n",
       "      <td>1Ο ΝΕΚΡΟΤΑΦΕΙΟ</td>\n",
       "    </tr>\n",
       "    <tr>\n",
       "      <th>1</th>\n",
       "      <td>NaN</td>\n",
       "      <td>ΑΓΙΟΣ ΕΛΕΥΘΕΡΙΟΣ</td>\n",
       "    </tr>\n",
       "    <tr>\n",
       "      <th>2</th>\n",
       "      <td>NaN</td>\n",
       "      <td>ΑΓΙΟΣ ΚΩΝΣΤΑΝΤΙΝΟΣ-ΠΛΑΤΕΙΑ ΒΑΘΗΣ</td>\n",
       "    </tr>\n",
       "    <tr>\n",
       "      <th>3</th>\n",
       "      <td>NaN</td>\n",
       "      <td>ΑΓΙΟΣ ΝΙΚΟΛΑΟΣ</td>\n",
       "    </tr>\n",
       "    <tr>\n",
       "      <th>4</th>\n",
       "      <td>NaN</td>\n",
       "      <td>ΑΚΑΔΗΜΙΑ ΠΛΑΤΩΝΟΣ</td>\n",
       "    </tr>\n",
       "    <tr>\n",
       "      <th>5</th>\n",
       "      <td>NaN</td>\n",
       "      <td>ΑΚΡΟΠΟΛΗ</td>\n",
       "    </tr>\n",
       "    <tr>\n",
       "      <th>6</th>\n",
       "      <td>NaN</td>\n",
       "      <td>ΑΜΠΕΛΟΚΗΠΟΙ</td>\n",
       "    </tr>\n",
       "    <tr>\n",
       "      <th>7</th>\n",
       "      <td>NaN</td>\n",
       "      <td>ΑΝΩ ΚΥΨΕΛΗ</td>\n",
       "    </tr>\n",
       "    <tr>\n",
       "      <th>8</th>\n",
       "      <td>NaN</td>\n",
       "      <td>ΑΝΩ ΠΑΤΗΣΙΑ</td>\n",
       "    </tr>\n",
       "    <tr>\n",
       "      <th>9</th>\n",
       "      <td>NaN</td>\n",
       "      <td>ΒΟΤΑΝΙΚΟΣ</td>\n",
       "    </tr>\n",
       "    <tr>\n",
       "      <th>10</th>\n",
       "      <td>NaN</td>\n",
       "      <td>ΓΚΑΖΙ</td>\n",
       "    </tr>\n",
       "    <tr>\n",
       "      <th>11</th>\n",
       "      <td>NaN</td>\n",
       "      <td>ΓΚΥΖΗ</td>\n",
       "    </tr>\n",
       "    <tr>\n",
       "      <th>12</th>\n",
       "      <td>NaN</td>\n",
       "      <td>ΓΟΥΒΑ</td>\n",
       "    </tr>\n",
       "    <tr>\n",
       "      <th>13</th>\n",
       "      <td>NaN</td>\n",
       "      <td>ΓΟΥΔΙ</td>\n",
       "    </tr>\n",
       "    <tr>\n",
       "      <th>14</th>\n",
       "      <td>NaN</td>\n",
       "      <td>ΕΛΛΗΝΟΡΩΣΩΝ</td>\n",
       "    </tr>\n",
       "    <tr>\n",
       "      <th>15</th>\n",
       "      <td>NaN</td>\n",
       "      <td>ΕΜΠΟΡΙΚΟ ΤΡΙΓΩΝΟ-ΠΛΑΚΑ</td>\n",
       "    </tr>\n",
       "    <tr>\n",
       "      <th>16</th>\n",
       "      <td>NaN</td>\n",
       "      <td>ΖΑΠΠΕΙΟ</td>\n",
       "    </tr>\n",
       "    <tr>\n",
       "      <th>17</th>\n",
       "      <td>NaN</td>\n",
       "      <td>ΘΗΣΕΙΟ</td>\n",
       "    </tr>\n",
       "    <tr>\n",
       "      <th>18</th>\n",
       "      <td>NaN</td>\n",
       "      <td>ΙΛΙΣΙΑ</td>\n",
       "    </tr>\n",
       "    <tr>\n",
       "      <th>19</th>\n",
       "      <td>NaN</td>\n",
       "      <td>ΚΕΡΑΜΕΙΚΟΣ</td>\n",
       "    </tr>\n",
       "    <tr>\n",
       "      <th>20</th>\n",
       "      <td>NaN</td>\n",
       "      <td>ΚΟΛΟΚΥΝΘΟΥ</td>\n",
       "    </tr>\n",
       "    <tr>\n",
       "      <th>21</th>\n",
       "      <td>NaN</td>\n",
       "      <td>ΚΟΛΩΝΑΚΙ</td>\n",
       "    </tr>\n",
       "    <tr>\n",
       "      <th>22</th>\n",
       "      <td>NaN</td>\n",
       "      <td>ΚΟΛΩΝΟΣ</td>\n",
       "    </tr>\n",
       "    <tr>\n",
       "      <th>23</th>\n",
       "      <td>NaN</td>\n",
       "      <td>ΚΟΥΚΑΚΙ-ΜΑΚΡΥΓΙΑΝΝΗ</td>\n",
       "    </tr>\n",
       "    <tr>\n",
       "      <th>24</th>\n",
       "      <td>NaN</td>\n",
       "      <td>ΚΥΨΕΛΗ</td>\n",
       "    </tr>\n",
       "    <tr>\n",
       "      <th>25</th>\n",
       "      <td>NaN</td>\n",
       "      <td>ΛΥΚΑΒΗΤΤΟΣ</td>\n",
       "    </tr>\n",
       "    <tr>\n",
       "      <th>26</th>\n",
       "      <td>NaN</td>\n",
       "      <td>ΜΟΥΣΕΙΟ-ΕΞΑΡΧΕΙΑ-ΝΕΑΠΟΛΗ</td>\n",
       "    </tr>\n",
       "    <tr>\n",
       "      <th>27</th>\n",
       "      <td>NaN</td>\n",
       "      <td>ΝΕΑ ΚΥΨΕΛΗ</td>\n",
       "    </tr>\n",
       "    <tr>\n",
       "      <th>28</th>\n",
       "      <td>NaN</td>\n",
       "      <td>ΝΕΟΣ ΚΟΣΜΟΣ</td>\n",
       "    </tr>\n",
       "    <tr>\n",
       "      <th>29</th>\n",
       "      <td>NaN</td>\n",
       "      <td>ΝΙΡΒΑΝΑ</td>\n",
       "    </tr>\n",
       "    <tr>\n",
       "      <th>30</th>\n",
       "      <td>NaN</td>\n",
       "      <td>ΠΑΓΚΡΑΤΙ</td>\n",
       "    </tr>\n",
       "    <tr>\n",
       "      <th>31</th>\n",
       "      <td>NaN</td>\n",
       "      <td>ΠΑΤΗΣΙΑ</td>\n",
       "    </tr>\n",
       "    <tr>\n",
       "      <th>32</th>\n",
       "      <td>NaN</td>\n",
       "      <td>ΠΕΔΙΟ ΑΡΕΩΣ</td>\n",
       "    </tr>\n",
       "    <tr>\n",
       "      <th>33</th>\n",
       "      <td>NaN</td>\n",
       "      <td>ΠΕΝΤΑΓΩΝΟ</td>\n",
       "    </tr>\n",
       "    <tr>\n",
       "      <th>34</th>\n",
       "      <td>NaN</td>\n",
       "      <td>ΠΕΤΡΑΛΩΝΑ</td>\n",
       "    </tr>\n",
       "    <tr>\n",
       "      <th>35</th>\n",
       "      <td>NaN</td>\n",
       "      <td>ΠΛΑΤΕΙΑ ΑΜΕΡΙΚΗΣ</td>\n",
       "    </tr>\n",
       "    <tr>\n",
       "      <th>36</th>\n",
       "      <td>NaN</td>\n",
       "      <td>ΠΛΑΤΕΙΑ ΑΤΤΙΚΗΣ</td>\n",
       "    </tr>\n",
       "    <tr>\n",
       "      <th>37</th>\n",
       "      <td>NaN</td>\n",
       "      <td>ΠΟΛΥΓΩΝΟ</td>\n",
       "    </tr>\n",
       "    <tr>\n",
       "      <th>38</th>\n",
       "      <td>NaN</td>\n",
       "      <td>ΠΡΟΜΠΟΝΑ</td>\n",
       "    </tr>\n",
       "    <tr>\n",
       "      <th>39</th>\n",
       "      <td>NaN</td>\n",
       "      <td>ΡΗΓΙΛΛΗΣ</td>\n",
       "    </tr>\n",
       "    <tr>\n",
       "      <th>40</th>\n",
       "      <td>NaN</td>\n",
       "      <td>ΡΙΖΟΥΠΟΛΗ</td>\n",
       "    </tr>\n",
       "    <tr>\n",
       "      <th>41</th>\n",
       "      <td>NaN</td>\n",
       "      <td>ΡΟΥΦ</td>\n",
       "    </tr>\n",
       "    <tr>\n",
       "      <th>42</th>\n",
       "      <td>NaN</td>\n",
       "      <td>ΣΕΠΟΛΙΑ</td>\n",
       "    </tr>\n",
       "    <tr>\n",
       "      <th>43</th>\n",
       "      <td>NaN</td>\n",
       "      <td>ΣΤΑΔΙΟ</td>\n",
       "    </tr>\n",
       "    <tr>\n",
       "      <th>44</th>\n",
       "      <td>NaN</td>\n",
       "      <td>ΣΤΑΘΜΟΣ ΛΑΡΙΣΗΣ</td>\n",
       "    </tr>\n",
       "  </tbody>\n",
       "</table>\n",
       "</div>"
      ],
      "text/plain": [
       "    neighbourhood_group                     neighbourhood\n",
       "0                   NaN                    1Ο ΝΕΚΡΟΤΑΦΕΙΟ\n",
       "1                   NaN                  ΑΓΙΟΣ ΕΛΕΥΘΕΡΙΟΣ\n",
       "2                   NaN  ΑΓΙΟΣ ΚΩΝΣΤΑΝΤΙΝΟΣ-ΠΛΑΤΕΙΑ ΒΑΘΗΣ\n",
       "3                   NaN                    ΑΓΙΟΣ ΝΙΚΟΛΑΟΣ\n",
       "4                   NaN                 ΑΚΑΔΗΜΙΑ ΠΛΑΤΩΝΟΣ\n",
       "5                   NaN                          ΑΚΡΟΠΟΛΗ\n",
       "6                   NaN                       ΑΜΠΕΛΟΚΗΠΟΙ\n",
       "7                   NaN                        ΑΝΩ ΚΥΨΕΛΗ\n",
       "8                   NaN                       ΑΝΩ ΠΑΤΗΣΙΑ\n",
       "9                   NaN                         ΒΟΤΑΝΙΚΟΣ\n",
       "10                  NaN                             ΓΚΑΖΙ\n",
       "11                  NaN                             ΓΚΥΖΗ\n",
       "12                  NaN                             ΓΟΥΒΑ\n",
       "13                  NaN                             ΓΟΥΔΙ\n",
       "14                  NaN                       ΕΛΛΗΝΟΡΩΣΩΝ\n",
       "15                  NaN            ΕΜΠΟΡΙΚΟ ΤΡΙΓΩΝΟ-ΠΛΑΚΑ\n",
       "16                  NaN                           ΖΑΠΠΕΙΟ\n",
       "17                  NaN                            ΘΗΣΕΙΟ\n",
       "18                  NaN                            ΙΛΙΣΙΑ\n",
       "19                  NaN                        ΚΕΡΑΜΕΙΚΟΣ\n",
       "20                  NaN                        ΚΟΛΟΚΥΝΘΟΥ\n",
       "21                  NaN                          ΚΟΛΩΝΑΚΙ\n",
       "22                  NaN                           ΚΟΛΩΝΟΣ\n",
       "23                  NaN               ΚΟΥΚΑΚΙ-ΜΑΚΡΥΓΙΑΝΝΗ\n",
       "24                  NaN                            ΚΥΨΕΛΗ\n",
       "25                  NaN                        ΛΥΚΑΒΗΤΤΟΣ\n",
       "26                  NaN          ΜΟΥΣΕΙΟ-ΕΞΑΡΧΕΙΑ-ΝΕΑΠΟΛΗ\n",
       "27                  NaN                        ΝΕΑ ΚΥΨΕΛΗ\n",
       "28                  NaN                       ΝΕΟΣ ΚΟΣΜΟΣ\n",
       "29                  NaN                           ΝΙΡΒΑΝΑ\n",
       "30                  NaN                          ΠΑΓΚΡΑΤΙ\n",
       "31                  NaN                           ΠΑΤΗΣΙΑ\n",
       "32                  NaN                       ΠΕΔΙΟ ΑΡΕΩΣ\n",
       "33                  NaN                         ΠΕΝΤΑΓΩΝΟ\n",
       "34                  NaN                         ΠΕΤΡΑΛΩΝΑ\n",
       "35                  NaN                  ΠΛΑΤΕΙΑ ΑΜΕΡΙΚΗΣ\n",
       "36                  NaN                   ΠΛΑΤΕΙΑ ΑΤΤΙΚΗΣ\n",
       "37                  NaN                          ΠΟΛΥΓΩΝΟ\n",
       "38                  NaN                          ΠΡΟΜΠΟΝΑ\n",
       "39                  NaN                          ΡΗΓΙΛΛΗΣ\n",
       "40                  NaN                         ΡΙΖΟΥΠΟΛΗ\n",
       "41                  NaN                              ΡΟΥΦ\n",
       "42                  NaN                           ΣΕΠΟΛΙΑ\n",
       "43                  NaN                            ΣΤΑΔΙΟ\n",
       "44                  NaN                   ΣΤΑΘΜΟΣ ΛΑΡΙΣΗΣ"
      ]
     },
     "execution_count": 36,
     "metadata": {},
     "output_type": "execute_result"
    }
   ],
   "source": [
    "nbh"
   ]
  },
  {
   "cell_type": "markdown",
   "id": "6bb39887-7d8b-435a-964a-e055fdb8d935",
   "metadata": {},
   "source": [
    "All the neighbourhoods seem to be fine, it doesnt have all of them though as someone might expect, those are not all the neighbourhoods in Athens with Airbnbs, a lot of them are missing, lets go to another dataframe."
   ]
  },
  {
   "cell_type": "code",
   "execution_count": 37,
   "id": "65d060e1-5a2e-4e8e-99a1-5b96eb0050ef",
   "metadata": {},
   "outputs": [
    {
     "data": {
      "text/html": [
       "<div>\n",
       "<style scoped>\n",
       "    .dataframe tbody tr th:only-of-type {\n",
       "        vertical-align: middle;\n",
       "    }\n",
       "\n",
       "    .dataframe tbody tr th {\n",
       "        vertical-align: top;\n",
       "    }\n",
       "\n",
       "    .dataframe thead th {\n",
       "        text-align: right;\n",
       "    }\n",
       "</style>\n",
       "<table border=\"1\" class=\"dataframe\">\n",
       "  <thead>\n",
       "    <tr style=\"text-align: right;\">\n",
       "      <th></th>\n",
       "      <th>listing_id</th>\n",
       "      <th>id</th>\n",
       "      <th>date</th>\n",
       "      <th>reviewer_id</th>\n",
       "      <th>reviewer_name</th>\n",
       "      <th>comments</th>\n",
       "    </tr>\n",
       "  </thead>\n",
       "  <tbody>\n",
       "    <tr>\n",
       "      <th>0</th>\n",
       "      <td>10595</td>\n",
       "      <td>271535</td>\n",
       "      <td>2011-05-20</td>\n",
       "      <td>189305</td>\n",
       "      <td>Pamela</td>\n",
       "      <td>The apartment was wonderful, fully equiped, be...</td>\n",
       "    </tr>\n",
       "    <tr>\n",
       "      <th>1</th>\n",
       "      <td>10595</td>\n",
       "      <td>1994237</td>\n",
       "      <td>2012-08-15</td>\n",
       "      <td>289831</td>\n",
       "      <td>Andrey</td>\n",
       "      <td>Emmanouil was an excellent host. He provided u...</td>\n",
       "    </tr>\n",
       "    <tr>\n",
       "      <th>2</th>\n",
       "      <td>10595</td>\n",
       "      <td>4678609</td>\n",
       "      <td>2013-05-20</td>\n",
       "      <td>2635427</td>\n",
       "      <td>Ahmet</td>\n",
       "      <td>Manos is a very good host, he is kind and help...</td>\n",
       "    </tr>\n",
       "    <tr>\n",
       "      <th>3</th>\n",
       "      <td>10595</td>\n",
       "      <td>12502994</td>\n",
       "      <td>2014-05-04</td>\n",
       "      <td>2422327</td>\n",
       "      <td>Hema</td>\n",
       "      <td>Our stay in Emmanouil home was comfortable, qu...</td>\n",
       "    </tr>\n",
       "    <tr>\n",
       "      <th>4</th>\n",
       "      <td>10595</td>\n",
       "      <td>19482948</td>\n",
       "      <td>2014-09-13</td>\n",
       "      <td>6737784</td>\n",
       "      <td>Mariana</td>\n",
       "      <td>Fantastic accommodation very well located to v...</td>\n",
       "    </tr>\n",
       "    <tr>\n",
       "      <th>...</th>\n",
       "      <td>...</td>\n",
       "      <td>...</td>\n",
       "      <td>...</td>\n",
       "      <td>...</td>\n",
       "      <td>...</td>\n",
       "      <td>...</td>\n",
       "    </tr>\n",
       "    <tr>\n",
       "      <th>630573</th>\n",
       "      <td>975966554881091774</td>\n",
       "      <td>979517013920189393</td>\n",
       "      <td>2023-09-13</td>\n",
       "      <td>30142078</td>\n",
       "      <td>Ogan</td>\n",
       "      <td>Nice location, good cleaning service. Room get...</td>\n",
       "    </tr>\n",
       "    <tr>\n",
       "      <th>630574</th>\n",
       "      <td>976076532701121190</td>\n",
       "      <td>981716147162450311</td>\n",
       "      <td>2023-09-16</td>\n",
       "      <td>456119105</td>\n",
       "      <td>Walter</td>\n",
       "      <td>Ci siamo trovati molto bene, lei è stata molto...</td>\n",
       "    </tr>\n",
       "    <tr>\n",
       "      <th>630575</th>\n",
       "      <td>977373669051180593</td>\n",
       "      <td>981028500969444691</td>\n",
       "      <td>2023-09-15</td>\n",
       "      <td>506847475</td>\n",
       "      <td>Timothy</td>\n",
       "      <td>Es ist eine super schöne Wohnung, perfekt gele...</td>\n",
       "    </tr>\n",
       "    <tr>\n",
       "      <th>630576</th>\n",
       "      <td>977373669051180593</td>\n",
       "      <td>984569298719800410</td>\n",
       "      <td>2023-09-20</td>\n",
       "      <td>8366675</td>\n",
       "      <td>Rosie</td>\n",
       "      <td>Zavass et son épouse sont très aimables. &lt;br/&gt;...</td>\n",
       "    </tr>\n",
       "    <tr>\n",
       "      <th>630577</th>\n",
       "      <td>979596287508787842</td>\n",
       "      <td>983170191935975439</td>\n",
       "      <td>2023-09-18</td>\n",
       "      <td>126402205</td>\n",
       "      <td>Alex</td>\n",
       "      <td>Amazing little gem. It is perfect for solo tra...</td>\n",
       "    </tr>\n",
       "  </tbody>\n",
       "</table>\n",
       "<p>630578 rows × 6 columns</p>\n",
       "</div>"
      ],
      "text/plain": [
       "                listing_id                  id        date  reviewer_id  \\\n",
       "0                    10595              271535  2011-05-20       189305   \n",
       "1                    10595             1994237  2012-08-15       289831   \n",
       "2                    10595             4678609  2013-05-20      2635427   \n",
       "3                    10595            12502994  2014-05-04      2422327   \n",
       "4                    10595            19482948  2014-09-13      6737784   \n",
       "...                    ...                 ...         ...          ...   \n",
       "630573  975966554881091774  979517013920189393  2023-09-13     30142078   \n",
       "630574  976076532701121190  981716147162450311  2023-09-16    456119105   \n",
       "630575  977373669051180593  981028500969444691  2023-09-15    506847475   \n",
       "630576  977373669051180593  984569298719800410  2023-09-20      8366675   \n",
       "630577  979596287508787842  983170191935975439  2023-09-18    126402205   \n",
       "\n",
       "       reviewer_name                                           comments  \n",
       "0             Pamela  The apartment was wonderful, fully equiped, be...  \n",
       "1             Andrey  Emmanouil was an excellent host. He provided u...  \n",
       "2              Ahmet  Manos is a very good host, he is kind and help...  \n",
       "3               Hema  Our stay in Emmanouil home was comfortable, qu...  \n",
       "4            Mariana  Fantastic accommodation very well located to v...  \n",
       "...              ...                                                ...  \n",
       "630573          Ogan  Nice location, good cleaning service. Room get...  \n",
       "630574        Walter  Ci siamo trovati molto bene, lei è stata molto...  \n",
       "630575       Timothy  Es ist eine super schöne Wohnung, perfekt gele...  \n",
       "630576         Rosie  Zavass et son épouse sont très aimables. <br/>...  \n",
       "630577          Alex  Amazing little gem. It is perfect for solo tra...  \n",
       "\n",
       "[630578 rows x 6 columns]"
      ]
     },
     "execution_count": 37,
     "metadata": {},
     "output_type": "execute_result"
    }
   ],
   "source": [
    "reviews"
   ]
  },
  {
   "cell_type": "markdown",
   "id": "31dd458c-fd35-424c-b45a-eeabbfc76f84",
   "metadata": {},
   "source": [
    "Everything seems to work fine."
   ]
  },
  {
   "cell_type": "markdown",
   "id": "034d1e96-cf75-4983-85e7-3d79665ecc66",
   "metadata": {},
   "source": [
    "## Q1: Neighbourhood Listings in Descending Order"
   ]
  },
  {
   "cell_type": "markdown",
   "id": "32571718-fcf1-404f-900b-96ed9d5ea6d8",
   "metadata": {},
   "source": [
    "In our first step we want to analyse how many airbnbs are exactly in each neighbourhood and place them in a descending order so as to know which locations are more popular than others."
   ]
  },
  {
   "cell_type": "markdown",
   "id": "b67b4069-4854-43cd-bc5f-f34a792f571f",
   "metadata": {},
   "source": [
    "For this cause we will use the list dataframe with the column: 'neighbourhood_cleansed' which has all the neighbourhoods cleaned and ready to use! "
   ]
  },
  {
   "cell_type": "code",
   "execution_count": 38,
   "id": "b961a407-b6f5-487f-8020-2c27ce938934",
   "metadata": {},
   "outputs": [],
   "source": [
    "Listings_Per_Neighbourhood = list['neighbourhood_cleansed'].value_counts().reset_index()"
   ]
  },
  {
   "cell_type": "code",
   "execution_count": 39,
   "id": "81c5fb52-0d5b-4e93-af6d-82cfc3e26999",
   "metadata": {},
   "outputs": [],
   "source": [
    "Listings_Per_Neighbourhood.columns = ['Neighbourhood', 'Listings Count']"
   ]
  },
  {
   "cell_type": "code",
   "execution_count": 40,
   "id": "318f31fa-1e23-465d-ac89-8f414abb4eaf",
   "metadata": {},
   "outputs": [],
   "source": [
    "Listings_Per_Neighbourhood = Listings_Per_Neighbourhood.sort_values(by='Listings Count', ascending=False)"
   ]
  },
  {
   "cell_type": "code",
   "execution_count": 41,
   "id": "5ea3cdf0-bc0d-4cdb-b12c-72b5c97e5e93",
   "metadata": {},
   "outputs": [
    {
     "data": {
      "text/html": [
       "<div>\n",
       "<style scoped>\n",
       "    .dataframe tbody tr th:only-of-type {\n",
       "        vertical-align: middle;\n",
       "    }\n",
       "\n",
       "    .dataframe tbody tr th {\n",
       "        vertical-align: top;\n",
       "    }\n",
       "\n",
       "    .dataframe thead th {\n",
       "        text-align: right;\n",
       "    }\n",
       "</style>\n",
       "<table border=\"1\" class=\"dataframe\">\n",
       "  <thead>\n",
       "    <tr style=\"text-align: right;\">\n",
       "      <th></th>\n",
       "      <th>Neighbourhood</th>\n",
       "      <th>Listings Count</th>\n",
       "    </tr>\n",
       "  </thead>\n",
       "  <tbody>\n",
       "    <tr>\n",
       "      <th>0</th>\n",
       "      <td>ΕΜΠΟΡΙΚΟ ΤΡΙΓΩΝΟ-ΠΛΑΚΑ</td>\n",
       "      <td>2416</td>\n",
       "    </tr>\n",
       "    <tr>\n",
       "      <th>1</th>\n",
       "      <td>ΚΟΥΚΑΚΙ-ΜΑΚΡΥΓΙΑΝΝΗ</td>\n",
       "      <td>1122</td>\n",
       "    </tr>\n",
       "    <tr>\n",
       "      <th>2</th>\n",
       "      <td>ΝΕΟΣ ΚΟΣΜΟΣ</td>\n",
       "      <td>980</td>\n",
       "    </tr>\n",
       "    <tr>\n",
       "      <th>3</th>\n",
       "      <td>ΜΟΥΣΕΙΟ-ΕΞΑΡΧΕΙΑ-ΝΕΑΠΟΛΗ</td>\n",
       "      <td>979</td>\n",
       "    </tr>\n",
       "    <tr>\n",
       "      <th>4</th>\n",
       "      <td>ΑΓΙΟΣ ΚΩΝΣΤΑΝΤΙΝΟΣ-ΠΛΑΤΕΙΑ ΒΑΘΗΣ</td>\n",
       "      <td>817</td>\n",
       "    </tr>\n",
       "    <tr>\n",
       "      <th>5</th>\n",
       "      <td>ΠΛΑΤΕΙΑ ΑΤΤΙΚΗΣ</td>\n",
       "      <td>583</td>\n",
       "    </tr>\n",
       "    <tr>\n",
       "      <th>6</th>\n",
       "      <td>ΠΑΓΚΡΑΤΙ</td>\n",
       "      <td>511</td>\n",
       "    </tr>\n",
       "    <tr>\n",
       "      <th>7</th>\n",
       "      <td>ΑΜΠΕΛΟΚΗΠΟΙ</td>\n",
       "      <td>452</td>\n",
       "    </tr>\n",
       "    <tr>\n",
       "      <th>8</th>\n",
       "      <td>ΚΟΛΩΝΑΚΙ</td>\n",
       "      <td>425</td>\n",
       "    </tr>\n",
       "    <tr>\n",
       "      <th>9</th>\n",
       "      <td>ΑΚΡΟΠΟΛΗ</td>\n",
       "      <td>386</td>\n",
       "    </tr>\n",
       "    <tr>\n",
       "      <th>10</th>\n",
       "      <td>ΘΗΣΕΙΟ</td>\n",
       "      <td>386</td>\n",
       "    </tr>\n",
       "    <tr>\n",
       "      <th>11</th>\n",
       "      <td>ΠΕΤΡΑΛΩΝΑ</td>\n",
       "      <td>352</td>\n",
       "    </tr>\n",
       "    <tr>\n",
       "      <th>12</th>\n",
       "      <td>ΚΕΡΑΜΕΙΚΟΣ</td>\n",
       "      <td>343</td>\n",
       "    </tr>\n",
       "    <tr>\n",
       "      <th>13</th>\n",
       "      <td>ΚΥΨΕΛΗ</td>\n",
       "      <td>271</td>\n",
       "    </tr>\n",
       "    <tr>\n",
       "      <th>14</th>\n",
       "      <td>ΣΤΑΔΙΟ</td>\n",
       "      <td>252</td>\n",
       "    </tr>\n",
       "    <tr>\n",
       "      <th>15</th>\n",
       "      <td>ΓΟΥΔΙ</td>\n",
       "      <td>230</td>\n",
       "    </tr>\n",
       "    <tr>\n",
       "      <th>16</th>\n",
       "      <td>ΙΛΙΣΙΑ</td>\n",
       "      <td>216</td>\n",
       "    </tr>\n",
       "    <tr>\n",
       "      <th>17</th>\n",
       "      <td>ΠΛΑΤΕΙΑ ΑΜΕΡΙΚΗΣ</td>\n",
       "      <td>180</td>\n",
       "    </tr>\n",
       "    <tr>\n",
       "      <th>18</th>\n",
       "      <td>ΝΙΡΒΑΝΑ</td>\n",
       "      <td>174</td>\n",
       "    </tr>\n",
       "    <tr>\n",
       "      <th>19</th>\n",
       "      <td>ΠΑΤΗΣΙΑ</td>\n",
       "      <td>166</td>\n",
       "    </tr>\n",
       "    <tr>\n",
       "      <th>20</th>\n",
       "      <td>ΛΥΚΑΒΗΤΤΟΣ</td>\n",
       "      <td>162</td>\n",
       "    </tr>\n",
       "    <tr>\n",
       "      <th>21</th>\n",
       "      <td>ΖΑΠΠΕΙΟ</td>\n",
       "      <td>161</td>\n",
       "    </tr>\n",
       "    <tr>\n",
       "      <th>22</th>\n",
       "      <td>ΑΝΩ ΚΥΨΕΛΗ</td>\n",
       "      <td>119</td>\n",
       "    </tr>\n",
       "    <tr>\n",
       "      <th>23</th>\n",
       "      <td>ΓΚΥΖΗ</td>\n",
       "      <td>118</td>\n",
       "    </tr>\n",
       "    <tr>\n",
       "      <th>24</th>\n",
       "      <td>ΠΕΔΙΟ ΑΡΕΩΣ</td>\n",
       "      <td>109</td>\n",
       "    </tr>\n",
       "    <tr>\n",
       "      <th>25</th>\n",
       "      <td>ΚΟΛΩΝΟΣ</td>\n",
       "      <td>108</td>\n",
       "    </tr>\n",
       "    <tr>\n",
       "      <th>26</th>\n",
       "      <td>ΓΚΑΖΙ</td>\n",
       "      <td>106</td>\n",
       "    </tr>\n",
       "    <tr>\n",
       "      <th>27</th>\n",
       "      <td>ΑΓΙΟΣ ΝΙΚΟΛΑΟΣ</td>\n",
       "      <td>99</td>\n",
       "    </tr>\n",
       "    <tr>\n",
       "      <th>28</th>\n",
       "      <td>ΣΤΑΘΜΟΣ ΛΑΡΙΣΗΣ</td>\n",
       "      <td>85</td>\n",
       "    </tr>\n",
       "    <tr>\n",
       "      <th>29</th>\n",
       "      <td>ΒΟΤΑΝΙΚΟΣ</td>\n",
       "      <td>80</td>\n",
       "    </tr>\n",
       "    <tr>\n",
       "      <th>30</th>\n",
       "      <td>ΑΚΑΔΗΜΙΑ ΠΛΑΤΩΝΟΣ</td>\n",
       "      <td>76</td>\n",
       "    </tr>\n",
       "    <tr>\n",
       "      <th>31</th>\n",
       "      <td>ΓΟΥΒΑ</td>\n",
       "      <td>75</td>\n",
       "    </tr>\n",
       "    <tr>\n",
       "      <th>32</th>\n",
       "      <td>ΕΛΛΗΝΟΡΩΣΩΝ</td>\n",
       "      <td>73</td>\n",
       "    </tr>\n",
       "    <tr>\n",
       "      <th>34</th>\n",
       "      <td>ΝΕΑ ΚΥΨΕΛΗ</td>\n",
       "      <td>64</td>\n",
       "    </tr>\n",
       "    <tr>\n",
       "      <th>33</th>\n",
       "      <td>ΑΝΩ ΠΑΤΗΣΙΑ</td>\n",
       "      <td>64</td>\n",
       "    </tr>\n",
       "    <tr>\n",
       "      <th>35</th>\n",
       "      <td>1Ο ΝΕΚΡΟΤΑΦΕΙΟ</td>\n",
       "      <td>55</td>\n",
       "    </tr>\n",
       "    <tr>\n",
       "      <th>36</th>\n",
       "      <td>ΣΕΠΟΛΙΑ</td>\n",
       "      <td>45</td>\n",
       "    </tr>\n",
       "    <tr>\n",
       "      <th>37</th>\n",
       "      <td>ΑΓΙΟΣ ΕΛΕΥΘΕΡΙΟΣ</td>\n",
       "      <td>38</td>\n",
       "    </tr>\n",
       "    <tr>\n",
       "      <th>38</th>\n",
       "      <td>ΠΟΛΥΓΩΝΟ</td>\n",
       "      <td>29</td>\n",
       "    </tr>\n",
       "    <tr>\n",
       "      <th>39</th>\n",
       "      <td>ΚΟΛΟΚΥΝΘΟΥ</td>\n",
       "      <td>16</td>\n",
       "    </tr>\n",
       "    <tr>\n",
       "      <th>40</th>\n",
       "      <td>ΡΙΖΟΥΠΟΛΗ</td>\n",
       "      <td>13</td>\n",
       "    </tr>\n",
       "    <tr>\n",
       "      <th>41</th>\n",
       "      <td>ΠΡΟΜΠΟΝΑ</td>\n",
       "      <td>12</td>\n",
       "    </tr>\n",
       "    <tr>\n",
       "      <th>42</th>\n",
       "      <td>ΡΗΓΙΛΛΗΣ</td>\n",
       "      <td>5</td>\n",
       "    </tr>\n",
       "    <tr>\n",
       "      <th>43</th>\n",
       "      <td>ΠΕΝΤΑΓΩΝΟ</td>\n",
       "      <td>2</td>\n",
       "    </tr>\n",
       "  </tbody>\n",
       "</table>\n",
       "</div>"
      ],
      "text/plain": [
       "                       Neighbourhood  Listings Count\n",
       "0             ΕΜΠΟΡΙΚΟ ΤΡΙΓΩΝΟ-ΠΛΑΚΑ            2416\n",
       "1                ΚΟΥΚΑΚΙ-ΜΑΚΡΥΓΙΑΝΝΗ            1122\n",
       "2                        ΝΕΟΣ ΚΟΣΜΟΣ             980\n",
       "3           ΜΟΥΣΕΙΟ-ΕΞΑΡΧΕΙΑ-ΝΕΑΠΟΛΗ             979\n",
       "4   ΑΓΙΟΣ ΚΩΝΣΤΑΝΤΙΝΟΣ-ΠΛΑΤΕΙΑ ΒΑΘΗΣ             817\n",
       "5                    ΠΛΑΤΕΙΑ ΑΤΤΙΚΗΣ             583\n",
       "6                           ΠΑΓΚΡΑΤΙ             511\n",
       "7                        ΑΜΠΕΛΟΚΗΠΟΙ             452\n",
       "8                           ΚΟΛΩΝΑΚΙ             425\n",
       "9                           ΑΚΡΟΠΟΛΗ             386\n",
       "10                            ΘΗΣΕΙΟ             386\n",
       "11                         ΠΕΤΡΑΛΩΝΑ             352\n",
       "12                        ΚΕΡΑΜΕΙΚΟΣ             343\n",
       "13                            ΚΥΨΕΛΗ             271\n",
       "14                            ΣΤΑΔΙΟ             252\n",
       "15                             ΓΟΥΔΙ             230\n",
       "16                            ΙΛΙΣΙΑ             216\n",
       "17                  ΠΛΑΤΕΙΑ ΑΜΕΡΙΚΗΣ             180\n",
       "18                           ΝΙΡΒΑΝΑ             174\n",
       "19                           ΠΑΤΗΣΙΑ             166\n",
       "20                        ΛΥΚΑΒΗΤΤΟΣ             162\n",
       "21                           ΖΑΠΠΕΙΟ             161\n",
       "22                        ΑΝΩ ΚΥΨΕΛΗ             119\n",
       "23                             ΓΚΥΖΗ             118\n",
       "24                       ΠΕΔΙΟ ΑΡΕΩΣ             109\n",
       "25                           ΚΟΛΩΝΟΣ             108\n",
       "26                             ΓΚΑΖΙ             106\n",
       "27                    ΑΓΙΟΣ ΝΙΚΟΛΑΟΣ              99\n",
       "28                   ΣΤΑΘΜΟΣ ΛΑΡΙΣΗΣ              85\n",
       "29                         ΒΟΤΑΝΙΚΟΣ              80\n",
       "30                 ΑΚΑΔΗΜΙΑ ΠΛΑΤΩΝΟΣ              76\n",
       "31                             ΓΟΥΒΑ              75\n",
       "32                       ΕΛΛΗΝΟΡΩΣΩΝ              73\n",
       "34                        ΝΕΑ ΚΥΨΕΛΗ              64\n",
       "33                       ΑΝΩ ΠΑΤΗΣΙΑ              64\n",
       "35                    1Ο ΝΕΚΡΟΤΑΦΕΙΟ              55\n",
       "36                           ΣΕΠΟΛΙΑ              45\n",
       "37                  ΑΓΙΟΣ ΕΛΕΥΘΕΡΙΟΣ              38\n",
       "38                          ΠΟΛΥΓΩΝΟ              29\n",
       "39                        ΚΟΛΟΚΥΝΘΟΥ              16\n",
       "40                         ΡΙΖΟΥΠΟΛΗ              13\n",
       "41                          ΠΡΟΜΠΟΝΑ              12\n",
       "42                          ΡΗΓΙΛΛΗΣ               5\n",
       "43                         ΠΕΝΤΑΓΩΝΟ               2"
      ]
     },
     "execution_count": 41,
     "metadata": {},
     "output_type": "execute_result"
    }
   ],
   "source": [
    "Listings_Per_Neighbourhood"
   ]
  },
  {
   "cell_type": "markdown",
   "id": "2f1f06cf-133d-414a-a703-a1b1408e44c1",
   "metadata": {},
   "source": [
    "**Conclusion:**\n",
    "'Πλάκα' has the most airbnbs with the number of 2416 and 'Πενταγωνο' is the less popular neighbourhood to have an airbnb with only 2. \n",
    "With this analyse someone can know which neighbourhoods gather more visitors and maybe create his own one over there!"
   ]
  },
  {
   "cell_type": "markdown",
   "id": "ca32936b-9a37-4b41-9660-bb6038fb6b11",
   "metadata": {},
   "source": [
    "**Caution**: Keep in mind that in the list above from the data we extracted not all neighbourhoods are involved, some locations may differ in the whole neighbourhood list!"
   ]
  },
  {
   "cell_type": "markdown",
   "id": "88f9a07c-7f7e-4ced-8455-cbb1886c1456",
   "metadata": {},
   "source": [
    "### Q2: Neighbourhood Prices in Descending Order"
   ]
  },
  {
   "cell_type": "markdown",
   "id": "ffdb9b1f-e467-48ef-bcd2-1c5a31eb0ec2",
   "metadata": {},
   "source": [
    "Now we will check the prices for each neighbourhood. Specifically we will calculate median, mean prices per neighbourhood, standard deviation among the prices and again as we did before the airbnbs per neighbourhood so we can compare them to the prices! "
   ]
  },
  {
   "cell_type": "code",
   "execution_count": 42,
   "id": "68e6540a-93e7-4741-987a-d799c3099c60",
   "metadata": {},
   "outputs": [
    {
     "data": {
      "text/plain": [
       "12128      10.0\n",
       "2350       10.0\n",
       "1008       10.0\n",
       "4188       10.0\n",
       "4202       11.0\n",
       "          ...  \n",
       "4894     2000.0\n",
       "5986     2500.0\n",
       "5432     3051.0\n",
       "2466     4849.0\n",
       "932      5000.0\n",
       "Name: price, Length: 12955, dtype: float64"
      ]
     },
     "execution_count": 42,
     "metadata": {},
     "output_type": "execute_result"
    }
   ],
   "source": [
    "list['price'] "
   ]
  },
  {
   "cell_type": "markdown",
   "id": "377adaf0-1445-4b29-872f-54efe18b9ad0",
   "metadata": {},
   "source": [
    "Now we will group them by neighbourhood so we can calculate the metrics of the prices. "
   ]
  },
  {
   "cell_type": "code",
   "execution_count": 43,
   "id": "964f08f5-858e-4a8d-bac0-a267cd8ff796",
   "metadata": {},
   "outputs": [],
   "source": [
    "list_gb = list.groupby('neighbourhood_cleansed')"
   ]
  },
  {
   "cell_type": "markdown",
   "id": "42129b22-d2a4-41d5-89d1-f4d695b78e33",
   "metadata": {},
   "source": [
    "Now that we have everything grouped we will calculate for each group/neighbourhood the metrics we mentioned."
   ]
  },
  {
   "cell_type": "code",
   "execution_count": 44,
   "id": "cd77ea00-06e5-4554-aa01-ad654e6ba98e",
   "metadata": {},
   "outputs": [],
   "source": [
    "median_price = list_gb['price'].median().reset_index()\n",
    "mean_price = list_gb['price'].mean().reset_index()\n",
    "std_dev_price = list_gb['price'].std().reset_index()\n",
    "num_listings = list_gb['neighbourhood_cleansed'].value_counts().reset_index()"
   ]
  },
  {
   "cell_type": "markdown",
   "id": "bf65144d-700c-4532-a6b1-f610c88609ee",
   "metadata": {},
   "source": [
    "We will rename the columns to represent the metrics. "
   ]
  },
  {
   "cell_type": "code",
   "execution_count": 45,
   "id": "be461d6d-bf29-42ce-aff2-28465e9ddd33",
   "metadata": {},
   "outputs": [],
   "source": [
    "median_price.rename(columns={'price': 'median_price'}, inplace=True)\n",
    "mean_price.rename(columns={'price': 'mean_price'}, inplace=True)\n",
    "std_dev_price.rename(columns={'price': 'std_dev_price'}, inplace=True)\n",
    "num_listings.columns = ['neighbourhood_cleansed', 'number_of_listings']"
   ]
  },
  {
   "cell_type": "markdown",
   "id": "482f55ff-84e3-4280-ac2b-6d6a99a54acc",
   "metadata": {},
   "source": [
    "Finaly we will merge them all to the same dataframe."
   ]
  },
  {
   "cell_type": "code",
   "execution_count": 46,
   "id": "dfca44c3-b827-4504-ae9f-7d2452a94050",
   "metadata": {},
   "outputs": [],
   "source": [
    "neighbourhood_statistics = median_price.merge(mean_price, on= 'neighbourhood_cleansed', how='inner')\n",
    "neighbourhood_statistics = neighbourhood_statistics.merge(std_dev_price, on= 'neighbourhood_cleansed', how='inner')\n",
    "neighbourhood_statistics = neighbourhood_statistics.merge(num_listings, on= 'neighbourhood_cleansed', how='inner')"
   ]
  },
  {
   "cell_type": "markdown",
   "id": "9d066630-63f3-4e54-a34c-2e0d7631166c",
   "metadata": {},
   "source": [
    "We will sort them based on the median price"
   ]
  },
  {
   "cell_type": "code",
   "execution_count": 47,
   "id": "a0dd658c-5b09-4ba1-ba5b-e1e85caba160",
   "metadata": {},
   "outputs": [],
   "source": [
    "neighbourhood_statistics = neighbourhood_statistics.sort_values(by='median_price', ascending=False)"
   ]
  },
  {
   "cell_type": "code",
   "execution_count": 48,
   "id": "a617e6ca-b237-4773-a0f6-d9d1adf2266c",
   "metadata": {},
   "outputs": [
    {
     "data": {
      "text/html": [
       "<div>\n",
       "<style scoped>\n",
       "    .dataframe tbody tr th:only-of-type {\n",
       "        vertical-align: middle;\n",
       "    }\n",
       "\n",
       "    .dataframe tbody tr th {\n",
       "        vertical-align: top;\n",
       "    }\n",
       "\n",
       "    .dataframe thead th {\n",
       "        text-align: right;\n",
       "    }\n",
       "</style>\n",
       "<table border=\"1\" class=\"dataframe\">\n",
       "  <thead>\n",
       "    <tr style=\"text-align: right;\">\n",
       "      <th></th>\n",
       "      <th>neighbourhood_cleansed</th>\n",
       "      <th>median_price</th>\n",
       "      <th>mean_price</th>\n",
       "      <th>std_dev_price</th>\n",
       "      <th>number_of_listings</th>\n",
       "    </tr>\n",
       "  </thead>\n",
       "  <tbody>\n",
       "    <tr>\n",
       "      <th>39</th>\n",
       "      <td>ΡΗΓΙΛΛΗΣ</td>\n",
       "      <td>120.0</td>\n",
       "      <td>367.800000</td>\n",
       "      <td>578.622675</td>\n",
       "      <td>5</td>\n",
       "    </tr>\n",
       "    <tr>\n",
       "      <th>16</th>\n",
       "      <td>ΖΑΠΠΕΙΟ</td>\n",
       "      <td>114.0</td>\n",
       "      <td>175.072995</td>\n",
       "      <td>175.631867</td>\n",
       "      <td>161</td>\n",
       "    </tr>\n",
       "    <tr>\n",
       "      <th>15</th>\n",
       "      <td>ΕΜΠΟΡΙΚΟ ΤΡΙΓΩΝΟ-ΠΛΑΚΑ</td>\n",
       "      <td>104.0</td>\n",
       "      <td>137.385659</td>\n",
       "      <td>164.125427</td>\n",
       "      <td>2416</td>\n",
       "    </tr>\n",
       "    <tr>\n",
       "      <th>5</th>\n",
       "      <td>ΑΚΡΟΠΟΛΗ</td>\n",
       "      <td>100.0</td>\n",
       "      <td>134.036935</td>\n",
       "      <td>127.684324</td>\n",
       "      <td>386</td>\n",
       "    </tr>\n",
       "    <tr>\n",
       "      <th>21</th>\n",
       "      <td>ΚΟΛΩΝΑΚΙ</td>\n",
       "      <td>100.0</td>\n",
       "      <td>128.595294</td>\n",
       "      <td>104.431349</td>\n",
       "      <td>425</td>\n",
       "    </tr>\n",
       "    <tr>\n",
       "      <th>23</th>\n",
       "      <td>ΚΟΥΚΑΚΙ-ΜΑΚΡΥΓΙΑΝΝΗ</td>\n",
       "      <td>90.5</td>\n",
       "      <td>120.284314</td>\n",
       "      <td>104.613533</td>\n",
       "      <td>1122</td>\n",
       "    </tr>\n",
       "    <tr>\n",
       "      <th>17</th>\n",
       "      <td>ΘΗΣΕΙΟ</td>\n",
       "      <td>90.0</td>\n",
       "      <td>126.492228</td>\n",
       "      <td>124.176775</td>\n",
       "      <td>386</td>\n",
       "    </tr>\n",
       "    <tr>\n",
       "      <th>19</th>\n",
       "      <td>ΚΕΡΑΜΕΙΚΟΣ</td>\n",
       "      <td>89.0</td>\n",
       "      <td>123.883382</td>\n",
       "      <td>136.367487</td>\n",
       "      <td>343</td>\n",
       "    </tr>\n",
       "    <tr>\n",
       "      <th>25</th>\n",
       "      <td>ΛΥΚΑΒΗΤΤΟΣ</td>\n",
       "      <td>75.0</td>\n",
       "      <td>104.561728</td>\n",
       "      <td>87.859850</td>\n",
       "      <td>162</td>\n",
       "    </tr>\n",
       "    <tr>\n",
       "      <th>10</th>\n",
       "      <td>ΓΚΑΖΙ</td>\n",
       "      <td>70.5</td>\n",
       "      <td>95.792453</td>\n",
       "      <td>75.355882</td>\n",
       "      <td>106</td>\n",
       "    </tr>\n",
       "    <tr>\n",
       "      <th>42</th>\n",
       "      <td>ΣΤΑΔΙΟ</td>\n",
       "      <td>70.0</td>\n",
       "      <td>90.213303</td>\n",
       "      <td>108.698781</td>\n",
       "      <td>252</td>\n",
       "    </tr>\n",
       "    <tr>\n",
       "      <th>18</th>\n",
       "      <td>ΙΛΙΣΙΑ</td>\n",
       "      <td>70.0</td>\n",
       "      <td>87.189815</td>\n",
       "      <td>53.519013</td>\n",
       "      <td>216</td>\n",
       "    </tr>\n",
       "    <tr>\n",
       "      <th>26</th>\n",
       "      <td>ΜΟΥΣΕΙΟ-ΕΞΑΡΧΕΙΑ-ΝΕΑΠΟΛΗ</td>\n",
       "      <td>67.0</td>\n",
       "      <td>87.376662</td>\n",
       "      <td>64.570864</td>\n",
       "      <td>979</td>\n",
       "    </tr>\n",
       "    <tr>\n",
       "      <th>28</th>\n",
       "      <td>ΝΕΟΣ ΚΟΣΜΟΣ</td>\n",
       "      <td>67.0</td>\n",
       "      <td>94.586735</td>\n",
       "      <td>127.407374</td>\n",
       "      <td>980</td>\n",
       "    </tr>\n",
       "    <tr>\n",
       "      <th>30</th>\n",
       "      <td>ΠΑΓΚΡΑΤΙ</td>\n",
       "      <td>67.0</td>\n",
       "      <td>84.062622</td>\n",
       "      <td>92.218241</td>\n",
       "      <td>511</td>\n",
       "    </tr>\n",
       "    <tr>\n",
       "      <th>34</th>\n",
       "      <td>ΠΕΤΡΑΛΩΝΑ</td>\n",
       "      <td>66.5</td>\n",
       "      <td>104.701705</td>\n",
       "      <td>285.518630</td>\n",
       "      <td>352</td>\n",
       "    </tr>\n",
       "    <tr>\n",
       "      <th>0</th>\n",
       "      <td>1Ο ΝΕΚΡΟΤΑΦΕΙΟ</td>\n",
       "      <td>61.0</td>\n",
       "      <td>98.818182</td>\n",
       "      <td>92.281191</td>\n",
       "      <td>55</td>\n",
       "    </tr>\n",
       "    <tr>\n",
       "      <th>14</th>\n",
       "      <td>ΕΛΛΗΝΟΡΩΣΩΝ</td>\n",
       "      <td>60.0</td>\n",
       "      <td>81.589041</td>\n",
       "      <td>72.727390</td>\n",
       "      <td>73</td>\n",
       "    </tr>\n",
       "    <tr>\n",
       "      <th>9</th>\n",
       "      <td>ΒΟΤΑΝΙΚΟΣ</td>\n",
       "      <td>60.0</td>\n",
       "      <td>78.200000</td>\n",
       "      <td>48.042281</td>\n",
       "      <td>80</td>\n",
       "    </tr>\n",
       "    <tr>\n",
       "      <th>12</th>\n",
       "      <td>ΓΟΥΒΑ</td>\n",
       "      <td>58.0</td>\n",
       "      <td>72.240000</td>\n",
       "      <td>83.506245</td>\n",
       "      <td>75</td>\n",
       "    </tr>\n",
       "    <tr>\n",
       "      <th>6</th>\n",
       "      <td>ΑΜΠΕΛΟΚΗΠΟΙ</td>\n",
       "      <td>58.0</td>\n",
       "      <td>66.915929</td>\n",
       "      <td>39.297399</td>\n",
       "      <td>452</td>\n",
       "    </tr>\n",
       "    <tr>\n",
       "      <th>2</th>\n",
       "      <td>ΑΓΙΟΣ ΚΩΝΣΤΑΝΤΙΝΟΣ-ΠΛΑΤΕΙΑ ΒΑΘΗΣ</td>\n",
       "      <td>58.0</td>\n",
       "      <td>78.155447</td>\n",
       "      <td>73.453460</td>\n",
       "      <td>817</td>\n",
       "    </tr>\n",
       "    <tr>\n",
       "      <th>13</th>\n",
       "      <td>ΓΟΥΔΙ</td>\n",
       "      <td>58.0</td>\n",
       "      <td>68.952174</td>\n",
       "      <td>37.039603</td>\n",
       "      <td>230</td>\n",
       "    </tr>\n",
       "    <tr>\n",
       "      <th>38</th>\n",
       "      <td>ΠΡΟΜΠΟΝΑ</td>\n",
       "      <td>57.0</td>\n",
       "      <td>60.833333</td>\n",
       "      <td>27.511430</td>\n",
       "      <td>12</td>\n",
       "    </tr>\n",
       "    <tr>\n",
       "      <th>32</th>\n",
       "      <td>ΠΕΔΙΟ ΑΡΕΩΣ</td>\n",
       "      <td>56.0</td>\n",
       "      <td>75.768369</td>\n",
       "      <td>63.721136</td>\n",
       "      <td>109</td>\n",
       "    </tr>\n",
       "    <tr>\n",
       "      <th>41</th>\n",
       "      <td>ΣΕΠΟΛΙΑ</td>\n",
       "      <td>55.0</td>\n",
       "      <td>77.422222</td>\n",
       "      <td>150.067332</td>\n",
       "      <td>45</td>\n",
       "    </tr>\n",
       "    <tr>\n",
       "      <th>27</th>\n",
       "      <td>ΝΕΑ ΚΥΨΕΛΗ</td>\n",
       "      <td>50.0</td>\n",
       "      <td>56.453125</td>\n",
       "      <td>28.871873</td>\n",
       "      <td>64</td>\n",
       "    </tr>\n",
       "    <tr>\n",
       "      <th>43</th>\n",
       "      <td>ΣΤΑΘΜΟΣ ΛΑΡΙΣΗΣ</td>\n",
       "      <td>50.0</td>\n",
       "      <td>61.564706</td>\n",
       "      <td>58.615870</td>\n",
       "      <td>85</td>\n",
       "    </tr>\n",
       "    <tr>\n",
       "      <th>24</th>\n",
       "      <td>ΚΥΨΕΛΗ</td>\n",
       "      <td>50.0</td>\n",
       "      <td>62.656827</td>\n",
       "      <td>58.884856</td>\n",
       "      <td>271</td>\n",
       "    </tr>\n",
       "    <tr>\n",
       "      <th>4</th>\n",
       "      <td>ΑΚΑΔΗΜΙΑ ΠΛΑΤΩΝΟΣ</td>\n",
       "      <td>50.0</td>\n",
       "      <td>79.934211</td>\n",
       "      <td>163.926596</td>\n",
       "      <td>76</td>\n",
       "    </tr>\n",
       "    <tr>\n",
       "      <th>36</th>\n",
       "      <td>ΠΛΑΤΕΙΑ ΑΤΤΙΚΗΣ</td>\n",
       "      <td>48.0</td>\n",
       "      <td>64.116638</td>\n",
       "      <td>74.498484</td>\n",
       "      <td>583</td>\n",
       "    </tr>\n",
       "    <tr>\n",
       "      <th>8</th>\n",
       "      <td>ΑΝΩ ΠΑΤΗΣΙΑ</td>\n",
       "      <td>48.0</td>\n",
       "      <td>56.078125</td>\n",
       "      <td>29.493774</td>\n",
       "      <td>64</td>\n",
       "    </tr>\n",
       "    <tr>\n",
       "      <th>22</th>\n",
       "      <td>ΚΟΛΩΝΟΣ</td>\n",
       "      <td>47.0</td>\n",
       "      <td>51.888889</td>\n",
       "      <td>21.263955</td>\n",
       "      <td>108</td>\n",
       "    </tr>\n",
       "    <tr>\n",
       "      <th>33</th>\n",
       "      <td>ΠΕΝΤΑΓΩΝΟ</td>\n",
       "      <td>46.0</td>\n",
       "      <td>46.000000</td>\n",
       "      <td>1.414214</td>\n",
       "      <td>2</td>\n",
       "    </tr>\n",
       "    <tr>\n",
       "      <th>31</th>\n",
       "      <td>ΠΑΤΗΣΙΑ</td>\n",
       "      <td>45.0</td>\n",
       "      <td>60.524096</td>\n",
       "      <td>117.601314</td>\n",
       "      <td>166</td>\n",
       "    </tr>\n",
       "    <tr>\n",
       "      <th>37</th>\n",
       "      <td>ΠΟΛΥΓΩΝΟ</td>\n",
       "      <td>45.0</td>\n",
       "      <td>54.310345</td>\n",
       "      <td>26.467100</td>\n",
       "      <td>29</td>\n",
       "    </tr>\n",
       "    <tr>\n",
       "      <th>3</th>\n",
       "      <td>ΑΓΙΟΣ ΝΙΚΟΛΑΟΣ</td>\n",
       "      <td>45.0</td>\n",
       "      <td>53.202020</td>\n",
       "      <td>32.861484</td>\n",
       "      <td>99</td>\n",
       "    </tr>\n",
       "    <tr>\n",
       "      <th>11</th>\n",
       "      <td>ΓΚΥΖΗ</td>\n",
       "      <td>44.5</td>\n",
       "      <td>52.033898</td>\n",
       "      <td>42.301913</td>\n",
       "      <td>118</td>\n",
       "    </tr>\n",
       "    <tr>\n",
       "      <th>35</th>\n",
       "      <td>ΠΛΑΤΕΙΑ ΑΜΕΡΙΚΗΣ</td>\n",
       "      <td>44.0</td>\n",
       "      <td>52.500000</td>\n",
       "      <td>37.479603</td>\n",
       "      <td>180</td>\n",
       "    </tr>\n",
       "    <tr>\n",
       "      <th>40</th>\n",
       "      <td>ΡΙΖΟΥΠΟΛΗ</td>\n",
       "      <td>44.0</td>\n",
       "      <td>52.538462</td>\n",
       "      <td>22.096815</td>\n",
       "      <td>13</td>\n",
       "    </tr>\n",
       "    <tr>\n",
       "      <th>20</th>\n",
       "      <td>ΚΟΛΟΚΥΝΘΟΥ</td>\n",
       "      <td>43.0</td>\n",
       "      <td>43.937500</td>\n",
       "      <td>9.532182</td>\n",
       "      <td>16</td>\n",
       "    </tr>\n",
       "    <tr>\n",
       "      <th>29</th>\n",
       "      <td>ΝΙΡΒΑΝΑ</td>\n",
       "      <td>42.0</td>\n",
       "      <td>53.045977</td>\n",
       "      <td>39.449070</td>\n",
       "      <td>174</td>\n",
       "    </tr>\n",
       "    <tr>\n",
       "      <th>7</th>\n",
       "      <td>ΑΝΩ ΚΥΨΕΛΗ</td>\n",
       "      <td>42.0</td>\n",
       "      <td>45.932773</td>\n",
       "      <td>23.316078</td>\n",
       "      <td>119</td>\n",
       "    </tr>\n",
       "    <tr>\n",
       "      <th>1</th>\n",
       "      <td>ΑΓΙΟΣ ΕΛΕΥΘΕΡΙΟΣ</td>\n",
       "      <td>41.5</td>\n",
       "      <td>43.736842</td>\n",
       "      <td>17.408734</td>\n",
       "      <td>38</td>\n",
       "    </tr>\n",
       "  </tbody>\n",
       "</table>\n",
       "</div>"
      ],
      "text/plain": [
       "              neighbourhood_cleansed  median_price  mean_price  std_dev_price  \\\n",
       "39                          ΡΗΓΙΛΛΗΣ         120.0  367.800000     578.622675   \n",
       "16                           ΖΑΠΠΕΙΟ         114.0  175.072995     175.631867   \n",
       "15            ΕΜΠΟΡΙΚΟ ΤΡΙΓΩΝΟ-ΠΛΑΚΑ         104.0  137.385659     164.125427   \n",
       "5                           ΑΚΡΟΠΟΛΗ         100.0  134.036935     127.684324   \n",
       "21                          ΚΟΛΩΝΑΚΙ         100.0  128.595294     104.431349   \n",
       "23               ΚΟΥΚΑΚΙ-ΜΑΚΡΥΓΙΑΝΝΗ          90.5  120.284314     104.613533   \n",
       "17                            ΘΗΣΕΙΟ          90.0  126.492228     124.176775   \n",
       "19                        ΚΕΡΑΜΕΙΚΟΣ          89.0  123.883382     136.367487   \n",
       "25                        ΛΥΚΑΒΗΤΤΟΣ          75.0  104.561728      87.859850   \n",
       "10                             ΓΚΑΖΙ          70.5   95.792453      75.355882   \n",
       "42                            ΣΤΑΔΙΟ          70.0   90.213303     108.698781   \n",
       "18                            ΙΛΙΣΙΑ          70.0   87.189815      53.519013   \n",
       "26          ΜΟΥΣΕΙΟ-ΕΞΑΡΧΕΙΑ-ΝΕΑΠΟΛΗ          67.0   87.376662      64.570864   \n",
       "28                       ΝΕΟΣ ΚΟΣΜΟΣ          67.0   94.586735     127.407374   \n",
       "30                          ΠΑΓΚΡΑΤΙ          67.0   84.062622      92.218241   \n",
       "34                         ΠΕΤΡΑΛΩΝΑ          66.5  104.701705     285.518630   \n",
       "0                     1Ο ΝΕΚΡΟΤΑΦΕΙΟ          61.0   98.818182      92.281191   \n",
       "14                       ΕΛΛΗΝΟΡΩΣΩΝ          60.0   81.589041      72.727390   \n",
       "9                          ΒΟΤΑΝΙΚΟΣ          60.0   78.200000      48.042281   \n",
       "12                             ΓΟΥΒΑ          58.0   72.240000      83.506245   \n",
       "6                        ΑΜΠΕΛΟΚΗΠΟΙ          58.0   66.915929      39.297399   \n",
       "2   ΑΓΙΟΣ ΚΩΝΣΤΑΝΤΙΝΟΣ-ΠΛΑΤΕΙΑ ΒΑΘΗΣ          58.0   78.155447      73.453460   \n",
       "13                             ΓΟΥΔΙ          58.0   68.952174      37.039603   \n",
       "38                          ΠΡΟΜΠΟΝΑ          57.0   60.833333      27.511430   \n",
       "32                       ΠΕΔΙΟ ΑΡΕΩΣ          56.0   75.768369      63.721136   \n",
       "41                           ΣΕΠΟΛΙΑ          55.0   77.422222     150.067332   \n",
       "27                        ΝΕΑ ΚΥΨΕΛΗ          50.0   56.453125      28.871873   \n",
       "43                   ΣΤΑΘΜΟΣ ΛΑΡΙΣΗΣ          50.0   61.564706      58.615870   \n",
       "24                            ΚΥΨΕΛΗ          50.0   62.656827      58.884856   \n",
       "4                  ΑΚΑΔΗΜΙΑ ΠΛΑΤΩΝΟΣ          50.0   79.934211     163.926596   \n",
       "36                   ΠΛΑΤΕΙΑ ΑΤΤΙΚΗΣ          48.0   64.116638      74.498484   \n",
       "8                        ΑΝΩ ΠΑΤΗΣΙΑ          48.0   56.078125      29.493774   \n",
       "22                           ΚΟΛΩΝΟΣ          47.0   51.888889      21.263955   \n",
       "33                         ΠΕΝΤΑΓΩΝΟ          46.0   46.000000       1.414214   \n",
       "31                           ΠΑΤΗΣΙΑ          45.0   60.524096     117.601314   \n",
       "37                          ΠΟΛΥΓΩΝΟ          45.0   54.310345      26.467100   \n",
       "3                     ΑΓΙΟΣ ΝΙΚΟΛΑΟΣ          45.0   53.202020      32.861484   \n",
       "11                             ΓΚΥΖΗ          44.5   52.033898      42.301913   \n",
       "35                  ΠΛΑΤΕΙΑ ΑΜΕΡΙΚΗΣ          44.0   52.500000      37.479603   \n",
       "40                         ΡΙΖΟΥΠΟΛΗ          44.0   52.538462      22.096815   \n",
       "20                        ΚΟΛΟΚΥΝΘΟΥ          43.0   43.937500       9.532182   \n",
       "29                           ΝΙΡΒΑΝΑ          42.0   53.045977      39.449070   \n",
       "7                         ΑΝΩ ΚΥΨΕΛΗ          42.0   45.932773      23.316078   \n",
       "1                   ΑΓΙΟΣ ΕΛΕΥΘΕΡΙΟΣ          41.5   43.736842      17.408734   \n",
       "\n",
       "    number_of_listings  \n",
       "39                   5  \n",
       "16                 161  \n",
       "15                2416  \n",
       "5                  386  \n",
       "21                 425  \n",
       "23                1122  \n",
       "17                 386  \n",
       "19                 343  \n",
       "25                 162  \n",
       "10                 106  \n",
       "42                 252  \n",
       "18                 216  \n",
       "26                 979  \n",
       "28                 980  \n",
       "30                 511  \n",
       "34                 352  \n",
       "0                   55  \n",
       "14                  73  \n",
       "9                   80  \n",
       "12                  75  \n",
       "6                  452  \n",
       "2                  817  \n",
       "13                 230  \n",
       "38                  12  \n",
       "32                 109  \n",
       "41                  45  \n",
       "27                  64  \n",
       "43                  85  \n",
       "24                 271  \n",
       "4                   76  \n",
       "36                 583  \n",
       "8                   64  \n",
       "22                 108  \n",
       "33                   2  \n",
       "31                 166  \n",
       "37                  29  \n",
       "3                   99  \n",
       "11                 118  \n",
       "35                 180  \n",
       "40                  13  \n",
       "20                  16  \n",
       "29                 174  \n",
       "7                  119  \n",
       "1                   38  "
      ]
     },
     "execution_count": 48,
     "metadata": {},
     "output_type": "execute_result"
    }
   ],
   "source": [
    "neighbourhood_statistics"
   ]
  },
  {
   "cell_type": "markdown",
   "id": "214e48b2-f582-4bce-9439-7fc931a8bf7a",
   "metadata": {},
   "source": [
    "We will give a check to see the correctness of our results. From the start our eyes catches the standard deviation of the first row which has a value of 579. "
   ]
  },
  {
   "cell_type": "code",
   "execution_count": 49,
   "id": "de096b8b-186e-4bcf-a31a-3ea16e3b300e",
   "metadata": {},
   "outputs": [
    {
     "data": {
      "text/plain": [
       "1462       71.0\n",
       "11379      72.0\n",
       "10271     120.0\n",
       "12748     176.0\n",
       "9319     1400.0\n",
       "Name: price, dtype: float64"
      ]
     },
     "execution_count": 49,
     "metadata": {},
     "output_type": "execute_result"
    }
   ],
   "source": [
    "list[list['neighbourhood_cleansed']== 'ΡΗΓΙΛΛΗΣ']['price']"
   ]
  },
  {
   "cell_type": "markdown",
   "id": "327b6101-b0b0-4cd6-b921-384c5822cfa7",
   "metadata": {},
   "source": [
    "The reasons are: First of all we are talking for a neighbourhood with only five airbnb's so each value has a significant affect in our result, secondly we have an airbnb with a price 1400 euros per night with extreme affect in the total result."
   ]
  },
  {
   "cell_type": "markdown",
   "id": "ad679dfa-94f9-4581-aca6-80b29dba29d3",
   "metadata": {},
   "source": [
    "### Q3: Availability per Day"
   ]
  },
  {
   "cell_type": "markdown",
   "id": "c3f66a3d-ae9e-4914-aeca-37e4abfbdabb",
   "metadata": {},
   "source": [
    "Our step now is to check how many airbnbs are available for each passing day. To understand the result we will create a graph that shows for each date the available airbnbs for someone to book."
   ]
  },
  {
   "cell_type": "markdown",
   "id": "cd4c1fa4-01bc-448a-bc54-3257acb275c0",
   "metadata": {},
   "source": [
    "We will use the calendar which has the columns 'available' and also 'date'"
   ]
  },
  {
   "cell_type": "code",
   "execution_count": 50,
   "id": "3950e1a6-f67a-4cbb-a88a-463ab6b28cdd",
   "metadata": {},
   "outputs": [
    {
     "data": {
      "text/plain": [
       "Index(['listing_id', 'date', 'available', 'price', 'adjusted_price',\n",
       "       'minimum_nights', 'maximum_nights'],\n",
       "      dtype='object')"
      ]
     },
     "execution_count": 50,
     "metadata": {},
     "output_type": "execute_result"
    }
   ],
   "source": [
    "calendar.columns"
   ]
  },
  {
   "cell_type": "code",
   "execution_count": 51,
   "id": "8a675042-fbe9-48f3-9eec-4307cca28bb0",
   "metadata": {},
   "outputs": [],
   "source": [
    "available = calendar[calendar['available'] == 't'].groupby('date')['available'].count().reset_index()"
   ]
  },
  {
   "cell_type": "code",
   "execution_count": 52,
   "id": "3a9f6697-67d4-41a2-9168-8860d8711784",
   "metadata": {},
   "outputs": [
    {
     "data": {
      "text/html": [
       "<div>\n",
       "<style scoped>\n",
       "    .dataframe tbody tr th:only-of-type {\n",
       "        vertical-align: middle;\n",
       "    }\n",
       "\n",
       "    .dataframe tbody tr th {\n",
       "        vertical-align: top;\n",
       "    }\n",
       "\n",
       "    .dataframe thead th {\n",
       "        text-align: right;\n",
       "    }\n",
       "</style>\n",
       "<table border=\"1\" class=\"dataframe\">\n",
       "  <thead>\n",
       "    <tr style=\"text-align: right;\">\n",
       "      <th></th>\n",
       "      <th>date</th>\n",
       "      <th>available</th>\n",
       "    </tr>\n",
       "  </thead>\n",
       "  <tbody>\n",
       "    <tr>\n",
       "      <th>0</th>\n",
       "      <td>2023-09-21</td>\n",
       "      <td>540</td>\n",
       "    </tr>\n",
       "    <tr>\n",
       "      <th>1</th>\n",
       "      <td>2023-09-22</td>\n",
       "      <td>982</td>\n",
       "    </tr>\n",
       "    <tr>\n",
       "      <th>2</th>\n",
       "      <td>2023-09-23</td>\n",
       "      <td>1475</td>\n",
       "    </tr>\n",
       "    <tr>\n",
       "      <th>3</th>\n",
       "      <td>2023-09-24</td>\n",
       "      <td>2495</td>\n",
       "    </tr>\n",
       "    <tr>\n",
       "      <th>4</th>\n",
       "      <td>2023-09-25</td>\n",
       "      <td>3194</td>\n",
       "    </tr>\n",
       "    <tr>\n",
       "      <th>...</th>\n",
       "      <td>...</td>\n",
       "      <td>...</td>\n",
       "    </tr>\n",
       "    <tr>\n",
       "      <th>360</th>\n",
       "      <td>2024-09-15</td>\n",
       "      <td>7532</td>\n",
       "    </tr>\n",
       "    <tr>\n",
       "      <th>361</th>\n",
       "      <td>2024-09-16</td>\n",
       "      <td>7535</td>\n",
       "    </tr>\n",
       "    <tr>\n",
       "      <th>362</th>\n",
       "      <td>2024-09-17</td>\n",
       "      <td>7532</td>\n",
       "    </tr>\n",
       "    <tr>\n",
       "      <th>363</th>\n",
       "      <td>2024-09-18</td>\n",
       "      <td>7537</td>\n",
       "    </tr>\n",
       "    <tr>\n",
       "      <th>364</th>\n",
       "      <td>2024-09-19</td>\n",
       "      <td>7555</td>\n",
       "    </tr>\n",
       "  </tbody>\n",
       "</table>\n",
       "<p>365 rows × 2 columns</p>\n",
       "</div>"
      ],
      "text/plain": [
       "           date  available\n",
       "0    2023-09-21        540\n",
       "1    2023-09-22        982\n",
       "2    2023-09-23       1475\n",
       "3    2023-09-24       2495\n",
       "4    2023-09-25       3194\n",
       "..          ...        ...\n",
       "360  2024-09-15       7532\n",
       "361  2024-09-16       7535\n",
       "362  2024-09-17       7532\n",
       "363  2024-09-18       7537\n",
       "364  2024-09-19       7555\n",
       "\n",
       "[365 rows x 2 columns]"
      ]
     },
     "execution_count": 52,
     "metadata": {},
     "output_type": "execute_result"
    }
   ],
   "source": [
    "available"
   ]
  },
  {
   "cell_type": "code",
   "execution_count": 53,
   "id": "a913dbff-c893-4f06-be40-b0c557e22324",
   "metadata": {},
   "outputs": [
    {
     "data": {
      "image/png": "[encoded data removed]",
      "text/plain": [
       "<Figure size 640x480 with 1 Axes>"
      ]
     },
     "metadata": {},
     "output_type": "display_data"
    }
   ],
   "source": [
    "plt.plot(available['date'], available['available'])\n",
    "plt.title('Availability per day')\n",
    "plt.xlabel('date')\n",
    "plt.ylabel('number of listings available per day')\n",
    "plt.xticks(available['date'][::30], rotation=45)\n",
    "plt.show()"
   ]
  },
  {
   "cell_type": "markdown",
   "id": "36e78f4a-32d6-4022-aa85-caa3e150e072",
   "metadata": {},
   "source": [
    "**Conclusion:**\n",
    "We see that we have an ascending form of graph, the reason is that the dates refer to a year that is far long from now, so people haven't booked their airbnbs from now, but we can also check that for the summer time of 2024, we have a drop in the plot which means that people have already started booking up for next year!"
   ]
  },
  {
   "cell_type": "markdown",
   "id": "78727ff6-b22a-4598-8a16-f140b3052e33",
   "metadata": {},
   "source": [
    "### Q4: Reviews, Occupacy per Listing, Average Income"
   ]
  },
  {
   "cell_type": "markdown",
   "id": "30986e5e-5e09-4a56-9adf-0f4ca826ab17",
   "metadata": {},
   "source": [
    "For this stage will actually answer three topics. First of all we will check the reviews per listing. More specifically we will see how many reviews each airbnb got. Secondly we will calculate the occupancy of each airbnb for each passing month. Lastly, we will check the average salary that each airbnb got for that occupation.  "
   ]
  },
  {
   "cell_type": "markdown",
   "id": "23565afb-61db-47f8-88fe-98eb34fd4b0a",
   "metadata": {},
   "source": [
    "#### Reviews per Listing "
   ]
  },
  {
   "cell_type": "markdown",
   "id": "37f4e9ff-23ed-46a0-9a82-5b9879c038ec",
   "metadata": {},
   "source": [
    "Based on the columns of the list dataframe we can use the column 'number of reviews' that gives us the total number of reviews per listing id."
   ]
  },
  {
   "cell_type": "code",
   "execution_count": 54,
   "id": "70e37107-75fc-469c-9ba6-8e160c6c42f0",
   "metadata": {},
   "outputs": [
    {
     "data": {
      "text/plain": [
       "Index(['id', 'listing_url', 'scrape_id', 'last_scraped', 'source', 'name',\n",
       "       'description', 'neighborhood_overview', 'picture_url', 'host_id',\n",
       "       'host_url', 'host_name', 'host_since', 'host_location', 'host_about',\n",
       "       'host_response_time', 'host_response_rate', 'host_acceptance_rate',\n",
       "       'host_is_superhost', 'host_thumbnail_url', 'host_picture_url',\n",
       "       'host_neighbourhood', 'host_listings_count',\n",
       "       'host_total_listings_count', 'host_verifications',\n",
       "       'host_has_profile_pic', 'host_identity_verified', 'neighbourhood',\n",
       "       'neighbourhood_cleansed', 'neighbourhood_group_cleansed', 'latitude',\n",
       "       'longitude', 'property_type', 'room_type', 'accommodates', 'bathrooms',\n",
       "       'bathrooms_text', 'bedrooms', 'beds', 'amenities', 'price',\n",
       "       'minimum_nights', 'maximum_nights', 'minimum_minimum_nights',\n",
       "       'maximum_minimum_nights', 'minimum_maximum_nights',\n",
       "       'maximum_maximum_nights', 'minimum_nights_avg_ntm',\n",
       "       'maximum_nights_avg_ntm', 'calendar_updated', 'has_availability',\n",
       "       'availability_30', 'availability_60', 'availability_90',\n",
       "       'availability_365', 'calendar_last_scraped', 'number_of_reviews',\n",
       "       'number_of_reviews_ltm', 'number_of_reviews_l30d', 'first_review',\n",
       "       'last_review', 'review_scores_rating', 'review_scores_accuracy',\n",
       "       'review_scores_cleanliness', 'review_scores_checkin',\n",
       "       'review_scores_communication', 'review_scores_location',\n",
       "       'review_scores_value', 'license', 'instant_bookable',\n",
       "       'calculated_host_listings_count',\n",
       "       'calculated_host_listings_count_entire_homes',\n",
       "       'calculated_host_listings_count_private_rooms',\n",
       "       'calculated_host_listings_count_shared_rooms', 'reviews_per_month'],\n",
       "      dtype='object')"
      ]
     },
     "execution_count": 54,
     "metadata": {},
     "output_type": "execute_result"
    }
   ],
   "source": [
    "list.columns"
   ]
  },
  {
   "cell_type": "markdown",
   "id": "59f87cc0-00be-446d-af59-a63d991cf68e",
   "metadata": {},
   "source": [
    "We are taking the columns id and number of reviews per id and placing them in a dataframe called Reviews_Per_Listing"
   ]
  },
  {
   "cell_type": "code",
   "execution_count": 55,
   "id": "e318e222-42b7-42c1-affb-d772d2d8ea97",
   "metadata": {},
   "outputs": [],
   "source": [
    "Reviews_Per_Listing = list[['id','number_of_reviews']]"
   ]
  },
  {
   "cell_type": "code",
   "execution_count": 56,
   "id": "d151af82-24e4-4e01-94e3-2d48f7bc74ab",
   "metadata": {},
   "outputs": [
    {
     "data": {
      "text/plain": [
       "72       865\n",
       "154      856\n",
       "827      778\n",
       "909      764\n",
       "254      731\n",
       "        ... \n",
       "12647      0\n",
       "7866       0\n",
       "11987      0\n",
       "10262      0\n",
       "10978      0\n",
       "Name: number_of_reviews, Length: 12955, dtype: int64"
      ]
     },
     "execution_count": 56,
     "metadata": {},
     "output_type": "execute_result"
    }
   ],
   "source": [
    "Reviews_Per_Listing = list.sort_values(by ='number_of_reviews', ascending = False)\n",
    "Reviews_Per_Listing['number_of_reviews']"
   ]
  },
  {
   "cell_type": "markdown",
   "id": "b94af75a-d09b-4e53-ae22-bc668d07605e",
   "metadata": {},
   "source": [
    "In order to create a good histogram we will find the min and max price and round up the number for the x axis!"
   ]
  },
  {
   "cell_type": "code",
   "execution_count": 57,
   "id": "c661708f-3ed4-4d6f-b596-07d126460b6c",
   "metadata": {},
   "outputs": [
    {
     "data": {
      "text/plain": [
       "0"
      ]
     },
     "execution_count": 57,
     "metadata": {},
     "output_type": "execute_result"
    }
   ],
   "source": [
    "min_reviews = Reviews_Per_Listing['number_of_reviews'].min()\n",
    "min_reviews"
   ]
  },
  {
   "cell_type": "code",
   "execution_count": 58,
   "id": "abdff782-6695-4bf0-a7b0-854136724513",
   "metadata": {},
   "outputs": [
    {
     "data": {
      "text/plain": [
       "865"
      ]
     },
     "execution_count": 58,
     "metadata": {},
     "output_type": "execute_result"
    }
   ],
   "source": [
    "max_reviews = Reviews_Per_Listing['number_of_reviews'].max()\n",
    "max_reviews"
   ]
  },
  {
   "cell_type": "code",
   "execution_count": 59,
   "id": "1741a370-26be-44be-8ca7-84ff5423bb2f",
   "metadata": {},
   "outputs": [
    {
     "data": {
      "text/plain": [
       "900"
      ]
     },
     "execution_count": 59,
     "metadata": {},
     "output_type": "execute_result"
    }
   ],
   "source": [
    "bin_size = int(np.ceil(max_reviews / 100.0) * 100)\n",
    "bin_size"
   ]
  },
  {
   "cell_type": "code",
   "execution_count": 60,
   "id": "c7e03ede-29f3-4700-8f77-aa68743c40c1",
   "metadata": {},
   "outputs": [
    {
     "data": {
      "image/png": "[encoded data removed]",
      "text/plain": [
       "<Figure size 640x480 with 1 Axes>"
      ]
     },
     "metadata": {},
     "output_type": "display_data"
    }
   ],
   "source": [
    "plt.hist(Reviews_Per_Listing['number_of_reviews'],bins=np.linspace(0, bin_size, 50), edgecolor='black')\n",
    "plt.title('Number of Reviews per Listing')\n",
    "plt.xlabel('Number of Reviews')\n",
    "plt.ylabel('Number Of Listings Per Reviews')\n",
    "plt.grid(True)\n",
    "plt.show()"
   ]
  },
  {
   "cell_type": "markdown",
   "id": "c5394bde-ad5c-4cbe-b932-ac275e6e8ce3",
   "metadata": {},
   "source": [
    "In this histogram we see how many times each amount of comments appeared. The comments between 0-100 are the most popular ones as one would expect and specifically the comments between 0-50."
   ]
  },
  {
   "cell_type": "markdown",
   "id": "201393b6-777f-4c0e-8580-b9944ceda49d",
   "metadata": {},
   "source": [
    "#### Occupancy of each airbnb for each passing month"
   ]
  },
  {
   "cell_type": "markdown",
   "id": "3c3631ab-368b-4f1c-99b3-9ff2280a65cc",
   "metadata": {},
   "source": [
    "Because we do not have the data for the bookings we will find the average reviews per month and assume that half of the bookings result in reviews."
   ]
  },
  {
   "cell_type": "markdown",
   "id": "33e7e3ca-1a4b-46c6-a281-9c74d3588ff9",
   "metadata": {},
   "source": [
    "Checking the list columns we see a column named reviews per month, we will work on this column."
   ]
  },
  {
   "cell_type": "code",
   "execution_count": 61,
   "id": "b88cbe1f-de47-4f8a-b74b-e5a9fe1281b6",
   "metadata": {},
   "outputs": [
    {
     "data": {
      "text/html": [
       "<div>\n",
       "<style scoped>\n",
       "    .dataframe tbody tr th:only-of-type {\n",
       "        vertical-align: middle;\n",
       "    }\n",
       "\n",
       "    .dataframe tbody tr th {\n",
       "        vertical-align: top;\n",
       "    }\n",
       "\n",
       "    .dataframe thead th {\n",
       "        text-align: right;\n",
       "    }\n",
       "</style>\n",
       "<table border=\"1\" class=\"dataframe\">\n",
       "  <thead>\n",
       "    <tr style=\"text-align: right;\">\n",
       "      <th></th>\n",
       "      <th>id</th>\n",
       "      <th>reviews_per_month</th>\n",
       "    </tr>\n",
       "  </thead>\n",
       "  <tbody>\n",
       "    <tr>\n",
       "      <th>7248</th>\n",
       "      <td>54251276</td>\n",
       "      <td>15.50</td>\n",
       "    </tr>\n",
       "    <tr>\n",
       "      <th>11736</th>\n",
       "      <td>914571599230791078</td>\n",
       "      <td>13.30</td>\n",
       "    </tr>\n",
       "    <tr>\n",
       "      <th>5559</th>\n",
       "      <td>43778929</td>\n",
       "      <td>11.22</td>\n",
       "    </tr>\n",
       "    <tr>\n",
       "      <th>11095</th>\n",
       "      <td>881606431285667955</td>\n",
       "      <td>11.14</td>\n",
       "    </tr>\n",
       "    <tr>\n",
       "      <th>12573</th>\n",
       "      <td>952653984892688974</td>\n",
       "      <td>11.00</td>\n",
       "    </tr>\n",
       "    <tr>\n",
       "      <th>...</th>\n",
       "      <td>...</td>\n",
       "      <td>...</td>\n",
       "    </tr>\n",
       "    <tr>\n",
       "      <th>12320</th>\n",
       "      <td>938456089239692053</td>\n",
       "      <td>NaN</td>\n",
       "    </tr>\n",
       "    <tr>\n",
       "      <th>12315</th>\n",
       "      <td>938455193619452300</td>\n",
       "      <td>NaN</td>\n",
       "    </tr>\n",
       "    <tr>\n",
       "      <th>9319</th>\n",
       "      <td>741742408032958863</td>\n",
       "      <td>NaN</td>\n",
       "    </tr>\n",
       "    <tr>\n",
       "      <th>9967</th>\n",
       "      <td>807721368332995934</td>\n",
       "      <td>NaN</td>\n",
       "    </tr>\n",
       "    <tr>\n",
       "      <th>4894</th>\n",
       "      <td>39476638</td>\n",
       "      <td>NaN</td>\n",
       "    </tr>\n",
       "  </tbody>\n",
       "</table>\n",
       "<p>12955 rows × 2 columns</p>\n",
       "</div>"
      ],
      "text/plain": [
       "                       id  reviews_per_month\n",
       "7248             54251276              15.50\n",
       "11736  914571599230791078              13.30\n",
       "5559             43778929              11.22\n",
       "11095  881606431285667955              11.14\n",
       "12573  952653984892688974              11.00\n",
       "...                   ...                ...\n",
       "12320  938456089239692053                NaN\n",
       "12315  938455193619452300                NaN\n",
       "9319   741742408032958863                NaN\n",
       "9967   807721368332995934                NaN\n",
       "4894             39476638                NaN\n",
       "\n",
       "[12955 rows x 2 columns]"
      ]
     },
     "execution_count": 61,
     "metadata": {},
     "output_type": "execute_result"
    }
   ],
   "source": [
    "reviews_per_month = list[['id', 'reviews_per_month']]\n",
    "reviews_per_month.sort_values(by = 'reviews_per_month', ascending = False)"
   ]
  },
  {
   "cell_type": "markdown",
   "id": "fe497bfe-5f50-4159-b4dc-dc8294503d07",
   "metadata": {},
   "source": [
    "Any NaN value will be considered as zero as no one reviewed that airbnb."
   ]
  },
  {
   "cell_type": "code",
   "execution_count": 62,
   "id": "3a412bba-5eb1-4266-a8df-e3ee91a71b73",
   "metadata": {},
   "outputs": [],
   "source": [
    "reviews_per_month = reviews_per_month.fillna(0)"
   ]
  },
  {
   "cell_type": "markdown",
   "id": "85af7dbf-68e6-45ec-b1d1-b1960930412f",
   "metadata": {},
   "source": [
    "Based on our assumption about occupancy we are multiplying by two."
   ]
  },
  {
   "cell_type": "code",
   "execution_count": 63,
   "id": "51ca732d-02e6-4169-892f-bcf9de57cf92",
   "metadata": {},
   "outputs": [],
   "source": [
    "reviews_per_month['occupancy'] = reviews_per_month['reviews_per_month'] * 2"
   ]
  },
  {
   "cell_type": "code",
   "execution_count": 64,
   "id": "971e09a4-d5cd-4e0d-8217-49fc186f5e75",
   "metadata": {},
   "outputs": [
    {
     "data": {
      "text/html": [
       "<div>\n",
       "<style scoped>\n",
       "    .dataframe tbody tr th:only-of-type {\n",
       "        vertical-align: middle;\n",
       "    }\n",
       "\n",
       "    .dataframe tbody tr th {\n",
       "        vertical-align: top;\n",
       "    }\n",
       "\n",
       "    .dataframe thead th {\n",
       "        text-align: right;\n",
       "    }\n",
       "</style>\n",
       "<table border=\"1\" class=\"dataframe\">\n",
       "  <thead>\n",
       "    <tr style=\"text-align: right;\">\n",
       "      <th></th>\n",
       "      <th>id</th>\n",
       "      <th>reviews_per_month</th>\n",
       "      <th>occupancy</th>\n",
       "    </tr>\n",
       "  </thead>\n",
       "  <tbody>\n",
       "    <tr>\n",
       "      <th>7248</th>\n",
       "      <td>54251276</td>\n",
       "      <td>15.50</td>\n",
       "      <td>31.00</td>\n",
       "    </tr>\n",
       "    <tr>\n",
       "      <th>11736</th>\n",
       "      <td>914571599230791078</td>\n",
       "      <td>13.30</td>\n",
       "      <td>26.60</td>\n",
       "    </tr>\n",
       "    <tr>\n",
       "      <th>5559</th>\n",
       "      <td>43778929</td>\n",
       "      <td>11.22</td>\n",
       "      <td>22.44</td>\n",
       "    </tr>\n",
       "    <tr>\n",
       "      <th>11095</th>\n",
       "      <td>881606431285667955</td>\n",
       "      <td>11.14</td>\n",
       "      <td>22.28</td>\n",
       "    </tr>\n",
       "    <tr>\n",
       "      <th>12573</th>\n",
       "      <td>952653984892688974</td>\n",
       "      <td>11.00</td>\n",
       "      <td>22.00</td>\n",
       "    </tr>\n",
       "    <tr>\n",
       "      <th>...</th>\n",
       "      <td>...</td>\n",
       "      <td>...</td>\n",
       "      <td>...</td>\n",
       "    </tr>\n",
       "    <tr>\n",
       "      <th>12647</th>\n",
       "      <td>959096822199506780</td>\n",
       "      <td>0.00</td>\n",
       "      <td>0.00</td>\n",
       "    </tr>\n",
       "    <tr>\n",
       "      <th>7866</th>\n",
       "      <td>618492212858639427</td>\n",
       "      <td>0.00</td>\n",
       "      <td>0.00</td>\n",
       "    </tr>\n",
       "    <tr>\n",
       "      <th>11987</th>\n",
       "      <td>921018087752748978</td>\n",
       "      <td>0.00</td>\n",
       "      <td>0.00</td>\n",
       "    </tr>\n",
       "    <tr>\n",
       "      <th>10262</th>\n",
       "      <td>832482869847817259</td>\n",
       "      <td>0.00</td>\n",
       "      <td>0.00</td>\n",
       "    </tr>\n",
       "    <tr>\n",
       "      <th>10978</th>\n",
       "      <td>877234252015446178</td>\n",
       "      <td>0.00</td>\n",
       "      <td>0.00</td>\n",
       "    </tr>\n",
       "  </tbody>\n",
       "</table>\n",
       "<p>12955 rows × 3 columns</p>\n",
       "</div>"
      ],
      "text/plain": [
       "                       id  reviews_per_month  occupancy\n",
       "7248             54251276              15.50      31.00\n",
       "11736  914571599230791078              13.30      26.60\n",
       "5559             43778929              11.22      22.44\n",
       "11095  881606431285667955              11.14      22.28\n",
       "12573  952653984892688974              11.00      22.00\n",
       "...                   ...                ...        ...\n",
       "12647  959096822199506780               0.00       0.00\n",
       "7866   618492212858639427               0.00       0.00\n",
       "11987  921018087752748978               0.00       0.00\n",
       "10262  832482869847817259               0.00       0.00\n",
       "10978  877234252015446178               0.00       0.00\n",
       "\n",
       "[12955 rows x 3 columns]"
      ]
     },
     "execution_count": 64,
     "metadata": {},
     "output_type": "execute_result"
    }
   ],
   "source": [
    "reviews_per_month.sort_values(by = 'occupancy', ascending = False)"
   ]
  },
  {
   "cell_type": "markdown",
   "id": "1f9b789d-8ff4-4e5c-b9c6-8caac6cc5115",
   "metadata": {},
   "source": [
    "#### Average income per month"
   ]
  },
  {
   "cell_type": "markdown",
   "id": "a3e40020-6eaf-443c-b68a-e3a21a7dedef",
   "metadata": {},
   "source": [
    "For this step we will make an assumption that each booking is for a three night stay so we can calculate the average income for each month."
   ]
  },
  {
   "cell_type": "markdown",
   "id": "aa5026b3-caa0-4db4-9552-bc8fbb2a6a67",
   "metadata": {},
   "source": [
    "To find the average income per month we first need to find the average price throughout all listings, to do that we will take all the prices of all the listings and find the mean price of them."
   ]
  },
  {
   "cell_type": "code",
   "execution_count": 65,
   "id": "7d8b40cf-8133-460d-b8c4-a7f9a09e97d9",
   "metadata": {},
   "outputs": [],
   "source": [
    "average_price = list['price'].mean()"
   ]
  },
  {
   "cell_type": "code",
   "execution_count": 66,
   "id": "baf061ae-a222-4369-a3d4-9e9164de9be9",
   "metadata": {},
   "outputs": [],
   "source": [
    "average_price = round(average_price, 2)"
   ]
  },
  {
   "cell_type": "code",
   "execution_count": 67,
   "id": "4a12abc7-eaaa-4d0b-a859-c75a65d3c405",
   "metadata": {},
   "outputs": [
    {
     "data": {
      "text/plain": [
       "100.01"
      ]
     },
     "execution_count": 67,
     "metadata": {},
     "output_type": "execute_result"
    }
   ],
   "source": [
    "average_price"
   ]
  },
  {
   "cell_type": "markdown",
   "id": "4c5d3f7a-afe3-4153-a918-e9eb4b388b5b",
   "metadata": {},
   "source": [
    "Lastly, we calculate the average income by multiplying the occupancy of each month to 3 which is the assumption we made for the stay and also we multiply them to the average price we found for all the listings.  "
   ]
  },
  {
   "cell_type": "code",
   "execution_count": 68,
   "id": "14cb8fc8-d06b-4107-944e-b18bcb51a413",
   "metadata": {},
   "outputs": [],
   "source": [
    "reviews_per_month['average_income'] = reviews_per_month['occupancy'] * 3 * average_price"
   ]
  },
  {
   "cell_type": "code",
   "execution_count": 69,
   "id": "3643867d-a493-4ce3-8ec7-92c0db817108",
   "metadata": {},
   "outputs": [],
   "source": [
    "reviews_per_month['average_income'] = round(reviews_per_month['average_income'], 2)"
   ]
  },
  {
   "cell_type": "code",
   "execution_count": 70,
   "id": "866dcd64-48d4-4c5f-8098-e70991bf0f96",
   "metadata": {},
   "outputs": [
    {
     "data": {
      "text/html": [
       "<div>\n",
       "<style scoped>\n",
       "    .dataframe tbody tr th:only-of-type {\n",
       "        vertical-align: middle;\n",
       "    }\n",
       "\n",
       "    .dataframe tbody tr th {\n",
       "        vertical-align: top;\n",
       "    }\n",
       "\n",
       "    .dataframe thead th {\n",
       "        text-align: right;\n",
       "    }\n",
       "</style>\n",
       "<table border=\"1\" class=\"dataframe\">\n",
       "  <thead>\n",
       "    <tr style=\"text-align: right;\">\n",
       "      <th></th>\n",
       "      <th>id</th>\n",
       "      <th>reviews_per_month</th>\n",
       "      <th>occupancy</th>\n",
       "      <th>average_income</th>\n",
       "    </tr>\n",
       "  </thead>\n",
       "  <tbody>\n",
       "    <tr>\n",
       "      <th>7248</th>\n",
       "      <td>54251276</td>\n",
       "      <td>15.50</td>\n",
       "      <td>31.00</td>\n",
       "      <td>9300.93</td>\n",
       "    </tr>\n",
       "    <tr>\n",
       "      <th>11736</th>\n",
       "      <td>914571599230791078</td>\n",
       "      <td>13.30</td>\n",
       "      <td>26.60</td>\n",
       "      <td>7980.80</td>\n",
       "    </tr>\n",
       "    <tr>\n",
       "      <th>5559</th>\n",
       "      <td>43778929</td>\n",
       "      <td>11.22</td>\n",
       "      <td>22.44</td>\n",
       "      <td>6732.67</td>\n",
       "    </tr>\n",
       "    <tr>\n",
       "      <th>11095</th>\n",
       "      <td>881606431285667955</td>\n",
       "      <td>11.14</td>\n",
       "      <td>22.28</td>\n",
       "      <td>6684.67</td>\n",
       "    </tr>\n",
       "    <tr>\n",
       "      <th>12573</th>\n",
       "      <td>952653984892688974</td>\n",
       "      <td>11.00</td>\n",
       "      <td>22.00</td>\n",
       "      <td>6600.66</td>\n",
       "    </tr>\n",
       "    <tr>\n",
       "      <th>...</th>\n",
       "      <td>...</td>\n",
       "      <td>...</td>\n",
       "      <td>...</td>\n",
       "      <td>...</td>\n",
       "    </tr>\n",
       "    <tr>\n",
       "      <th>12647</th>\n",
       "      <td>959096822199506780</td>\n",
       "      <td>0.00</td>\n",
       "      <td>0.00</td>\n",
       "      <td>0.00</td>\n",
       "    </tr>\n",
       "    <tr>\n",
       "      <th>7866</th>\n",
       "      <td>618492212858639427</td>\n",
       "      <td>0.00</td>\n",
       "      <td>0.00</td>\n",
       "      <td>0.00</td>\n",
       "    </tr>\n",
       "    <tr>\n",
       "      <th>11987</th>\n",
       "      <td>921018087752748978</td>\n",
       "      <td>0.00</td>\n",
       "      <td>0.00</td>\n",
       "      <td>0.00</td>\n",
       "    </tr>\n",
       "    <tr>\n",
       "      <th>10262</th>\n",
       "      <td>832482869847817259</td>\n",
       "      <td>0.00</td>\n",
       "      <td>0.00</td>\n",
       "      <td>0.00</td>\n",
       "    </tr>\n",
       "    <tr>\n",
       "      <th>10978</th>\n",
       "      <td>877234252015446178</td>\n",
       "      <td>0.00</td>\n",
       "      <td>0.00</td>\n",
       "      <td>0.00</td>\n",
       "    </tr>\n",
       "  </tbody>\n",
       "</table>\n",
       "<p>12955 rows × 4 columns</p>\n",
       "</div>"
      ],
      "text/plain": [
       "                       id  reviews_per_month  occupancy  average_income\n",
       "7248             54251276              15.50      31.00         9300.93\n",
       "11736  914571599230791078              13.30      26.60         7980.80\n",
       "5559             43778929              11.22      22.44         6732.67\n",
       "11095  881606431285667955              11.14      22.28         6684.67\n",
       "12573  952653984892688974              11.00      22.00         6600.66\n",
       "...                   ...                ...        ...             ...\n",
       "12647  959096822199506780               0.00       0.00            0.00\n",
       "7866   618492212858639427               0.00       0.00            0.00\n",
       "11987  921018087752748978               0.00       0.00            0.00\n",
       "10262  832482869847817259               0.00       0.00            0.00\n",
       "10978  877234252015446178               0.00       0.00            0.00\n",
       "\n",
       "[12955 rows x 4 columns]"
      ]
     },
     "execution_count": 70,
     "metadata": {},
     "output_type": "execute_result"
    }
   ],
   "source": [
    "reviews_per_month.sort_values(by= 'average_income', ascending = False)"
   ]
  },
  {
   "cell_type": "markdown",
   "id": "55d39f81-7563-4450-af42-798da02d42d2",
   "metadata": {},
   "source": [
    "### Q4: Reviews, Occupacy per Listing, Average Income (DIFFERENT APPROACH)"
   ]
  },
  {
   "cell_type": "markdown",
   "id": "7979f1d9-0bd1-4e6c-b1f3-0465a444e909",
   "metadata": {},
   "source": [
    "#### Reviews per Listing "
   ]
  },
  {
   "cell_type": "markdown",
   "id": "050151aa-c35f-44ff-b54d-27d1a619c15e",
   "metadata": {},
   "source": [
    "For this step now we will use the dataframe 'reviews' and specifically the columns reviewer_id"
   ]
  },
  {
   "cell_type": "code",
   "execution_count": 71,
   "id": "c455532c-b767-43ac-a625-0b943997611d",
   "metadata": {},
   "outputs": [
    {
     "data": {
      "text/plain": [
       "10999"
      ]
     },
     "execution_count": 71,
     "metadata": {},
     "output_type": "execute_result"
    }
   ],
   "source": [
    "len(reviews['listing_id'].unique())"
   ]
  },
  {
   "cell_type": "code",
   "execution_count": 72,
   "id": "0c769642-dfd4-4c5a-8971-455168f8d164",
   "metadata": {},
   "outputs": [],
   "source": [
    "Reviews_Per_Listing_dif = reviews.groupby('listing_id')['reviewer_id'].count()"
   ]
  },
  {
   "cell_type": "markdown",
   "id": "f96c5392-033a-4163-ae4f-6caca4d81d36",
   "metadata": {},
   "source": [
    "As we see from the length a lot of listings didn't got merged because they had no reviews, but we need to add them too."
   ]
  },
  {
   "cell_type": "code",
   "execution_count": 73,
   "id": "d7b9b2db-6478-4416-a3e0-22e762673c5a",
   "metadata": {},
   "outputs": [
    {
     "data": {
      "text/plain": [
       "listing_id\n",
       "10595                 42\n",
       "10990                 66\n",
       "10993                 92\n",
       "10995                 30\n",
       "27262                 21\n",
       "                      ..\n",
       "975413215364080586     4\n",
       "975966554881091774     1\n",
       "976076532701121190     1\n",
       "977373669051180593     2\n",
       "979596287508787842     1\n",
       "Name: reviewer_id, Length: 10999, dtype: int64"
      ]
     },
     "execution_count": 73,
     "metadata": {},
     "output_type": "execute_result"
    }
   ],
   "source": [
    "Reviews_Per_Listing_dif"
   ]
  },
  {
   "cell_type": "markdown",
   "id": "ed61fd1d-b95a-4f62-b859-ff248aaa4106",
   "metadata": {},
   "source": [
    "In this part of the code we are finding all the unique values of listings and them merging them on the dataframe 'Reviews_Per_Listing_dif' adding the value zero in the column of counts. "
   ]
  },
  {
   "cell_type": "code",
   "execution_count": 74,
   "id": "1954ca83-0e43-4fd0-8535-889a8cfda7b9",
   "metadata": {},
   "outputs": [],
   "source": [
    "unique_listings = list['id'].unique()"
   ]
  },
  {
   "cell_type": "code",
   "execution_count": 75,
   "id": "489af3db-6155-4838-bc55-83249782d272",
   "metadata": {},
   "outputs": [],
   "source": [
    "result = pd.DataFrame({'listing_id': unique_listings})"
   ]
  },
  {
   "cell_type": "code",
   "execution_count": 76,
   "id": "d9ea0404-e45b-4dff-a59b-384f221f53be",
   "metadata": {},
   "outputs": [],
   "source": [
    "Reviews_Per_Listing_dif = result.merge(Reviews_Per_Listing_dif, left_on='listing_id', right_index=True, how='left').fillna(0)"
   ]
  },
  {
   "cell_type": "code",
   "execution_count": 77,
   "id": "f0b19926-80a7-47c4-8699-e01648c244bd",
   "metadata": {},
   "outputs": [
    {
     "data": {
      "text/html": [
       "<div>\n",
       "<style scoped>\n",
       "    .dataframe tbody tr th:only-of-type {\n",
       "        vertical-align: middle;\n",
       "    }\n",
       "\n",
       "    .dataframe tbody tr th {\n",
       "        vertical-align: top;\n",
       "    }\n",
       "\n",
       "    .dataframe thead th {\n",
       "        text-align: right;\n",
       "    }\n",
       "</style>\n",
       "<table border=\"1\" class=\"dataframe\">\n",
       "  <thead>\n",
       "    <tr style=\"text-align: right;\">\n",
       "      <th></th>\n",
       "      <th>listing_id</th>\n",
       "      <th>reviewer_id</th>\n",
       "    </tr>\n",
       "  </thead>\n",
       "  <tbody>\n",
       "    <tr>\n",
       "      <th>0</th>\n",
       "      <td>928019327168641990</td>\n",
       "      <td>0.0</td>\n",
       "    </tr>\n",
       "    <tr>\n",
       "      <th>1</th>\n",
       "      <td>25334566</td>\n",
       "      <td>43.0</td>\n",
       "    </tr>\n",
       "    <tr>\n",
       "      <th>2</th>\n",
       "      <td>16141034</td>\n",
       "      <td>63.0</td>\n",
       "    </tr>\n",
       "    <tr>\n",
       "      <th>3</th>\n",
       "      <td>35349352</td>\n",
       "      <td>2.0</td>\n",
       "    </tr>\n",
       "    <tr>\n",
       "      <th>4</th>\n",
       "      <td>35350224</td>\n",
       "      <td>4.0</td>\n",
       "    </tr>\n",
       "    <tr>\n",
       "      <th>...</th>\n",
       "      <td>...</td>\n",
       "      <td>...</td>\n",
       "    </tr>\n",
       "    <tr>\n",
       "      <th>12950</th>\n",
       "      <td>39476638</td>\n",
       "      <td>0.0</td>\n",
       "    </tr>\n",
       "    <tr>\n",
       "      <th>12951</th>\n",
       "      <td>47138356</td>\n",
       "      <td>1.0</td>\n",
       "    </tr>\n",
       "    <tr>\n",
       "      <th>12952</th>\n",
       "      <td>42608079</td>\n",
       "      <td>1.0</td>\n",
       "    </tr>\n",
       "    <tr>\n",
       "      <th>12953</th>\n",
       "      <td>26068002</td>\n",
       "      <td>66.0</td>\n",
       "    </tr>\n",
       "    <tr>\n",
       "      <th>12954</th>\n",
       "      <td>14757686</td>\n",
       "      <td>49.0</td>\n",
       "    </tr>\n",
       "  </tbody>\n",
       "</table>\n",
       "<p>12955 rows × 2 columns</p>\n",
       "</div>"
      ],
      "text/plain": [
       "               listing_id  reviewer_id\n",
       "0      928019327168641990          0.0\n",
       "1                25334566         43.0\n",
       "2                16141034         63.0\n",
       "3                35349352          2.0\n",
       "4                35350224          4.0\n",
       "...                   ...          ...\n",
       "12950            39476638          0.0\n",
       "12951            47138356          1.0\n",
       "12952            42608079          1.0\n",
       "12953            26068002         66.0\n",
       "12954            14757686         49.0\n",
       "\n",
       "[12955 rows x 2 columns]"
      ]
     },
     "execution_count": 77,
     "metadata": {},
     "output_type": "execute_result"
    }
   ],
   "source": [
    "Reviews_Per_Listing_dif"
   ]
  },
  {
   "cell_type": "markdown",
   "id": "96b5a54e-0401-4293-b65e-5317a8f641ce",
   "metadata": {},
   "source": [
    "Let's rename the column into Total_Reviews to be represantive. "
   ]
  },
  {
   "cell_type": "code",
   "execution_count": 78,
   "id": "d7fa9748-de81-456d-92af-5d0106a89db5",
   "metadata": {},
   "outputs": [],
   "source": [
    "Reviews_Per_Listing_dif = Reviews_Per_Listing_dif.rename(columns={'reviewer_id': 'Total_Reviews'})"
   ]
  },
  {
   "cell_type": "code",
   "execution_count": 79,
   "id": "a1724afb-da29-456c-847b-ef1961251e1a",
   "metadata": {},
   "outputs": [
    {
     "data": {
      "text/html": [
       "<div>\n",
       "<style scoped>\n",
       "    .dataframe tbody tr th:only-of-type {\n",
       "        vertical-align: middle;\n",
       "    }\n",
       "\n",
       "    .dataframe tbody tr th {\n",
       "        vertical-align: top;\n",
       "    }\n",
       "\n",
       "    .dataframe thead th {\n",
       "        text-align: right;\n",
       "    }\n",
       "</style>\n",
       "<table border=\"1\" class=\"dataframe\">\n",
       "  <thead>\n",
       "    <tr style=\"text-align: right;\">\n",
       "      <th></th>\n",
       "      <th>listing_id</th>\n",
       "      <th>Total_Reviews</th>\n",
       "    </tr>\n",
       "  </thead>\n",
       "  <tbody>\n",
       "    <tr>\n",
       "      <th>0</th>\n",
       "      <td>928019327168641990</td>\n",
       "      <td>0.0</td>\n",
       "    </tr>\n",
       "    <tr>\n",
       "      <th>1</th>\n",
       "      <td>25334566</td>\n",
       "      <td>43.0</td>\n",
       "    </tr>\n",
       "    <tr>\n",
       "      <th>2</th>\n",
       "      <td>16141034</td>\n",
       "      <td>63.0</td>\n",
       "    </tr>\n",
       "    <tr>\n",
       "      <th>3</th>\n",
       "      <td>35349352</td>\n",
       "      <td>2.0</td>\n",
       "    </tr>\n",
       "    <tr>\n",
       "      <th>4</th>\n",
       "      <td>35350224</td>\n",
       "      <td>4.0</td>\n",
       "    </tr>\n",
       "    <tr>\n",
       "      <th>...</th>\n",
       "      <td>...</td>\n",
       "      <td>...</td>\n",
       "    </tr>\n",
       "    <tr>\n",
       "      <th>12950</th>\n",
       "      <td>39476638</td>\n",
       "      <td>0.0</td>\n",
       "    </tr>\n",
       "    <tr>\n",
       "      <th>12951</th>\n",
       "      <td>47138356</td>\n",
       "      <td>1.0</td>\n",
       "    </tr>\n",
       "    <tr>\n",
       "      <th>12952</th>\n",
       "      <td>42608079</td>\n",
       "      <td>1.0</td>\n",
       "    </tr>\n",
       "    <tr>\n",
       "      <th>12953</th>\n",
       "      <td>26068002</td>\n",
       "      <td>66.0</td>\n",
       "    </tr>\n",
       "    <tr>\n",
       "      <th>12954</th>\n",
       "      <td>14757686</td>\n",
       "      <td>49.0</td>\n",
       "    </tr>\n",
       "  </tbody>\n",
       "</table>\n",
       "<p>12955 rows × 2 columns</p>\n",
       "</div>"
      ],
      "text/plain": [
       "               listing_id  Total_Reviews\n",
       "0      928019327168641990            0.0\n",
       "1                25334566           43.0\n",
       "2                16141034           63.0\n",
       "3                35349352            2.0\n",
       "4                35350224            4.0\n",
       "...                   ...            ...\n",
       "12950            39476638            0.0\n",
       "12951            47138356            1.0\n",
       "12952            42608079            1.0\n",
       "12953            26068002           66.0\n",
       "12954            14757686           49.0\n",
       "\n",
       "[12955 rows x 2 columns]"
      ]
     },
     "execution_count": 79,
     "metadata": {},
     "output_type": "execute_result"
    }
   ],
   "source": [
    "Reviews_Per_Listing_dif"
   ]
  },
  {
   "cell_type": "markdown",
   "id": "34e5d121-3a20-45ef-8a69-dc820ef63158",
   "metadata": {},
   "source": [
    "We would like to decimals following it so we will drop them. "
   ]
  },
  {
   "cell_type": "code",
   "execution_count": 80,
   "id": "1cc58a10-bb81-4643-b91a-3e502d2905ef",
   "metadata": {},
   "outputs": [],
   "source": [
    "Reviews_Per_Listing_dif['Total_Reviews'] = Reviews_Per_Listing_dif['Total_Reviews'].astype(int)"
   ]
  },
  {
   "cell_type": "code",
   "execution_count": 81,
   "id": "26981530-a6d4-4459-aa59-4f3c3264fd8d",
   "metadata": {},
   "outputs": [],
   "source": [
    "Reviews_Per_Listing_dif = Reviews_Per_Listing_dif.sort_values(by = 'Total_Reviews', ascending = False)"
   ]
  },
  {
   "cell_type": "markdown",
   "id": "fd925f80-c40a-474d-839d-c0ac16df9655",
   "metadata": {},
   "source": [
    "Finally we got the total reviews for each listing!"
   ]
  },
  {
   "cell_type": "code",
   "execution_count": 82,
   "id": "ecefee3a-e748-4a67-b5c4-2c558bee1759",
   "metadata": {},
   "outputs": [
    {
     "data": {
      "text/html": [
       "<div>\n",
       "<style scoped>\n",
       "    .dataframe tbody tr th:only-of-type {\n",
       "        vertical-align: middle;\n",
       "    }\n",
       "\n",
       "    .dataframe tbody tr th {\n",
       "        vertical-align: top;\n",
       "    }\n",
       "\n",
       "    .dataframe thead th {\n",
       "        text-align: right;\n",
       "    }\n",
       "</style>\n",
       "<table border=\"1\" class=\"dataframe\">\n",
       "  <thead>\n",
       "    <tr style=\"text-align: right;\">\n",
       "      <th></th>\n",
       "      <th>listing_id</th>\n",
       "      <th>Total_Reviews</th>\n",
       "    </tr>\n",
       "  </thead>\n",
       "  <tbody>\n",
       "    <tr>\n",
       "      <th>1432</th>\n",
       "      <td>1177492</td>\n",
       "      <td>865</td>\n",
       "    </tr>\n",
       "    <tr>\n",
       "      <th>11096</th>\n",
       "      <td>3431705</td>\n",
       "      <td>856</td>\n",
       "    </tr>\n",
       "    <tr>\n",
       "      <th>9515</th>\n",
       "      <td>13553080</td>\n",
       "      <td>778</td>\n",
       "    </tr>\n",
       "    <tr>\n",
       "      <th>7766</th>\n",
       "      <td>14583913</td>\n",
       "      <td>764</td>\n",
       "    </tr>\n",
       "    <tr>\n",
       "      <th>5764</th>\n",
       "      <td>5025556</td>\n",
       "      <td>731</td>\n",
       "    </tr>\n",
       "    <tr>\n",
       "      <th>...</th>\n",
       "      <td>...</td>\n",
       "      <td>...</td>\n",
       "    </tr>\n",
       "    <tr>\n",
       "      <th>8554</th>\n",
       "      <td>959096822199506780</td>\n",
       "      <td>0</td>\n",
       "    </tr>\n",
       "    <tr>\n",
       "      <th>8564</th>\n",
       "      <td>618492212858639427</td>\n",
       "      <td>0</td>\n",
       "    </tr>\n",
       "    <tr>\n",
       "      <th>8565</th>\n",
       "      <td>921018087752748978</td>\n",
       "      <td>0</td>\n",
       "    </tr>\n",
       "    <tr>\n",
       "      <th>8566</th>\n",
       "      <td>832482869847817259</td>\n",
       "      <td>0</td>\n",
       "    </tr>\n",
       "    <tr>\n",
       "      <th>6477</th>\n",
       "      <td>877234252015446178</td>\n",
       "      <td>0</td>\n",
       "    </tr>\n",
       "  </tbody>\n",
       "</table>\n",
       "<p>12955 rows × 2 columns</p>\n",
       "</div>"
      ],
      "text/plain": [
       "               listing_id  Total_Reviews\n",
       "1432              1177492            865\n",
       "11096             3431705            856\n",
       "9515             13553080            778\n",
       "7766             14583913            764\n",
       "5764              5025556            731\n",
       "...                   ...            ...\n",
       "8554   959096822199506780              0\n",
       "8564   618492212858639427              0\n",
       "8565   921018087752748978              0\n",
       "8566   832482869847817259              0\n",
       "6477   877234252015446178              0\n",
       "\n",
       "[12955 rows x 2 columns]"
      ]
     },
     "execution_count": 82,
     "metadata": {},
     "output_type": "execute_result"
    }
   ],
   "source": [
    "Reviews_Per_Listing_dif"
   ]
  },
  {
   "cell_type": "code",
   "execution_count": 83,
   "id": "25d6f486-1166-4d98-8c0d-d248c91e7fdf",
   "metadata": {},
   "outputs": [
    {
     "data": {
      "text/plain": [
       "0"
      ]
     },
     "execution_count": 83,
     "metadata": {},
     "output_type": "execute_result"
    }
   ],
   "source": [
    "min_reviews_dif = Reviews_Per_Listing_dif['Total_Reviews'].min()\n",
    "min_reviews_dif"
   ]
  },
  {
   "cell_type": "code",
   "execution_count": 84,
   "id": "79370d9d-ec11-4f75-b883-a4cde06c8d27",
   "metadata": {},
   "outputs": [
    {
     "data": {
      "text/plain": [
       "865"
      ]
     },
     "execution_count": 84,
     "metadata": {},
     "output_type": "execute_result"
    }
   ],
   "source": [
    "max_reviews_dif = Reviews_Per_Listing_dif['Total_Reviews'].max()\n",
    "max_reviews_dif"
   ]
  },
  {
   "cell_type": "code",
   "execution_count": 85,
   "id": "3f40ea4b-50b5-4dfb-a521-c00c0a4ba4e5",
   "metadata": {},
   "outputs": [
    {
     "data": {
      "text/plain": [
       "900"
      ]
     },
     "execution_count": 85,
     "metadata": {},
     "output_type": "execute_result"
    }
   ],
   "source": [
    "bin_size_dif = int(np.ceil(max_reviews_dif / 100.0) * 100)\n",
    "bin_size_dif"
   ]
  },
  {
   "cell_type": "code",
   "execution_count": 86,
   "id": "1caa84a3-74e0-4323-bb5a-1695acce53e4",
   "metadata": {},
   "outputs": [
    {
     "data": {
      "image/png": "[encoded data removed]",
      "text/plain": [
       "<Figure size 640x480 with 1 Axes>"
      ]
     },
     "metadata": {},
     "output_type": "display_data"
    }
   ],
   "source": [
    "plt.hist(Reviews_Per_Listing_dif['Total_Reviews'],bins=np.linspace(0, bin_size, 50), edgecolor='black')\n",
    "plt.title('Number of Reviews per Listing')\n",
    "plt.xlabel('Number of Reviews')\n",
    "plt.ylabel('Number Of Listings Per Reviews')\n",
    "plt.grid(True)\n",
    "plt.show()"
   ]
  },
  {
   "cell_type": "markdown",
   "id": "923707c9-54b0-4a85-9036-427d55e01699",
   "metadata": {},
   "source": [
    "#### Occupancy of each airbnb for each passing month"
   ]
  },
  {
   "cell_type": "code",
   "execution_count": 141,
   "id": "80d2f390-5971-4637-8679-6d64e79364ee",
   "metadata": {},
   "outputs": [],
   "source": [
    "reviews['date'] = pd.to_datetime(reviews['date'])"
   ]
  },
  {
   "cell_type": "markdown",
   "id": "7d942196-567f-450a-84dc-97637518de22",
   "metadata": {},
   "source": [
    "We are grouping by both listing_id and date to count the reviewer_id for both listing_id and each month of the listing_id."
   ]
  },
  {
   "cell_type": "markdown",
   "id": "ff3abe5d-97fd-4134-b5e3-e8b0aac0e854",
   "metadata": {},
   "source": [
    "Keep in mind we want only till month so we are leaving the days off this."
   ]
  },
  {
   "cell_type": "code",
   "execution_count": 142,
   "id": "11676363-4baa-4050-acff-31d24aaf7f06",
   "metadata": {},
   "outputs": [],
   "source": [
    "reviews_per_month_dif = reviews.groupby(['listing_id',reviews['date'].dt.to_period('M')])['reviewer_id'].count().reset_index()"
   ]
  },
  {
   "cell_type": "code",
   "execution_count": 143,
   "id": "d8973d77-1426-4335-83cc-83524589a0e0",
   "metadata": {},
   "outputs": [
    {
     "data": {
      "text/html": [
       "<div>\n",
       "<style scoped>\n",
       "    .dataframe tbody tr th:only-of-type {\n",
       "        vertical-align: middle;\n",
       "    }\n",
       "\n",
       "    .dataframe tbody tr th {\n",
       "        vertical-align: top;\n",
       "    }\n",
       "\n",
       "    .dataframe thead th {\n",
       "        text-align: right;\n",
       "    }\n",
       "</style>\n",
       "<table border=\"1\" class=\"dataframe\">\n",
       "  <thead>\n",
       "    <tr style=\"text-align: right;\">\n",
       "      <th></th>\n",
       "      <th>listing_id</th>\n",
       "      <th>date</th>\n",
       "      <th>reviewer_id</th>\n",
       "    </tr>\n",
       "  </thead>\n",
       "  <tbody>\n",
       "    <tr>\n",
       "      <th>0</th>\n",
       "      <td>10595</td>\n",
       "      <td>2011-05</td>\n",
       "      <td>1</td>\n",
       "    </tr>\n",
       "    <tr>\n",
       "      <th>1</th>\n",
       "      <td>10595</td>\n",
       "      <td>2012-08</td>\n",
       "      <td>1</td>\n",
       "    </tr>\n",
       "    <tr>\n",
       "      <th>2</th>\n",
       "      <td>10595</td>\n",
       "      <td>2013-05</td>\n",
       "      <td>1</td>\n",
       "    </tr>\n",
       "    <tr>\n",
       "      <th>3</th>\n",
       "      <td>10595</td>\n",
       "      <td>2014-05</td>\n",
       "      <td>1</td>\n",
       "    </tr>\n",
       "    <tr>\n",
       "      <th>4</th>\n",
       "      <td>10595</td>\n",
       "      <td>2014-09</td>\n",
       "      <td>1</td>\n",
       "    </tr>\n",
       "    <tr>\n",
       "      <th>...</th>\n",
       "      <td>...</td>\n",
       "      <td>...</td>\n",
       "      <td>...</td>\n",
       "    </tr>\n",
       "    <tr>\n",
       "      <th>187626</th>\n",
       "      <td>975413215364080586</td>\n",
       "      <td>2023-09</td>\n",
       "      <td>4</td>\n",
       "    </tr>\n",
       "    <tr>\n",
       "      <th>187627</th>\n",
       "      <td>975966554881091774</td>\n",
       "      <td>2023-09</td>\n",
       "      <td>1</td>\n",
       "    </tr>\n",
       "    <tr>\n",
       "      <th>187628</th>\n",
       "      <td>976076532701121190</td>\n",
       "      <td>2023-09</td>\n",
       "      <td>1</td>\n",
       "    </tr>\n",
       "    <tr>\n",
       "      <th>187629</th>\n",
       "      <td>977373669051180593</td>\n",
       "      <td>2023-09</td>\n",
       "      <td>2</td>\n",
       "    </tr>\n",
       "    <tr>\n",
       "      <th>187630</th>\n",
       "      <td>979596287508787842</td>\n",
       "      <td>2023-09</td>\n",
       "      <td>1</td>\n",
       "    </tr>\n",
       "  </tbody>\n",
       "</table>\n",
       "<p>187631 rows × 3 columns</p>\n",
       "</div>"
      ],
      "text/plain": [
       "                listing_id     date  reviewer_id\n",
       "0                    10595  2011-05            1\n",
       "1                    10595  2012-08            1\n",
       "2                    10595  2013-05            1\n",
       "3                    10595  2014-05            1\n",
       "4                    10595  2014-09            1\n",
       "...                    ...      ...          ...\n",
       "187626  975413215364080586  2023-09            4\n",
       "187627  975966554881091774  2023-09            1\n",
       "187628  976076532701121190  2023-09            1\n",
       "187629  977373669051180593  2023-09            2\n",
       "187630  979596287508787842  2023-09            1\n",
       "\n",
       "[187631 rows x 3 columns]"
      ]
     },
     "execution_count": 143,
     "metadata": {},
     "output_type": "execute_result"
    }
   ],
   "source": [
    "reviews_per_month_dif"
   ]
  },
  {
   "cell_type": "markdown",
   "id": "483460db-8f97-4ba9-b8c7-38884e7a3a06",
   "metadata": {},
   "source": [
    "We are renaming the column into Total Reviews to know what we are working on."
   ]
  },
  {
   "cell_type": "code",
   "execution_count": 144,
   "id": "ea35b568-ce66-469c-85d6-f5401cd923b1",
   "metadata": {},
   "outputs": [],
   "source": [
    "reviews_per_month_dif = reviews_per_month_dif.rename(columns={'reviewer_id': 'Total_Reviews'})"
   ]
  },
  {
   "cell_type": "code",
   "execution_count": 145,
   "id": "f4700b74-f906-4e9d-ab63-37607b3b66a7",
   "metadata": {},
   "outputs": [
    {
     "data": {
      "text/html": [
       "<div>\n",
       "<style scoped>\n",
       "    .dataframe tbody tr th:only-of-type {\n",
       "        vertical-align: middle;\n",
       "    }\n",
       "\n",
       "    .dataframe tbody tr th {\n",
       "        vertical-align: top;\n",
       "    }\n",
       "\n",
       "    .dataframe thead th {\n",
       "        text-align: right;\n",
       "    }\n",
       "</style>\n",
       "<table border=\"1\" class=\"dataframe\">\n",
       "  <thead>\n",
       "    <tr style=\"text-align: right;\">\n",
       "      <th></th>\n",
       "      <th>listing_id</th>\n",
       "      <th>date</th>\n",
       "      <th>Total_Reviews</th>\n",
       "    </tr>\n",
       "  </thead>\n",
       "  <tbody>\n",
       "    <tr>\n",
       "      <th>85897</th>\n",
       "      <td>26799566</td>\n",
       "      <td>2021-04</td>\n",
       "      <td>30</td>\n",
       "    </tr>\n",
       "    <tr>\n",
       "      <th>163897</th>\n",
       "      <td>54251276</td>\n",
       "      <td>2022-09</td>\n",
       "      <td>28</td>\n",
       "    </tr>\n",
       "    <tr>\n",
       "      <th>163908</th>\n",
       "      <td>54251276</td>\n",
       "      <td>2023-08</td>\n",
       "      <td>25</td>\n",
       "    </tr>\n",
       "    <tr>\n",
       "      <th>100942</th>\n",
       "      <td>30616019</td>\n",
       "      <td>2022-07</td>\n",
       "      <td>24</td>\n",
       "    </tr>\n",
       "    <tr>\n",
       "      <th>36989</th>\n",
       "      <td>15841192</td>\n",
       "      <td>2019-06</td>\n",
       "      <td>22</td>\n",
       "    </tr>\n",
       "    <tr>\n",
       "      <th>...</th>\n",
       "      <td>...</td>\n",
       "      <td>...</td>\n",
       "      <td>...</td>\n",
       "    </tr>\n",
       "    <tr>\n",
       "      <th>98618</th>\n",
       "      <td>30195411</td>\n",
       "      <td>2021-11</td>\n",
       "      <td>1</td>\n",
       "    </tr>\n",
       "    <tr>\n",
       "      <th>98613</th>\n",
       "      <td>30195411</td>\n",
       "      <td>2021-06</td>\n",
       "      <td>1</td>\n",
       "    </tr>\n",
       "    <tr>\n",
       "      <th>98607</th>\n",
       "      <td>30195411</td>\n",
       "      <td>2020-02</td>\n",
       "      <td>1</td>\n",
       "    </tr>\n",
       "    <tr>\n",
       "      <th>98604</th>\n",
       "      <td>30195411</td>\n",
       "      <td>2019-11</td>\n",
       "      <td>1</td>\n",
       "    </tr>\n",
       "    <tr>\n",
       "      <th>187630</th>\n",
       "      <td>979596287508787842</td>\n",
       "      <td>2023-09</td>\n",
       "      <td>1</td>\n",
       "    </tr>\n",
       "  </tbody>\n",
       "</table>\n",
       "<p>187631 rows × 3 columns</p>\n",
       "</div>"
      ],
      "text/plain": [
       "                listing_id     date  Total_Reviews\n",
       "85897             26799566  2021-04             30\n",
       "163897            54251276  2022-09             28\n",
       "163908            54251276  2023-08             25\n",
       "100942            30616019  2022-07             24\n",
       "36989             15841192  2019-06             22\n",
       "...                    ...      ...            ...\n",
       "98618             30195411  2021-11              1\n",
       "98613             30195411  2021-06              1\n",
       "98607             30195411  2020-02              1\n",
       "98604             30195411  2019-11              1\n",
       "187630  979596287508787842  2023-09              1\n",
       "\n",
       "[187631 rows x 3 columns]"
      ]
     },
     "execution_count": 145,
     "metadata": {},
     "output_type": "execute_result"
    }
   ],
   "source": [
    "reviews_per_month_dif.sort_values(by = 'Total_Reviews', ascending = False) "
   ]
  },
  {
   "cell_type": "markdown",
   "id": "ef4473fe-fd3e-4433-b2f4-42f528a51fac",
   "metadata": {},
   "source": [
    "Now we are grouping by only listing_id to find the Mean Reviews per month."
   ]
  },
  {
   "cell_type": "code",
   "execution_count": 146,
   "id": "de0869a8-df9a-44d9-8bff-14cb8c377bcf",
   "metadata": {},
   "outputs": [],
   "source": [
    "reviews_per_month_dif['total_reviews_per_month'] = reviews_per_month_dif.groupby('listing_id')['Total_Reviews'].transform('mean')"
   ]
  },
  {
   "cell_type": "code",
   "execution_count": 147,
   "id": "a5248fe2-5800-4a96-87b4-1804a42c2c52",
   "metadata": {},
   "outputs": [
    {
     "data": {
      "text/html": [
       "<div>\n",
       "<style scoped>\n",
       "    .dataframe tbody tr th:only-of-type {\n",
       "        vertical-align: middle;\n",
       "    }\n",
       "\n",
       "    .dataframe tbody tr th {\n",
       "        vertical-align: top;\n",
       "    }\n",
       "\n",
       "    .dataframe thead th {\n",
       "        text-align: right;\n",
       "    }\n",
       "</style>\n",
       "<table border=\"1\" class=\"dataframe\">\n",
       "  <thead>\n",
       "    <tr style=\"text-align: right;\">\n",
       "      <th></th>\n",
       "      <th>listing_id</th>\n",
       "      <th>date</th>\n",
       "      <th>Total_Reviews</th>\n",
       "      <th>total_reviews_per_month</th>\n",
       "    </tr>\n",
       "  </thead>\n",
       "  <tbody>\n",
       "    <tr>\n",
       "      <th>0</th>\n",
       "      <td>10595</td>\n",
       "      <td>2011-05</td>\n",
       "      <td>1</td>\n",
       "      <td>1.235294</td>\n",
       "    </tr>\n",
       "    <tr>\n",
       "      <th>1</th>\n",
       "      <td>10595</td>\n",
       "      <td>2012-08</td>\n",
       "      <td>1</td>\n",
       "      <td>1.235294</td>\n",
       "    </tr>\n",
       "    <tr>\n",
       "      <th>2</th>\n",
       "      <td>10595</td>\n",
       "      <td>2013-05</td>\n",
       "      <td>1</td>\n",
       "      <td>1.235294</td>\n",
       "    </tr>\n",
       "    <tr>\n",
       "      <th>3</th>\n",
       "      <td>10595</td>\n",
       "      <td>2014-05</td>\n",
       "      <td>1</td>\n",
       "      <td>1.235294</td>\n",
       "    </tr>\n",
       "    <tr>\n",
       "      <th>4</th>\n",
       "      <td>10595</td>\n",
       "      <td>2014-09</td>\n",
       "      <td>1</td>\n",
       "      <td>1.235294</td>\n",
       "    </tr>\n",
       "    <tr>\n",
       "      <th>...</th>\n",
       "      <td>...</td>\n",
       "      <td>...</td>\n",
       "      <td>...</td>\n",
       "      <td>...</td>\n",
       "    </tr>\n",
       "    <tr>\n",
       "      <th>187626</th>\n",
       "      <td>975413215364080586</td>\n",
       "      <td>2023-09</td>\n",
       "      <td>4</td>\n",
       "      <td>4.000000</td>\n",
       "    </tr>\n",
       "    <tr>\n",
       "      <th>187627</th>\n",
       "      <td>975966554881091774</td>\n",
       "      <td>2023-09</td>\n",
       "      <td>1</td>\n",
       "      <td>1.000000</td>\n",
       "    </tr>\n",
       "    <tr>\n",
       "      <th>187628</th>\n",
       "      <td>976076532701121190</td>\n",
       "      <td>2023-09</td>\n",
       "      <td>1</td>\n",
       "      <td>1.000000</td>\n",
       "    </tr>\n",
       "    <tr>\n",
       "      <th>187629</th>\n",
       "      <td>977373669051180593</td>\n",
       "      <td>2023-09</td>\n",
       "      <td>2</td>\n",
       "      <td>2.000000</td>\n",
       "    </tr>\n",
       "    <tr>\n",
       "      <th>187630</th>\n",
       "      <td>979596287508787842</td>\n",
       "      <td>2023-09</td>\n",
       "      <td>1</td>\n",
       "      <td>1.000000</td>\n",
       "    </tr>\n",
       "  </tbody>\n",
       "</table>\n",
       "<p>187631 rows × 4 columns</p>\n",
       "</div>"
      ],
      "text/plain": [
       "                listing_id     date  Total_Reviews  total_reviews_per_month\n",
       "0                    10595  2011-05              1                 1.235294\n",
       "1                    10595  2012-08              1                 1.235294\n",
       "2                    10595  2013-05              1                 1.235294\n",
       "3                    10595  2014-05              1                 1.235294\n",
       "4                    10595  2014-09              1                 1.235294\n",
       "...                    ...      ...            ...                      ...\n",
       "187626  975413215364080586  2023-09              4                 4.000000\n",
       "187627  975966554881091774  2023-09              1                 1.000000\n",
       "187628  976076532701121190  2023-09              1                 1.000000\n",
       "187629  977373669051180593  2023-09              2                 2.000000\n",
       "187630  979596287508787842  2023-09              1                 1.000000\n",
       "\n",
       "[187631 rows x 4 columns]"
      ]
     },
     "execution_count": 147,
     "metadata": {},
     "output_type": "execute_result"
    }
   ],
   "source": [
    "reviews_per_month_dif"
   ]
  },
  {
   "cell_type": "markdown",
   "id": "e3cea770-d8a2-47f0-9b76-d515f833a972",
   "metadata": {},
   "source": [
    "We will keep only two decimals."
   ]
  },
  {
   "cell_type": "code",
   "execution_count": 148,
   "id": "c4e3e6f6-fb7c-4689-87a7-910cfb84a9ef",
   "metadata": {},
   "outputs": [],
   "source": [
    "reviews_per_month_dif = round(reviews_per_month_dif,2)"
   ]
  },
  {
   "cell_type": "code",
   "execution_count": 149,
   "id": "92415562-ed87-4685-b305-2904086db56f",
   "metadata": {},
   "outputs": [
    {
     "data": {
      "text/html": [
       "<div>\n",
       "<style scoped>\n",
       "    .dataframe tbody tr th:only-of-type {\n",
       "        vertical-align: middle;\n",
       "    }\n",
       "\n",
       "    .dataframe tbody tr th {\n",
       "        vertical-align: top;\n",
       "    }\n",
       "\n",
       "    .dataframe thead th {\n",
       "        text-align: right;\n",
       "    }\n",
       "</style>\n",
       "<table border=\"1\" class=\"dataframe\">\n",
       "  <thead>\n",
       "    <tr style=\"text-align: right;\">\n",
       "      <th></th>\n",
       "      <th>listing_id</th>\n",
       "      <th>date</th>\n",
       "      <th>Total_Reviews</th>\n",
       "      <th>total_reviews_per_month</th>\n",
       "    </tr>\n",
       "  </thead>\n",
       "  <tbody>\n",
       "    <tr>\n",
       "      <th>163905</th>\n",
       "      <td>54251276</td>\n",
       "      <td>2023-05</td>\n",
       "      <td>14</td>\n",
       "      <td>14.68</td>\n",
       "    </tr>\n",
       "    <tr>\n",
       "      <th>163908</th>\n",
       "      <td>54251276</td>\n",
       "      <td>2023-08</td>\n",
       "      <td>25</td>\n",
       "      <td>14.68</td>\n",
       "    </tr>\n",
       "    <tr>\n",
       "      <th>163893</th>\n",
       "      <td>54251276</td>\n",
       "      <td>2022-05</td>\n",
       "      <td>16</td>\n",
       "      <td>14.68</td>\n",
       "    </tr>\n",
       "    <tr>\n",
       "      <th>163894</th>\n",
       "      <td>54251276</td>\n",
       "      <td>2022-06</td>\n",
       "      <td>10</td>\n",
       "      <td>14.68</td>\n",
       "    </tr>\n",
       "    <tr>\n",
       "      <th>163895</th>\n",
       "      <td>54251276</td>\n",
       "      <td>2022-07</td>\n",
       "      <td>11</td>\n",
       "      <td>14.68</td>\n",
       "    </tr>\n",
       "    <tr>\n",
       "      <th>...</th>\n",
       "      <td>...</td>\n",
       "      <td>...</td>\n",
       "      <td>...</td>\n",
       "      <td>...</td>\n",
       "    </tr>\n",
       "    <tr>\n",
       "      <th>130831</th>\n",
       "      <td>39194565</td>\n",
       "      <td>2022-03</td>\n",
       "      <td>1</td>\n",
       "      <td>1.00</td>\n",
       "    </tr>\n",
       "    <tr>\n",
       "      <th>130832</th>\n",
       "      <td>39194565</td>\n",
       "      <td>2023-06</td>\n",
       "      <td>1</td>\n",
       "      <td>1.00</td>\n",
       "    </tr>\n",
       "    <tr>\n",
       "      <th>131137</th>\n",
       "      <td>39251016</td>\n",
       "      <td>2019-11</td>\n",
       "      <td>1</td>\n",
       "      <td>1.00</td>\n",
       "    </tr>\n",
       "    <tr>\n",
       "      <th>131174</th>\n",
       "      <td>39270898</td>\n",
       "      <td>2019-10</td>\n",
       "      <td>1</td>\n",
       "      <td>1.00</td>\n",
       "    </tr>\n",
       "    <tr>\n",
       "      <th>187630</th>\n",
       "      <td>979596287508787842</td>\n",
       "      <td>2023-09</td>\n",
       "      <td>1</td>\n",
       "      <td>1.00</td>\n",
       "    </tr>\n",
       "  </tbody>\n",
       "</table>\n",
       "<p>187631 rows × 4 columns</p>\n",
       "</div>"
      ],
      "text/plain": [
       "                listing_id     date  Total_Reviews  total_reviews_per_month\n",
       "163905            54251276  2023-05             14                    14.68\n",
       "163908            54251276  2023-08             25                    14.68\n",
       "163893            54251276  2022-05             16                    14.68\n",
       "163894            54251276  2022-06             10                    14.68\n",
       "163895            54251276  2022-07             11                    14.68\n",
       "...                    ...      ...            ...                      ...\n",
       "130831            39194565  2022-03              1                     1.00\n",
       "130832            39194565  2023-06              1                     1.00\n",
       "131137            39251016  2019-11              1                     1.00\n",
       "131174            39270898  2019-10              1                     1.00\n",
       "187630  979596287508787842  2023-09              1                     1.00\n",
       "\n",
       "[187631 rows x 4 columns]"
      ]
     },
     "execution_count": 149,
     "metadata": {},
     "output_type": "execute_result"
    }
   ],
   "source": [
    "reviews_per_month_dif.sort_values(by = 'total_reviews_per_month', ascending = False) "
   ]
  },
  {
   "cell_type": "markdown",
   "id": "fc9783f1-7a03-4d94-962b-57af90839960",
   "metadata": {},
   "source": [
    "Based on our assumption we are multiplying by 2."
   ]
  },
  {
   "cell_type": "code",
   "execution_count": 150,
   "id": "1c4694d9-88c1-43ae-b2fd-2fe0694e5840",
   "metadata": {},
   "outputs": [],
   "source": [
    "reviews_per_month_dif['occupancy'] = reviews_per_month_dif['total_reviews_per_month'] * 2"
   ]
  },
  {
   "cell_type": "code",
   "execution_count": 151,
   "id": "4e48f157-e561-4e06-a77f-7c2982f9d383",
   "metadata": {},
   "outputs": [
    {
     "data": {
      "text/html": [
       "<div>\n",
       "<style scoped>\n",
       "    .dataframe tbody tr th:only-of-type {\n",
       "        vertical-align: middle;\n",
       "    }\n",
       "\n",
       "    .dataframe tbody tr th {\n",
       "        vertical-align: top;\n",
       "    }\n",
       "\n",
       "    .dataframe thead th {\n",
       "        text-align: right;\n",
       "    }\n",
       "</style>\n",
       "<table border=\"1\" class=\"dataframe\">\n",
       "  <thead>\n",
       "    <tr style=\"text-align: right;\">\n",
       "      <th></th>\n",
       "      <th>listing_id</th>\n",
       "      <th>date</th>\n",
       "      <th>Total_Reviews</th>\n",
       "      <th>total_reviews_per_month</th>\n",
       "      <th>occupancy</th>\n",
       "    </tr>\n",
       "  </thead>\n",
       "  <tbody>\n",
       "    <tr>\n",
       "      <th>163905</th>\n",
       "      <td>54251276</td>\n",
       "      <td>2023-05</td>\n",
       "      <td>14</td>\n",
       "      <td>14.68</td>\n",
       "      <td>29.36</td>\n",
       "    </tr>\n",
       "    <tr>\n",
       "      <th>163908</th>\n",
       "      <td>54251276</td>\n",
       "      <td>2023-08</td>\n",
       "      <td>25</td>\n",
       "      <td>14.68</td>\n",
       "      <td>29.36</td>\n",
       "    </tr>\n",
       "    <tr>\n",
       "      <th>163893</th>\n",
       "      <td>54251276</td>\n",
       "      <td>2022-05</td>\n",
       "      <td>16</td>\n",
       "      <td>14.68</td>\n",
       "      <td>29.36</td>\n",
       "    </tr>\n",
       "    <tr>\n",
       "      <th>163894</th>\n",
       "      <td>54251276</td>\n",
       "      <td>2022-06</td>\n",
       "      <td>10</td>\n",
       "      <td>14.68</td>\n",
       "      <td>29.36</td>\n",
       "    </tr>\n",
       "    <tr>\n",
       "      <th>163895</th>\n",
       "      <td>54251276</td>\n",
       "      <td>2022-07</td>\n",
       "      <td>11</td>\n",
       "      <td>14.68</td>\n",
       "      <td>29.36</td>\n",
       "    </tr>\n",
       "    <tr>\n",
       "      <th>...</th>\n",
       "      <td>...</td>\n",
       "      <td>...</td>\n",
       "      <td>...</td>\n",
       "      <td>...</td>\n",
       "      <td>...</td>\n",
       "    </tr>\n",
       "    <tr>\n",
       "      <th>130831</th>\n",
       "      <td>39194565</td>\n",
       "      <td>2022-03</td>\n",
       "      <td>1</td>\n",
       "      <td>1.00</td>\n",
       "      <td>2.00</td>\n",
       "    </tr>\n",
       "    <tr>\n",
       "      <th>130832</th>\n",
       "      <td>39194565</td>\n",
       "      <td>2023-06</td>\n",
       "      <td>1</td>\n",
       "      <td>1.00</td>\n",
       "      <td>2.00</td>\n",
       "    </tr>\n",
       "    <tr>\n",
       "      <th>131137</th>\n",
       "      <td>39251016</td>\n",
       "      <td>2019-11</td>\n",
       "      <td>1</td>\n",
       "      <td>1.00</td>\n",
       "      <td>2.00</td>\n",
       "    </tr>\n",
       "    <tr>\n",
       "      <th>131174</th>\n",
       "      <td>39270898</td>\n",
       "      <td>2019-10</td>\n",
       "      <td>1</td>\n",
       "      <td>1.00</td>\n",
       "      <td>2.00</td>\n",
       "    </tr>\n",
       "    <tr>\n",
       "      <th>187630</th>\n",
       "      <td>979596287508787842</td>\n",
       "      <td>2023-09</td>\n",
       "      <td>1</td>\n",
       "      <td>1.00</td>\n",
       "      <td>2.00</td>\n",
       "    </tr>\n",
       "  </tbody>\n",
       "</table>\n",
       "<p>187631 rows × 5 columns</p>\n",
       "</div>"
      ],
      "text/plain": [
       "                listing_id     date  Total_Reviews  total_reviews_per_month  \\\n",
       "163905            54251276  2023-05             14                    14.68   \n",
       "163908            54251276  2023-08             25                    14.68   \n",
       "163893            54251276  2022-05             16                    14.68   \n",
       "163894            54251276  2022-06             10                    14.68   \n",
       "163895            54251276  2022-07             11                    14.68   \n",
       "...                    ...      ...            ...                      ...   \n",
       "130831            39194565  2022-03              1                     1.00   \n",
       "130832            39194565  2023-06              1                     1.00   \n",
       "131137            39251016  2019-11              1                     1.00   \n",
       "131174            39270898  2019-10              1                     1.00   \n",
       "187630  979596287508787842  2023-09              1                     1.00   \n",
       "\n",
       "        occupancy  \n",
       "163905      29.36  \n",
       "163908      29.36  \n",
       "163893      29.36  \n",
       "163894      29.36  \n",
       "163895      29.36  \n",
       "...           ...  \n",
       "130831       2.00  \n",
       "130832       2.00  \n",
       "131137       2.00  \n",
       "131174       2.00  \n",
       "187630       2.00  \n",
       "\n",
       "[187631 rows x 5 columns]"
      ]
     },
     "execution_count": 151,
     "metadata": {},
     "output_type": "execute_result"
    }
   ],
   "source": [
    "reviews_per_month_dif.sort_values(by = 'occupancy', ascending = False)"
   ]
  },
  {
   "cell_type": "markdown",
   "id": "cc78a45a-6785-43e5-b56e-c9c49ff08e6c",
   "metadata": {},
   "source": [
    "We are creating a new dataframe to have only the columns listing_id and occupancy that we need."
   ]
  },
  {
   "cell_type": "code",
   "execution_count": 165,
   "id": "51fc8398-bd11-4949-abc8-324759af5306",
   "metadata": {},
   "outputs": [],
   "source": [
    "reviews_per_month_final = reviews_per_month_dif[['listing_id','occupancy']]"
   ]
  },
  {
   "cell_type": "code",
   "execution_count": 166,
   "id": "f443820a-611e-4284-b7a8-6a2c006e936a",
   "metadata": {},
   "outputs": [
    {
     "data": {
      "text/html": [
       "<div>\n",
       "<style scoped>\n",
       "    .dataframe tbody tr th:only-of-type {\n",
       "        vertical-align: middle;\n",
       "    }\n",
       "\n",
       "    .dataframe tbody tr th {\n",
       "        vertical-align: top;\n",
       "    }\n",
       "\n",
       "    .dataframe thead th {\n",
       "        text-align: right;\n",
       "    }\n",
       "</style>\n",
       "<table border=\"1\" class=\"dataframe\">\n",
       "  <thead>\n",
       "    <tr style=\"text-align: right;\">\n",
       "      <th></th>\n",
       "      <th>listing_id</th>\n",
       "      <th>occupancy</th>\n",
       "    </tr>\n",
       "  </thead>\n",
       "  <tbody>\n",
       "    <tr>\n",
       "      <th>0</th>\n",
       "      <td>10595</td>\n",
       "      <td>2.48</td>\n",
       "    </tr>\n",
       "    <tr>\n",
       "      <th>1</th>\n",
       "      <td>10595</td>\n",
       "      <td>2.48</td>\n",
       "    </tr>\n",
       "    <tr>\n",
       "      <th>2</th>\n",
       "      <td>10595</td>\n",
       "      <td>2.48</td>\n",
       "    </tr>\n",
       "    <tr>\n",
       "      <th>3</th>\n",
       "      <td>10595</td>\n",
       "      <td>2.48</td>\n",
       "    </tr>\n",
       "    <tr>\n",
       "      <th>4</th>\n",
       "      <td>10595</td>\n",
       "      <td>2.48</td>\n",
       "    </tr>\n",
       "    <tr>\n",
       "      <th>...</th>\n",
       "      <td>...</td>\n",
       "      <td>...</td>\n",
       "    </tr>\n",
       "    <tr>\n",
       "      <th>187626</th>\n",
       "      <td>975413215364080586</td>\n",
       "      <td>8.00</td>\n",
       "    </tr>\n",
       "    <tr>\n",
       "      <th>187627</th>\n",
       "      <td>975966554881091774</td>\n",
       "      <td>2.00</td>\n",
       "    </tr>\n",
       "    <tr>\n",
       "      <th>187628</th>\n",
       "      <td>976076532701121190</td>\n",
       "      <td>2.00</td>\n",
       "    </tr>\n",
       "    <tr>\n",
       "      <th>187629</th>\n",
       "      <td>977373669051180593</td>\n",
       "      <td>4.00</td>\n",
       "    </tr>\n",
       "    <tr>\n",
       "      <th>187630</th>\n",
       "      <td>979596287508787842</td>\n",
       "      <td>2.00</td>\n",
       "    </tr>\n",
       "  </tbody>\n",
       "</table>\n",
       "<p>187631 rows × 2 columns</p>\n",
       "</div>"
      ],
      "text/plain": [
       "                listing_id  occupancy\n",
       "0                    10595       2.48\n",
       "1                    10595       2.48\n",
       "2                    10595       2.48\n",
       "3                    10595       2.48\n",
       "4                    10595       2.48\n",
       "...                    ...        ...\n",
       "187626  975413215364080586       8.00\n",
       "187627  975966554881091774       2.00\n",
       "187628  976076532701121190       2.00\n",
       "187629  977373669051180593       4.00\n",
       "187630  979596287508787842       2.00\n",
       "\n",
       "[187631 rows x 2 columns]"
      ]
     },
     "execution_count": 166,
     "metadata": {},
     "output_type": "execute_result"
    }
   ],
   "source": [
    "reviews_per_month_final"
   ]
  },
  {
   "cell_type": "markdown",
   "id": "730d888b-c86a-4adb-9421-8a6433f863c1",
   "metadata": {},
   "source": [
    "We are deleting duplicates to work only with unique values and listing_ids"
   ]
  },
  {
   "cell_type": "code",
   "execution_count": 167,
   "id": "bdfce020-2922-4ae7-a136-e4837ad9764f",
   "metadata": {},
   "outputs": [],
   "source": [
    "reviews_per_month_final = reviews_per_month_final.drop_duplicates(subset=['listing_id', 'occupancy'])"
   ]
  },
  {
   "cell_type": "code",
   "execution_count": 168,
   "id": "1d357000-8638-4f7b-8cbd-f962cadb93b2",
   "metadata": {},
   "outputs": [],
   "source": [
    "reviews_per_month_final=reviews_per_month_final.sort_values(by='occupancy', ascending = False)"
   ]
  },
  {
   "cell_type": "code",
   "execution_count": 169,
   "id": "4949bfc9-9bf7-4f05-94e1-467d6c52e08a",
   "metadata": {},
   "outputs": [
    {
     "data": {
      "text/html": [
       "<div>\n",
       "<style scoped>\n",
       "    .dataframe tbody tr th:only-of-type {\n",
       "        vertical-align: middle;\n",
       "    }\n",
       "\n",
       "    .dataframe tbody tr th {\n",
       "        vertical-align: top;\n",
       "    }\n",
       "\n",
       "    .dataframe thead th {\n",
       "        text-align: right;\n",
       "    }\n",
       "</style>\n",
       "<table border=\"1\" class=\"dataframe\">\n",
       "  <thead>\n",
       "    <tr style=\"text-align: right;\">\n",
       "      <th></th>\n",
       "      <th>listing_id</th>\n",
       "      <th>occupancy</th>\n",
       "    </tr>\n",
       "  </thead>\n",
       "  <tbody>\n",
       "    <tr>\n",
       "      <th>163891</th>\n",
       "      <td>54251276</td>\n",
       "      <td>29.36</td>\n",
       "    </tr>\n",
       "    <tr>\n",
       "      <th>141571</th>\n",
       "      <td>43778929</td>\n",
       "      <td>21.60</td>\n",
       "    </tr>\n",
       "    <tr>\n",
       "      <th>186430</th>\n",
       "      <td>914571599230791078</td>\n",
       "      <td>21.50</td>\n",
       "    </tr>\n",
       "    <tr>\n",
       "      <th>143074</th>\n",
       "      <td>44403858</td>\n",
       "      <td>21.00</td>\n",
       "    </tr>\n",
       "    <tr>\n",
       "      <th>167525</th>\n",
       "      <td>597450052043728545</td>\n",
       "      <td>20.86</td>\n",
       "    </tr>\n",
       "    <tr>\n",
       "      <th>...</th>\n",
       "      <td>...</td>\n",
       "      <td>...</td>\n",
       "    </tr>\n",
       "    <tr>\n",
       "      <th>184059</th>\n",
       "      <td>866363618555432360</td>\n",
       "      <td>2.00</td>\n",
       "    </tr>\n",
       "    <tr>\n",
       "      <th>184051</th>\n",
       "      <td>866301094035717759</td>\n",
       "      <td>2.00</td>\n",
       "    </tr>\n",
       "    <tr>\n",
       "      <th>156626</th>\n",
       "      <td>51304185</td>\n",
       "      <td>2.00</td>\n",
       "    </tr>\n",
       "    <tr>\n",
       "      <th>156721</th>\n",
       "      <td>51321294</td>\n",
       "      <td>2.00</td>\n",
       "    </tr>\n",
       "    <tr>\n",
       "      <th>187630</th>\n",
       "      <td>979596287508787842</td>\n",
       "      <td>2.00</td>\n",
       "    </tr>\n",
       "  </tbody>\n",
       "</table>\n",
       "<p>10999 rows × 2 columns</p>\n",
       "</div>"
      ],
      "text/plain": [
       "                listing_id  occupancy\n",
       "163891            54251276      29.36\n",
       "141571            43778929      21.60\n",
       "186430  914571599230791078      21.50\n",
       "143074            44403858      21.00\n",
       "167525  597450052043728545      20.86\n",
       "...                    ...        ...\n",
       "184059  866363618555432360       2.00\n",
       "184051  866301094035717759       2.00\n",
       "156626            51304185       2.00\n",
       "156721            51321294       2.00\n",
       "187630  979596287508787842       2.00\n",
       "\n",
       "[10999 rows x 2 columns]"
      ]
     },
     "execution_count": 169,
     "metadata": {},
     "output_type": "execute_result"
    }
   ],
   "source": [
    "reviews_per_month_final"
   ]
  },
  {
   "cell_type": "markdown",
   "id": "f5baf091-9d04-471a-b0aa-cbc00d449d0d",
   "metadata": {},
   "source": [
    "#### Average income per month"
   ]
  },
  {
   "cell_type": "markdown",
   "id": "edd8ed45-e602-4fab-9aeb-51fb2f7f52a0",
   "metadata": {},
   "source": [
    "Again we are finding the average price of all prices in the dataframe list."
   ]
  },
  {
   "cell_type": "code",
   "execution_count": 159,
   "id": "91da4ee9-c4f0-45b1-96a7-46410f1faa1c",
   "metadata": {},
   "outputs": [],
   "source": [
    "average_price = list['price'].mean()"
   ]
  },
  {
   "cell_type": "code",
   "execution_count": 160,
   "id": "91c2a295-f04e-4460-ba1b-6e90e1ac806e",
   "metadata": {},
   "outputs": [],
   "source": [
    "average_price = round(average_price, 2)"
   ]
  },
  {
   "cell_type": "code",
   "execution_count": 161,
   "id": "cb785700-af0f-4cbb-9974-d767b563998e",
   "metadata": {},
   "outputs": [
    {
     "data": {
      "text/plain": [
       "100.01"
      ]
     },
     "execution_count": 161,
     "metadata": {},
     "output_type": "execute_result"
    }
   ],
   "source": [
    "average_price"
   ]
  },
  {
   "cell_type": "markdown",
   "id": "718369ad-116a-4457-8d87-9a516902819e",
   "metadata": {},
   "source": [
    "We are multiplying by the occupancy by 3 which is the assumption of three night stay and by the average price."
   ]
  },
  {
   "cell_type": "code",
   "execution_count": 171,
   "id": "71db28c8-43c3-4066-b0c4-195349db9fb0",
   "metadata": {},
   "outputs": [],
   "source": [
    "reviews_per_month_final['average_income'] = reviews_per_month_final['occupancy'] * 3 * average_price"
   ]
  },
  {
   "cell_type": "code",
   "execution_count": 172,
   "id": "2f039f39-0d49-4736-bc06-3f0c2c2b48f2",
   "metadata": {},
   "outputs": [],
   "source": [
    "reviews_per_month_final = round(reviews_per_month_final,2)"
   ]
  },
  {
   "cell_type": "code",
   "execution_count": 173,
   "id": "9349d2f3-9a39-460f-ab19-0e7da51cf023",
   "metadata": {},
   "outputs": [
    {
     "data": {
      "text/html": [
       "<div>\n",
       "<style scoped>\n",
       "    .dataframe tbody tr th:only-of-type {\n",
       "        vertical-align: middle;\n",
       "    }\n",
       "\n",
       "    .dataframe tbody tr th {\n",
       "        vertical-align: top;\n",
       "    }\n",
       "\n",
       "    .dataframe thead th {\n",
       "        text-align: right;\n",
       "    }\n",
       "</style>\n",
       "<table border=\"1\" class=\"dataframe\">\n",
       "  <thead>\n",
       "    <tr style=\"text-align: right;\">\n",
       "      <th></th>\n",
       "      <th>listing_id</th>\n",
       "      <th>occupancy</th>\n",
       "      <th>average_income</th>\n",
       "    </tr>\n",
       "  </thead>\n",
       "  <tbody>\n",
       "    <tr>\n",
       "      <th>163891</th>\n",
       "      <td>54251276</td>\n",
       "      <td>29.36</td>\n",
       "      <td>8808.88</td>\n",
       "    </tr>\n",
       "    <tr>\n",
       "      <th>141571</th>\n",
       "      <td>43778929</td>\n",
       "      <td>21.60</td>\n",
       "      <td>6480.65</td>\n",
       "    </tr>\n",
       "    <tr>\n",
       "      <th>186430</th>\n",
       "      <td>914571599230791078</td>\n",
       "      <td>21.50</td>\n",
       "      <td>6450.64</td>\n",
       "    </tr>\n",
       "    <tr>\n",
       "      <th>143074</th>\n",
       "      <td>44403858</td>\n",
       "      <td>21.00</td>\n",
       "      <td>6300.63</td>\n",
       "    </tr>\n",
       "    <tr>\n",
       "      <th>167525</th>\n",
       "      <td>597450052043728545</td>\n",
       "      <td>20.86</td>\n",
       "      <td>6258.63</td>\n",
       "    </tr>\n",
       "    <tr>\n",
       "      <th>...</th>\n",
       "      <td>...</td>\n",
       "      <td>...</td>\n",
       "      <td>...</td>\n",
       "    </tr>\n",
       "    <tr>\n",
       "      <th>69677</th>\n",
       "      <td>23578239</td>\n",
       "      <td>2.00</td>\n",
       "      <td>600.06</td>\n",
       "    </tr>\n",
       "    <tr>\n",
       "      <th>68693</th>\n",
       "      <td>23391382</td>\n",
       "      <td>2.00</td>\n",
       "      <td>600.06</td>\n",
       "    </tr>\n",
       "    <tr>\n",
       "      <th>68690</th>\n",
       "      <td>23386788</td>\n",
       "      <td>2.00</td>\n",
       "      <td>600.06</td>\n",
       "    </tr>\n",
       "    <tr>\n",
       "      <th>67474</th>\n",
       "      <td>23136177</td>\n",
       "      <td>2.00</td>\n",
       "      <td>600.06</td>\n",
       "    </tr>\n",
       "    <tr>\n",
       "      <th>187630</th>\n",
       "      <td>979596287508787842</td>\n",
       "      <td>2.00</td>\n",
       "      <td>600.06</td>\n",
       "    </tr>\n",
       "  </tbody>\n",
       "</table>\n",
       "<p>10999 rows × 3 columns</p>\n",
       "</div>"
      ],
      "text/plain": [
       "                listing_id  occupancy  average_income\n",
       "163891            54251276      29.36         8808.88\n",
       "141571            43778929      21.60         6480.65\n",
       "186430  914571599230791078      21.50         6450.64\n",
       "143074            44403858      21.00         6300.63\n",
       "167525  597450052043728545      20.86         6258.63\n",
       "...                    ...        ...             ...\n",
       "69677             23578239       2.00          600.06\n",
       "68693             23391382       2.00          600.06\n",
       "68690             23386788       2.00          600.06\n",
       "67474             23136177       2.00          600.06\n",
       "187630  979596287508787842       2.00          600.06\n",
       "\n",
       "[10999 rows x 3 columns]"
      ]
     },
     "execution_count": 173,
     "metadata": {},
     "output_type": "execute_result"
    }
   ],
   "source": [
    "reviews_per_month_final.sort_values(by = 'average_income', ascending = False)"
   ]
  },
  {
   "cell_type": "markdown",
   "id": "ce860eb2-439e-4ac2-a9b5-bfcde49d9053",
   "metadata": {},
   "source": [
    "Keep in mind that any listing_id outside of this dataframe has mean price per month 0 dollars and that's the reason it is not involved in the dataframe. "
   ]
  },
  {
   "cell_type": "markdown",
   "id": "23db8f50-0c38-4ebc-ae47-85362ed0626b",
   "metadata": {},
   "source": [
    "### Q5: Listings per Room Type"
   ]
  },
  {
   "cell_type": "markdown",
   "id": "d23b28da-5bab-4f8d-94b0-84d697de2bef",
   "metadata": {},
   "source": [
    "In this step we want to calculate the total number of listings for every room type, firstly in absolute numbers and then in percentages. After that, we are going to show the numbers of listings per neighbourhood and per room type. This way we will see which room type is more popular and in which neighbourhoods."
   ]
  },
  {
   "cell_type": "markdown",
   "id": "19ce57b6-9337-4724-80be-a4a7f7c3cda3",
   "metadata": {},
   "source": [
    "Show the number of listings per room type, in absolute numbers. We will pick the columns 'room_type' in the list dataframe and use the method .value_counts() to sum the number of each type."
   ]
  },
  {
   "cell_type": "code",
   "execution_count": 109,
   "id": "7a4bf7c6-9da0-482a-81dd-60e16d5232c2",
   "metadata": {},
   "outputs": [],
   "source": [
    "listings_room_type = list['room_type'].value_counts().reset_index()"
   ]
  },
  {
   "cell_type": "code",
   "execution_count": 110,
   "id": "82a802f2-e8c2-4c58-8b98-27d23fcf72fd",
   "metadata": {},
   "outputs": [],
   "source": [
    "listings_room_type.columns = ['room_type', 'total_number']"
   ]
  },
  {
   "cell_type": "code",
   "execution_count": 111,
   "id": "da414f8d-c68c-414f-9ee1-4baa7645eb1c",
   "metadata": {},
   "outputs": [
    {
     "data": {
      "text/html": [
       "<div>\n",
       "<style scoped>\n",
       "    .dataframe tbody tr th:only-of-type {\n",
       "        vertical-align: middle;\n",
       "    }\n",
       "\n",
       "    .dataframe tbody tr th {\n",
       "        vertical-align: top;\n",
       "    }\n",
       "\n",
       "    .dataframe thead th {\n",
       "        text-align: right;\n",
       "    }\n",
       "</style>\n",
       "<table border=\"1\" class=\"dataframe\">\n",
       "  <thead>\n",
       "    <tr style=\"text-align: right;\">\n",
       "      <th></th>\n",
       "      <th>room_type</th>\n",
       "      <th>total_number</th>\n",
       "    </tr>\n",
       "  </thead>\n",
       "  <tbody>\n",
       "    <tr>\n",
       "      <th>0</th>\n",
       "      <td>Entire home/apt</td>\n",
       "      <td>11652</td>\n",
       "    </tr>\n",
       "    <tr>\n",
       "      <th>1</th>\n",
       "      <td>Private room</td>\n",
       "      <td>1113</td>\n",
       "    </tr>\n",
       "    <tr>\n",
       "      <th>2</th>\n",
       "      <td>Hotel room</td>\n",
       "      <td>105</td>\n",
       "    </tr>\n",
       "    <tr>\n",
       "      <th>3</th>\n",
       "      <td>Shared room</td>\n",
       "      <td>85</td>\n",
       "    </tr>\n",
       "  </tbody>\n",
       "</table>\n",
       "</div>"
      ],
      "text/plain": [
       "         room_type  total_number\n",
       "0  Entire home/apt         11652\n",
       "1     Private room          1113\n",
       "2       Hotel room           105\n",
       "3      Shared room            85"
      ]
     },
     "execution_count": 111,
     "metadata": {},
     "output_type": "execute_result"
    }
   ],
   "source": [
    "listings_room_type"
   ]
  },
  {
   "cell_type": "code",
   "execution_count": 112,
   "id": "b4369283-a4d1-4b48-a72f-98378fd5f50e",
   "metadata": {},
   "outputs": [
    {
     "data": {
      "image/png": "[encoded data removed]",
      "text/plain": [
       "<Figure size 640x480 with 1 Axes>"
      ]
     },
     "metadata": {},
     "output_type": "display_data"
    }
   ],
   "source": [
    "plt.bar(listings_room_type['room_type'], listings_room_type['total_number'], edgecolor='black')\n",
    "plt.title('Total number of each room type')\n",
    "plt.xlabel('Room Type')\n",
    "plt.xticks(rotation=25)\n",
    "plt.ylabel('Total Number')\n",
    "plt.show()"
   ]
  },
  {
   "cell_type": "markdown",
   "id": "747a3e19-ea23-489b-a9d1-143f8f89e76a",
   "metadata": {},
   "source": [
    "* Also in percentages"
   ]
  },
  {
   "cell_type": "markdown",
   "id": "f65fbd8a-602a-47e0-aae4-c1e1abce8cd1",
   "metadata": {},
   "source": [
    "But first, we will rename the columns to be more representative.\n"
   ]
  },
  {
   "cell_type": "code",
   "execution_count": 113,
   "id": "a8486e69-1cf2-4195-b324-0bc812ab247b",
   "metadata": {},
   "outputs": [],
   "source": [
    "listings_room_type['total_number_percentage'] = (listings_room_type['total_number']/len(list['id'])) * 100"
   ]
  },
  {
   "cell_type": "code",
   "execution_count": 114,
   "id": "468b9f83-c7aa-4576-8f91-134638b7dbb1",
   "metadata": {},
   "outputs": [
    {
     "data": {
      "text/html": [
       "<div>\n",
       "<style scoped>\n",
       "    .dataframe tbody tr th:only-of-type {\n",
       "        vertical-align: middle;\n",
       "    }\n",
       "\n",
       "    .dataframe tbody tr th {\n",
       "        vertical-align: top;\n",
       "    }\n",
       "\n",
       "    .dataframe thead th {\n",
       "        text-align: right;\n",
       "    }\n",
       "</style>\n",
       "<table border=\"1\" class=\"dataframe\">\n",
       "  <thead>\n",
       "    <tr style=\"text-align: right;\">\n",
       "      <th></th>\n",
       "      <th>room_type</th>\n",
       "      <th>total_number</th>\n",
       "      <th>total_number_percentage</th>\n",
       "    </tr>\n",
       "  </thead>\n",
       "  <tbody>\n",
       "    <tr>\n",
       "      <th>0</th>\n",
       "      <td>Entire home/apt</td>\n",
       "      <td>11652</td>\n",
       "      <td>89.942107</td>\n",
       "    </tr>\n",
       "    <tr>\n",
       "      <th>1</th>\n",
       "      <td>Private room</td>\n",
       "      <td>1113</td>\n",
       "      <td>8.591277</td>\n",
       "    </tr>\n",
       "    <tr>\n",
       "      <th>2</th>\n",
       "      <td>Hotel room</td>\n",
       "      <td>105</td>\n",
       "      <td>0.810498</td>\n",
       "    </tr>\n",
       "    <tr>\n",
       "      <th>3</th>\n",
       "      <td>Shared room</td>\n",
       "      <td>85</td>\n",
       "      <td>0.656117</td>\n",
       "    </tr>\n",
       "  </tbody>\n",
       "</table>\n",
       "</div>"
      ],
      "text/plain": [
       "         room_type  total_number  total_number_percentage\n",
       "0  Entire home/apt         11652                89.942107\n",
       "1     Private room          1113                 8.591277\n",
       "2       Hotel room           105                 0.810498\n",
       "3      Shared room            85                 0.656117"
      ]
     },
     "execution_count": 114,
     "metadata": {},
     "output_type": "execute_result"
    }
   ],
   "source": [
    "listings_room_type"
   ]
  },
  {
   "cell_type": "markdown",
   "id": "589606ef-eebf-4854-95bb-608d396c1f44",
   "metadata": {},
   "source": [
    "**Conclusion:**\n",
    "Nearly 9 out of 10 airbnbs in Athens are entire homes, with only a few percentage of private rooms, hotels and shared rooms."
   ]
  },
  {
   "cell_type": "markdown",
   "id": "66b6afc1-2b40-44e0-9e4f-4bb5821604ae",
   "metadata": {},
   "source": [
    "Show the number of listings per neighrbourhood and room type. We will group by the neighbourhood and also the room type and then find the size for each pair of group."
   ]
  },
  {
   "cell_type": "code",
   "execution_count": 115,
   "id": "80092181-b1ca-42e0-8c4e-c8aae2d126de",
   "metadata": {},
   "outputs": [],
   "source": [
    "listing_counts = list.groupby(['neighbourhood_cleansed', 'room_type']).size().reset_index(name='total_number')"
   ]
  },
  {
   "cell_type": "code",
   "execution_count": 116,
   "id": "52da4d75-cd57-4d3d-a216-60c37d5cf282",
   "metadata": {},
   "outputs": [
    {
     "data": {
      "text/html": [
       "<div>\n",
       "<style scoped>\n",
       "    .dataframe tbody tr th:only-of-type {\n",
       "        vertical-align: middle;\n",
       "    }\n",
       "\n",
       "    .dataframe tbody tr th {\n",
       "        vertical-align: top;\n",
       "    }\n",
       "\n",
       "    .dataframe thead th {\n",
       "        text-align: right;\n",
       "    }\n",
       "</style>\n",
       "<table border=\"1\" class=\"dataframe\">\n",
       "  <thead>\n",
       "    <tr style=\"text-align: right;\">\n",
       "      <th></th>\n",
       "      <th>neighbourhood_cleansed</th>\n",
       "      <th>room_type</th>\n",
       "      <th>total_number</th>\n",
       "    </tr>\n",
       "  </thead>\n",
       "  <tbody>\n",
       "    <tr>\n",
       "      <th>0</th>\n",
       "      <td>1Ο ΝΕΚΡΟΤΑΦΕΙΟ</td>\n",
       "      <td>Entire home/apt</td>\n",
       "      <td>55</td>\n",
       "    </tr>\n",
       "    <tr>\n",
       "      <th>1</th>\n",
       "      <td>ΑΓΙΟΣ ΕΛΕΥΘΕΡΙΟΣ</td>\n",
       "      <td>Entire home/apt</td>\n",
       "      <td>33</td>\n",
       "    </tr>\n",
       "    <tr>\n",
       "      <th>2</th>\n",
       "      <td>ΑΓΙΟΣ ΕΛΕΥΘΕΡΙΟΣ</td>\n",
       "      <td>Private room</td>\n",
       "      <td>5</td>\n",
       "    </tr>\n",
       "    <tr>\n",
       "      <th>3</th>\n",
       "      <td>ΑΓΙΟΣ ΚΩΝΣΤΑΝΤΙΝΟΣ-ΠΛΑΤΕΙΑ ΒΑΘΗΣ</td>\n",
       "      <td>Entire home/apt</td>\n",
       "      <td>686</td>\n",
       "    </tr>\n",
       "    <tr>\n",
       "      <th>4</th>\n",
       "      <td>ΑΓΙΟΣ ΚΩΝΣΤΑΝΤΙΝΟΣ-ΠΛΑΤΕΙΑ ΒΑΘΗΣ</td>\n",
       "      <td>Hotel room</td>\n",
       "      <td>4</td>\n",
       "    </tr>\n",
       "    <tr>\n",
       "      <th>...</th>\n",
       "      <td>...</td>\n",
       "      <td>...</td>\n",
       "      <td>...</td>\n",
       "    </tr>\n",
       "    <tr>\n",
       "      <th>106</th>\n",
       "      <td>ΣΤΑΔΙΟ</td>\n",
       "      <td>Private room</td>\n",
       "      <td>11</td>\n",
       "    </tr>\n",
       "    <tr>\n",
       "      <th>107</th>\n",
       "      <td>ΣΤΑΘΜΟΣ ΛΑΡΙΣΗΣ</td>\n",
       "      <td>Entire home/apt</td>\n",
       "      <td>73</td>\n",
       "    </tr>\n",
       "    <tr>\n",
       "      <th>108</th>\n",
       "      <td>ΣΤΑΘΜΟΣ ΛΑΡΙΣΗΣ</td>\n",
       "      <td>Hotel room</td>\n",
       "      <td>4</td>\n",
       "    </tr>\n",
       "    <tr>\n",
       "      <th>109</th>\n",
       "      <td>ΣΤΑΘΜΟΣ ΛΑΡΙΣΗΣ</td>\n",
       "      <td>Private room</td>\n",
       "      <td>4</td>\n",
       "    </tr>\n",
       "    <tr>\n",
       "      <th>110</th>\n",
       "      <td>ΣΤΑΘΜΟΣ ΛΑΡΙΣΗΣ</td>\n",
       "      <td>Shared room</td>\n",
       "      <td>4</td>\n",
       "    </tr>\n",
       "  </tbody>\n",
       "</table>\n",
       "<p>111 rows × 3 columns</p>\n",
       "</div>"
      ],
      "text/plain": [
       "               neighbourhood_cleansed        room_type  total_number\n",
       "0                      1Ο ΝΕΚΡΟΤΑΦΕΙΟ  Entire home/apt            55\n",
       "1                    ΑΓΙΟΣ ΕΛΕΥΘΕΡΙΟΣ  Entire home/apt            33\n",
       "2                    ΑΓΙΟΣ ΕΛΕΥΘΕΡΙΟΣ     Private room             5\n",
       "3    ΑΓΙΟΣ ΚΩΝΣΤΑΝΤΙΝΟΣ-ΠΛΑΤΕΙΑ ΒΑΘΗΣ  Entire home/apt           686\n",
       "4    ΑΓΙΟΣ ΚΩΝΣΤΑΝΤΙΝΟΣ-ΠΛΑΤΕΙΑ ΒΑΘΗΣ       Hotel room             4\n",
       "..                                ...              ...           ...\n",
       "106                            ΣΤΑΔΙΟ     Private room            11\n",
       "107                   ΣΤΑΘΜΟΣ ΛΑΡΙΣΗΣ  Entire home/apt            73\n",
       "108                   ΣΤΑΘΜΟΣ ΛΑΡΙΣΗΣ       Hotel room             4\n",
       "109                   ΣΤΑΘΜΟΣ ΛΑΡΙΣΗΣ     Private room             4\n",
       "110                   ΣΤΑΘΜΟΣ ΛΑΡΙΣΗΣ      Shared room             4\n",
       "\n",
       "[111 rows x 3 columns]"
      ]
     },
     "execution_count": 116,
     "metadata": {},
     "output_type": "execute_result"
    }
   ],
   "source": [
    "listing_counts"
   ]
  },
  {
   "cell_type": "code",
   "execution_count": 117,
   "id": "2e3ead75-0b41-4de4-a45c-827a8ea3b775",
   "metadata": {},
   "outputs": [
    {
     "data": {
      "image/png": "[encoded data removed]",
      "text/plain": [
       "<Figure size 1200x600 with 1 Axes>"
      ]
     },
     "metadata": {},
     "output_type": "display_data"
    }
   ],
   "source": [
    "plt.figure(figsize=(12, 6))\n",
    "sns.barplot(x=listing_counts['neighbourhood_cleansed'], y=listing_counts['total_number'], hue=\"room_type\", data=listing_counts, palette=\"dark\",width=1.0)\n",
    "plt.xlabel(\"Neighbourhood\")\n",
    "plt.ylabel(\"Total Number\")\n",
    "plt.title(\"Number of Listings per Neighborhood and Room Type\")\n",
    "plt.xticks(rotation=45, ha='right')\n",
    "plt.ylim(0, 1100)\n",
    "plt.tight_layout()\n",
    "plt.show()"
   ]
  },
  {
   "cell_type": "markdown",
   "id": "6ac60e35-350d-441b-bdb6-8a92a1a64dee",
   "metadata": {},
   "source": [
    "**Conclusion:**\n",
    "Here we can check for each neighbourhood and for each room type the total number of airbnbs in Athens."
   ]
  },
  {
   "cell_type": "markdown",
   "id": "dc96c716-f30c-4ede-ac1e-843e9cab956a",
   "metadata": {},
   "source": [
    "## Q6: Prices per Day"
   ]
  },
  {
   "cell_type": "markdown",
   "id": "3cdad262-68f0-4bf3-ad5b-f18724f59053",
   "metadata": {},
   "source": [
    "The main goal of this querry is to find the average price per listing per day. We decide to devide this step in two new ways of approaching it."
   ]
  },
  {
   "cell_type": "markdown",
   "id": "ca442fe9-4103-47b7-94fe-c6f68e013f76",
   "metadata": {},
   "source": [
    "**First Approach: calculate the average price per day for all listings**"
   ]
  },
  {
   "cell_type": "code",
   "execution_count": 118,
   "id": "ae0897fe-0015-4c50-8833-7dccf30be539",
   "metadata": {},
   "outputs": [],
   "source": [
    "calendar['date'] = pd.to_datetime(calendar['date'])"
   ]
  },
  {
   "cell_type": "markdown",
   "id": "d5307206-7a17-4131-8e8c-f3a61c7b7419",
   "metadata": {},
   "source": [
    "We will group by the column date and find the mean price for each date for all listings!"
   ]
  },
  {
   "cell_type": "code",
   "execution_count": 119,
   "id": "27662c22-f4dc-4416-89c9-a1cdb30285fc",
   "metadata": {},
   "outputs": [],
   "source": [
    "avg_price_per_day = calendar.groupby('date')['price'].mean().reset_index()"
   ]
  },
  {
   "cell_type": "code",
   "execution_count": 120,
   "id": "5a95f212-8e88-47e8-84df-001f497fdca2",
   "metadata": {},
   "outputs": [
    {
     "data": {
      "text/html": [
       "<div>\n",
       "<style scoped>\n",
       "    .dataframe tbody tr th:only-of-type {\n",
       "        vertical-align: middle;\n",
       "    }\n",
       "\n",
       "    .dataframe tbody tr th {\n",
       "        vertical-align: top;\n",
       "    }\n",
       "\n",
       "    .dataframe thead th {\n",
       "        text-align: right;\n",
       "    }\n",
       "</style>\n",
       "<table border=\"1\" class=\"dataframe\">\n",
       "  <thead>\n",
       "    <tr style=\"text-align: right;\">\n",
       "      <th></th>\n",
       "      <th>date</th>\n",
       "      <th>price</th>\n",
       "    </tr>\n",
       "  </thead>\n",
       "  <tbody>\n",
       "    <tr>\n",
       "      <th>0</th>\n",
       "      <td>2023-09-21</td>\n",
       "      <td>102.281227</td>\n",
       "    </tr>\n",
       "    <tr>\n",
       "      <th>1</th>\n",
       "      <td>2023-09-22</td>\n",
       "      <td>105.385828</td>\n",
       "    </tr>\n",
       "    <tr>\n",
       "      <th>2</th>\n",
       "      <td>2023-09-23</td>\n",
       "      <td>105.438399</td>\n",
       "    </tr>\n",
       "    <tr>\n",
       "      <th>3</th>\n",
       "      <td>2023-09-24</td>\n",
       "      <td>102.219470</td>\n",
       "    </tr>\n",
       "    <tr>\n",
       "      <th>4</th>\n",
       "      <td>2023-09-25</td>\n",
       "      <td>100.802765</td>\n",
       "    </tr>\n",
       "    <tr>\n",
       "      <th>...</th>\n",
       "      <td>...</td>\n",
       "      <td>...</td>\n",
       "    </tr>\n",
       "    <tr>\n",
       "      <th>360</th>\n",
       "      <td>2024-09-15</td>\n",
       "      <td>110.160537</td>\n",
       "    </tr>\n",
       "    <tr>\n",
       "      <th>361</th>\n",
       "      <td>2024-09-16</td>\n",
       "      <td>109.639734</td>\n",
       "    </tr>\n",
       "    <tr>\n",
       "      <th>362</th>\n",
       "      <td>2024-09-17</td>\n",
       "      <td>109.622289</td>\n",
       "    </tr>\n",
       "    <tr>\n",
       "      <th>363</th>\n",
       "      <td>2024-09-18</td>\n",
       "      <td>109.535373</td>\n",
       "    </tr>\n",
       "    <tr>\n",
       "      <th>364</th>\n",
       "      <td>2024-09-19</td>\n",
       "      <td>109.492378</td>\n",
       "    </tr>\n",
       "  </tbody>\n",
       "</table>\n",
       "<p>365 rows × 2 columns</p>\n",
       "</div>"
      ],
      "text/plain": [
       "          date       price\n",
       "0   2023-09-21  102.281227\n",
       "1   2023-09-22  105.385828\n",
       "2   2023-09-23  105.438399\n",
       "3   2023-09-24  102.219470\n",
       "4   2023-09-25  100.802765\n",
       "..         ...         ...\n",
       "360 2024-09-15  110.160537\n",
       "361 2024-09-16  109.639734\n",
       "362 2024-09-17  109.622289\n",
       "363 2024-09-18  109.535373\n",
       "364 2024-09-19  109.492378\n",
       "\n",
       "[365 rows x 2 columns]"
      ]
     },
     "execution_count": 120,
     "metadata": {},
     "output_type": "execute_result"
    }
   ],
   "source": [
    "avg_price_per_day"
   ]
  },
  {
   "cell_type": "markdown",
   "id": "15247b2a-62b4-4fb1-a865-1708e90dd1ec",
   "metadata": {},
   "source": [
    "We decide to create a plot so we can see for each passing day from 2023 to 2024 how much it costs for someone to rent an airbnb in average."
   ]
  },
  {
   "cell_type": "code",
   "execution_count": 121,
   "id": "952218f0-5957-404f-a97a-29211b38bb90",
   "metadata": {},
   "outputs": [
    {
     "data": {
      "image/png": "[encoded data removed]",
      "text/plain": [
       "<Figure size 1200x600 with 1 Axes>"
      ]
     },
     "metadata": {},
     "output_type": "display_data"
    }
   ],
   "source": [
    "plt.figure(figsize=(12, 6))\n",
    "plt.plot(avg_price_per_day['date'], avg_price_per_day['price'])\n",
    "plt.title('Average Price Per Date')\n",
    "plt.xlabel('Date')\n",
    "plt.ylabel('Average Price')\n",
    "plt.xticks(rotation=45)\n",
    "plt.grid(True)\n",
    "plt.show()"
   ]
  },
  {
   "cell_type": "markdown",
   "id": "290e71d3-938f-4849-96e0-53b20f05a673",
   "metadata": {},
   "source": [
    "**Conclusion:** We see that in the 2023 we have falling prices with an increase in the price of 2023-12 due to christmas. For 2024 we check a big increase with the largest one being in the summer time. We can explain these mainly in two reasons. First of all always in the summer we have a lot of tourists so the prices are going up and secondly we are passing through times of inflation, so the money has lost some of it's value and as a result the prices for 2024 are already increasing."
   ]
  },
  {
   "cell_type": "code",
   "execution_count": null,
   "id": "a033d5da-5790-4df0-bab7-156136ab1736",
   "metadata": {},
   "outputs": [],
   "source": []
  },
  {
   "cell_type": "markdown",
   "id": "527292b5-3616-4884-9b6a-187205ecfbff",
   "metadata": {},
   "source": [
    "**Second Approach: Calculate the mean price per listing_id for all the dates, in other words for all the year**"
   ]
  },
  {
   "cell_type": "code",
   "execution_count": 122,
   "id": "26554f59-5a8d-48ba-9bed-b77bacf4d4f2",
   "metadata": {},
   "outputs": [
    {
     "data": {
      "text/plain": [
       "Index(['id', 'listing_url', 'scrape_id', 'last_scraped', 'source', 'name',\n",
       "       'description', 'neighborhood_overview', 'picture_url', 'host_id',\n",
       "       'host_url', 'host_name', 'host_since', 'host_location', 'host_about',\n",
       "       'host_response_time', 'host_response_rate', 'host_acceptance_rate',\n",
       "       'host_is_superhost', 'host_thumbnail_url', 'host_picture_url',\n",
       "       'host_neighbourhood', 'host_listings_count',\n",
       "       'host_total_listings_count', 'host_verifications',\n",
       "       'host_has_profile_pic', 'host_identity_verified', 'neighbourhood',\n",
       "       'neighbourhood_cleansed', 'neighbourhood_group_cleansed', 'latitude',\n",
       "       'longitude', 'property_type', 'room_type', 'accommodates', 'bathrooms',\n",
       "       'bathrooms_text', 'bedrooms', 'beds', 'amenities', 'price',\n",
       "       'minimum_nights', 'maximum_nights', 'minimum_minimum_nights',\n",
       "       'maximum_minimum_nights', 'minimum_maximum_nights',\n",
       "       'maximum_maximum_nights', 'minimum_nights_avg_ntm',\n",
       "       'maximum_nights_avg_ntm', 'calendar_updated', 'has_availability',\n",
       "       'availability_30', 'availability_60', 'availability_90',\n",
       "       'availability_365', 'calendar_last_scraped', 'number_of_reviews',\n",
       "       'number_of_reviews_ltm', 'number_of_reviews_l30d', 'first_review',\n",
       "       'last_review', 'review_scores_rating', 'review_scores_accuracy',\n",
       "       'review_scores_cleanliness', 'review_scores_checkin',\n",
       "       'review_scores_communication', 'review_scores_location',\n",
       "       'review_scores_value', 'license', 'instant_bookable',\n",
       "       'calculated_host_listings_count',\n",
       "       'calculated_host_listings_count_entire_homes',\n",
       "       'calculated_host_listings_count_private_rooms',\n",
       "       'calculated_host_listings_count_shared_rooms', 'reviews_per_month'],\n",
       "      dtype='object')"
      ]
     },
     "execution_count": 122,
     "metadata": {},
     "output_type": "execute_result"
    }
   ],
   "source": [
    "list.columns"
   ]
  },
  {
   "cell_type": "code",
   "execution_count": 123,
   "id": "d48af1b1-f41e-45c8-a7fd-2087f1b75eb3",
   "metadata": {},
   "outputs": [
    {
     "data": {
      "text/plain": [
       "Index(['listing_id', 'id', 'date', 'reviewer_id', 'reviewer_name', 'comments'], dtype='object')"
      ]
     },
     "execution_count": 123,
     "metadata": {},
     "output_type": "execute_result"
    }
   ],
   "source": [
    "reviews.columns"
   ]
  },
  {
   "cell_type": "markdown",
   "id": "0921ed1d-89da-4f92-a40b-e54d1e2208c9",
   "metadata": {},
   "source": [
    "In this approach we will check what price each airbnb is expected to charge it's customers!"
   ]
  },
  {
   "cell_type": "code",
   "execution_count": 124,
   "id": "b9a4bcbb-631b-4848-8cfe-6e05f71f0c72",
   "metadata": {},
   "outputs": [],
   "source": [
    "avg_price_per_listing = calendar.groupby('listing_id')['price'].mean().reset_index()"
   ]
  },
  {
   "cell_type": "code",
   "execution_count": 125,
   "id": "18c9093a-366c-416a-9da2-30ab5bbbfc40",
   "metadata": {},
   "outputs": [],
   "source": [
    "avg_price_per_listing = round(avg_price_per_listing,2)"
   ]
  },
  {
   "cell_type": "code",
   "execution_count": 126,
   "id": "7add9351-fc1a-4f3e-902b-3c35bdfd954c",
   "metadata": {},
   "outputs": [
    {
     "data": {
      "text/html": [
       "<div>\n",
       "<style scoped>\n",
       "    .dataframe tbody tr th:only-of-type {\n",
       "        vertical-align: middle;\n",
       "    }\n",
       "\n",
       "    .dataframe tbody tr th {\n",
       "        vertical-align: top;\n",
       "    }\n",
       "\n",
       "    .dataframe thead th {\n",
       "        text-align: right;\n",
       "    }\n",
       "</style>\n",
       "<table border=\"1\" class=\"dataframe\">\n",
       "  <thead>\n",
       "    <tr style=\"text-align: right;\">\n",
       "      <th></th>\n",
       "      <th>listing_id</th>\n",
       "      <th>price</th>\n",
       "    </tr>\n",
       "  </thead>\n",
       "  <tbody>\n",
       "    <tr>\n",
       "      <th>896</th>\n",
       "      <td>14757686</td>\n",
       "      <td>5000.00</td>\n",
       "    </tr>\n",
       "    <tr>\n",
       "      <th>8274</th>\n",
       "      <td>649834015596287176</td>\n",
       "      <td>4598.72</td>\n",
       "    </tr>\n",
       "    <tr>\n",
       "      <th>11460</th>\n",
       "      <td>899735197808250850</td>\n",
       "      <td>3636.23</td>\n",
       "    </tr>\n",
       "    <tr>\n",
       "      <th>11846</th>\n",
       "      <td>917104197751120765</td>\n",
       "      <td>3633.01</td>\n",
       "    </tr>\n",
       "    <tr>\n",
       "      <th>2842</th>\n",
       "      <td>28042027</td>\n",
       "      <td>2175.69</td>\n",
       "    </tr>\n",
       "    <tr>\n",
       "      <th>...</th>\n",
       "      <td>...</td>\n",
       "      <td>...</td>\n",
       "    </tr>\n",
       "    <tr>\n",
       "      <th>6730</th>\n",
       "      <td>51852169</td>\n",
       "      <td>11.53</td>\n",
       "    </tr>\n",
       "    <tr>\n",
       "      <th>4206</th>\n",
       "      <td>35349850</td>\n",
       "      <td>11.28</td>\n",
       "    </tr>\n",
       "    <tr>\n",
       "      <th>6745</th>\n",
       "      <td>51970740</td>\n",
       "      <td>11.10</td>\n",
       "    </tr>\n",
       "    <tr>\n",
       "      <th>4205</th>\n",
       "      <td>35349352</td>\n",
       "      <td>11.00</td>\n",
       "    </tr>\n",
       "    <tr>\n",
       "      <th>2383</th>\n",
       "      <td>25334566</td>\n",
       "      <td>10.97</td>\n",
       "    </tr>\n",
       "  </tbody>\n",
       "</table>\n",
       "<p>12955 rows × 2 columns</p>\n",
       "</div>"
      ],
      "text/plain": [
       "               listing_id    price\n",
       "896              14757686  5000.00\n",
       "8274   649834015596287176  4598.72\n",
       "11460  899735197808250850  3636.23\n",
       "11846  917104197751120765  3633.01\n",
       "2842             28042027  2175.69\n",
       "...                   ...      ...\n",
       "6730             51852169    11.53\n",
       "4206             35349850    11.28\n",
       "6745             51970740    11.10\n",
       "4205             35349352    11.00\n",
       "2383             25334566    10.97\n",
       "\n",
       "[12955 rows x 2 columns]"
      ]
     },
     "execution_count": 126,
     "metadata": {},
     "output_type": "execute_result"
    }
   ],
   "source": [
    "avg_price_per_listing.sort_values(by='price', ascending = False)"
   ]
  },
  {
   "cell_type": "markdown",
   "id": "504ca9ac-703e-497c-b1ce-41481933a2da",
   "metadata": {},
   "source": [
    "Once more our data are too big to visualize them easily, so we are deciding to place them into a histogram and so the frequency of them. We are also going to use log y axis so small frequencies such as 2500 dollars will appear. "
   ]
  },
  {
   "cell_type": "code",
   "execution_count": 127,
   "id": "c5c268de-c4f6-408b-88fe-e6be04eaa110",
   "metadata": {},
   "outputs": [
    {
     "data": {
      "image/png": "[encoded data removed]",
      "text/plain": [
       "<Figure size 640x480 with 1 Axes>"
      ]
     },
     "metadata": {},
     "output_type": "display_data"
    }
   ],
   "source": [
    "plt.hist(avg_price_per_listing['price'], bins=np.linspace(0, 5000, 100), color='black')\n",
    "plt.title('Prices Per Listing Id')\n",
    "plt.xlabel('Price')\n",
    "plt.ylabel('Total Number of Listings per Price')\n",
    "plt.grid(axis='y', linestyle='--', alpha=0.7)\n",
    "plt.show()"
   ]
  },
  {
   "cell_type": "markdown",
   "id": "3b943c7f-a5dd-4e77-b93b-cd03506bbadb",
   "metadata": {},
   "source": [
    "Here we can see that between 0-1000 euros are the most prices and more specifically between 0-200 dollars per night per listing_id."
   ]
  },
  {
   "cell_type": "markdown",
   "id": "8e936246-ce0e-4028-8a4f-c4c94397d6b5",
   "metadata": {},
   "source": [
    "## Q7: Listings per Host"
   ]
  },
  {
   "cell_type": "markdown",
   "id": "1319592e-d849-4d60-956b-20b74d4c6416",
   "metadata": {},
   "source": [
    "Now we will see how many airbnbs has each host and place them in a descending order. "
   ]
  },
  {
   "cell_type": "markdown",
   "id": "e2a1b6d5-b535-4789-8f59-76efb572cf63",
   "metadata": {},
   "source": [
    "In this step we group by the host_id and count all the id's, which are the airbnb's."
   ]
  },
  {
   "cell_type": "code",
   "execution_count": 128,
   "id": "ceecd521-e35f-4802-89c9-680db0ea94fb",
   "metadata": {},
   "outputs": [],
   "source": [
    "listings_per_host = list.groupby('host_id')['id'].count().reset_index()"
   ]
  },
  {
   "cell_type": "code",
   "execution_count": 129,
   "id": "9337988b-c632-44f7-862b-f56ea50b4477",
   "metadata": {},
   "outputs": [],
   "source": [
    "listings_per_host.rename(columns={'id': 'Total_Listings'}, inplace=True)"
   ]
  },
  {
   "cell_type": "code",
   "execution_count": 130,
   "id": "10b47c14-c26d-4148-a179-951376176bde",
   "metadata": {},
   "outputs": [],
   "source": [
    "listings_per_host = listings_per_host.sort_values(by = 'Total_Listings', ascending= False)"
   ]
  },
  {
   "cell_type": "code",
   "execution_count": 131,
   "id": "d6a65100-bbff-49cc-999a-447479720e94",
   "metadata": {},
   "outputs": [
    {
     "data": {
      "text/html": [
       "<div>\n",
       "<style scoped>\n",
       "    .dataframe tbody tr th:only-of-type {\n",
       "        vertical-align: middle;\n",
       "    }\n",
       "\n",
       "    .dataframe tbody tr th {\n",
       "        vertical-align: top;\n",
       "    }\n",
       "\n",
       "    .dataframe thead th {\n",
       "        text-align: right;\n",
       "    }\n",
       "</style>\n",
       "<table border=\"1\" class=\"dataframe\">\n",
       "  <thead>\n",
       "    <tr style=\"text-align: right;\">\n",
       "      <th></th>\n",
       "      <th>host_id</th>\n",
       "      <th>Total_Listings</th>\n",
       "    </tr>\n",
       "  </thead>\n",
       "  <tbody>\n",
       "    <tr>\n",
       "      <th>607</th>\n",
       "      <td>20104194</td>\n",
       "      <td>114</td>\n",
       "    </tr>\n",
       "    <tr>\n",
       "      <th>2069</th>\n",
       "      <td>113548208</td>\n",
       "      <td>88</td>\n",
       "    </tr>\n",
       "    <tr>\n",
       "      <th>1811</th>\n",
       "      <td>90390850</td>\n",
       "      <td>78</td>\n",
       "    </tr>\n",
       "    <tr>\n",
       "      <th>60</th>\n",
       "      <td>748818</td>\n",
       "      <td>74</td>\n",
       "    </tr>\n",
       "    <tr>\n",
       "      <th>1149</th>\n",
       "      <td>47267002</td>\n",
       "      <td>61</td>\n",
       "    </tr>\n",
       "    <tr>\n",
       "      <th>...</th>\n",
       "      <td>...</td>\n",
       "      <td>...</td>\n",
       "    </tr>\n",
       "    <tr>\n",
       "      <th>2242</th>\n",
       "      <td>130728079</td>\n",
       "      <td>1</td>\n",
       "    </tr>\n",
       "    <tr>\n",
       "      <th>2241</th>\n",
       "      <td>130646248</td>\n",
       "      <td>1</td>\n",
       "    </tr>\n",
       "    <tr>\n",
       "      <th>2240</th>\n",
       "      <td>130612477</td>\n",
       "      <td>1</td>\n",
       "    </tr>\n",
       "    <tr>\n",
       "      <th>2239</th>\n",
       "      <td>130551473</td>\n",
       "      <td>1</td>\n",
       "    </tr>\n",
       "    <tr>\n",
       "      <th>5773</th>\n",
       "      <td>537543834</td>\n",
       "      <td>1</td>\n",
       "    </tr>\n",
       "  </tbody>\n",
       "</table>\n",
       "<p>5774 rows × 2 columns</p>\n",
       "</div>"
      ],
      "text/plain": [
       "        host_id  Total_Listings\n",
       "607    20104194             114\n",
       "2069  113548208              88\n",
       "1811   90390850              78\n",
       "60       748818              74\n",
       "1149   47267002              61\n",
       "...         ...             ...\n",
       "2242  130728079               1\n",
       "2241  130646248               1\n",
       "2240  130612477               1\n",
       "2239  130551473               1\n",
       "5773  537543834               1\n",
       "\n",
       "[5774 rows x 2 columns]"
      ]
     },
     "execution_count": 131,
     "metadata": {},
     "output_type": "execute_result"
    }
   ],
   "source": [
    "listings_per_host"
   ]
  },
  {
   "cell_type": "markdown",
   "id": "c74615d6-11c1-48fd-8b49-01080ab40ee8",
   "metadata": {},
   "source": [
    "For the next step we want to create a column named 'Ranking' in which all the host's will be ranked with a number based on how many airbnb's they have. In case some hosts have the same number of airbnb they will be ranked one next to each other.  "
   ]
  },
  {
   "cell_type": "code",
   "execution_count": 132,
   "id": "f79a8a05-c6f6-4ec2-bf7a-a3b3e4e2c15c",
   "metadata": {},
   "outputs": [],
   "source": [
    "listings_per_host['Ranking'] = listings_per_host['Total_Listings'].rank(method='first', ascending = False).astype(int)"
   ]
  },
  {
   "cell_type": "code",
   "execution_count": 133,
   "id": "4d0f8f02-6cef-4052-bd23-e8ebaf3569a9",
   "metadata": {},
   "outputs": [
    {
     "data": {
      "text/html": [
       "<div>\n",
       "<style scoped>\n",
       "    .dataframe tbody tr th:only-of-type {\n",
       "        vertical-align: middle;\n",
       "    }\n",
       "\n",
       "    .dataframe tbody tr th {\n",
       "        vertical-align: top;\n",
       "    }\n",
       "\n",
       "    .dataframe thead th {\n",
       "        text-align: right;\n",
       "    }\n",
       "</style>\n",
       "<table border=\"1\" class=\"dataframe\">\n",
       "  <thead>\n",
       "    <tr style=\"text-align: right;\">\n",
       "      <th></th>\n",
       "      <th>host_id</th>\n",
       "      <th>Total_Listings</th>\n",
       "      <th>Ranking</th>\n",
       "    </tr>\n",
       "  </thead>\n",
       "  <tbody>\n",
       "    <tr>\n",
       "      <th>607</th>\n",
       "      <td>20104194</td>\n",
       "      <td>114</td>\n",
       "      <td>1</td>\n",
       "    </tr>\n",
       "    <tr>\n",
       "      <th>2069</th>\n",
       "      <td>113548208</td>\n",
       "      <td>88</td>\n",
       "      <td>2</td>\n",
       "    </tr>\n",
       "    <tr>\n",
       "      <th>1811</th>\n",
       "      <td>90390850</td>\n",
       "      <td>78</td>\n",
       "      <td>3</td>\n",
       "    </tr>\n",
       "    <tr>\n",
       "      <th>60</th>\n",
       "      <td>748818</td>\n",
       "      <td>74</td>\n",
       "      <td>4</td>\n",
       "    </tr>\n",
       "    <tr>\n",
       "      <th>1149</th>\n",
       "      <td>47267002</td>\n",
       "      <td>61</td>\n",
       "      <td>5</td>\n",
       "    </tr>\n",
       "    <tr>\n",
       "      <th>...</th>\n",
       "      <td>...</td>\n",
       "      <td>...</td>\n",
       "      <td>...</td>\n",
       "    </tr>\n",
       "    <tr>\n",
       "      <th>2242</th>\n",
       "      <td>130728079</td>\n",
       "      <td>1</td>\n",
       "      <td>5770</td>\n",
       "    </tr>\n",
       "    <tr>\n",
       "      <th>2241</th>\n",
       "      <td>130646248</td>\n",
       "      <td>1</td>\n",
       "      <td>5771</td>\n",
       "    </tr>\n",
       "    <tr>\n",
       "      <th>2240</th>\n",
       "      <td>130612477</td>\n",
       "      <td>1</td>\n",
       "      <td>5772</td>\n",
       "    </tr>\n",
       "    <tr>\n",
       "      <th>2239</th>\n",
       "      <td>130551473</td>\n",
       "      <td>1</td>\n",
       "      <td>5773</td>\n",
       "    </tr>\n",
       "    <tr>\n",
       "      <th>5773</th>\n",
       "      <td>537543834</td>\n",
       "      <td>1</td>\n",
       "      <td>5774</td>\n",
       "    </tr>\n",
       "  </tbody>\n",
       "</table>\n",
       "<p>5774 rows × 3 columns</p>\n",
       "</div>"
      ],
      "text/plain": [
       "        host_id  Total_Listings  Ranking\n",
       "607    20104194             114        1\n",
       "2069  113548208              88        2\n",
       "1811   90390850              78        3\n",
       "60       748818              74        4\n",
       "1149   47267002              61        5\n",
       "...         ...             ...      ...\n",
       "2242  130728079               1     5770\n",
       "2241  130646248               1     5771\n",
       "2240  130612477               1     5772\n",
       "2239  130551473               1     5773\n",
       "5773  537543834               1     5774\n",
       "\n",
       "[5774 rows x 3 columns]"
      ]
     },
     "execution_count": 133,
     "metadata": {},
     "output_type": "execute_result"
    }
   ],
   "source": [
    "listings_per_host.sort_values(by = 'Ranking', ascending =True)"
   ]
  },
  {
   "cell_type": "code",
   "execution_count": 134,
   "id": "4ddbfe8c-3dc0-4e45-a448-0a52b3d71828",
   "metadata": {},
   "outputs": [
    {
     "data": {
      "image/png": "[encoded data removed]",
      "text/plain": [
       "<Figure size 640x480 with 1 Axes>"
      ]
     },
     "metadata": {},
     "output_type": "display_data"
    }
   ],
   "source": [
    "plt.plot(listings_per_host['Ranking'], listings_per_host['Total_Listings'])\n",
    "plt.xlabel('Rank')\n",
    "plt.ylabel('Number of Listings')\n",
    "plt.title('Number of Listings per Host')\n",
    "plt.grid(True)\n",
    "plt.show()"
   ]
  },
  {
   "cell_type": "markdown",
   "id": "5fa91dbb-6fb5-49a0-b46b-4b99f7099a60",
   "metadata": {},
   "source": [
    " Conclusion:\n",
    "In the graph we can see the ranks with the number of airbnbs a person has! "
   ]
  },
  {
   "cell_type": "code",
   "execution_count": null,
   "id": "d3ed6657-913c-4473-aa7c-5fe8eb65f74a",
   "metadata": {},
   "outputs": [],
   "source": []
  },
  {
   "cell_type": "markdown",
   "id": "265ec5f5-2245-4748-9f5b-8f7f309ac8da",
   "metadata": {},
   "source": [
    "This time we will create a plot with the $x$ axis in *logarithmic* scale. The reason for this is because the above graph is not as much visible as we would like it to be."
   ]
  },
  {
   "cell_type": "code",
   "execution_count": 135,
   "id": "6ce4d8c2-e8d3-4e79-a0b4-83ad86b19589",
   "metadata": {},
   "outputs": [
    {
     "data": {
      "image/png": "[encoded data removed]",
      "text/plain": [
       "<Figure size 640x480 with 1 Axes>"
      ]
     },
     "metadata": {},
     "output_type": "display_data"
    }
   ],
   "source": [
    "plt.plot(range(len(listings_per_host)), listings_per_host['Total_Listings'])\n",
    "plt.xlabel('Rank')\n",
    "plt.ylabel('Number of Listings')\n",
    "plt.xscale('log')\n",
    "plt.title('Number of Listings per Host')\n",
    "plt.grid(True)\n",
    "plt.show()"
   ]
  },
  {
   "cell_type": "markdown",
   "id": "36cd0d63-5128-4b29-b747-a0398a68019e",
   "metadata": {},
   "source": [
    " Conclusion:\n",
    "In this one we can see better the difference in the amount of airbnbs a person has. In the first one we can see someone so large that passes the 100 airbnbs."
   ]
  },
  {
   "cell_type": "markdown",
   "id": "6d38e274-ee03-41cb-b1f5-f59f2ef0a1aa",
   "metadata": {},
   "source": [
    "## Q8: Visualize Listings"
   ]
  },
  {
   "cell_type": "markdown",
   "id": "9aa5a061-e8ad-4578-8db1-499782e45d3d",
   "metadata": {},
   "source": [
    "In this part we want to place all the airbnbs in an Athens map with a brief description of each one. For this one we will use the folium library"
   ]
  },
  {
   "cell_type": "code",
   "execution_count": 186,
   "id": "a157b558-a80c-48ec-82f5-a756d51b28b4",
   "metadata": {},
   "outputs": [],
   "source": [
    "import folium\n",
    "from folium.plugins import MarkerCluster"
   ]
  },
  {
   "cell_type": "markdown",
   "id": "1650f2c2-42ab-4d5e-a4d5-d865211c7f4a",
   "metadata": {},
   "source": [
    "First step is to give the main position of the map we are working on, we are giving the 'map' the location of Athens and the zoom start which we have put as 15 so the visualization will not have any problems. "
   ]
  },
  {
   "cell_type": "code",
   "execution_count": 187,
   "id": "237a6feb-dec1-483d-a40b-54fde2dc1279",
   "metadata": {},
   "outputs": [],
   "source": [
    "map = folium.Map(location = [list['latitude'].mean(), list['longitude'].mean()], zoom_start= 15) "
   ]
  },
  {
   "cell_type": "markdown",
   "id": "d9eb2964-f200-438b-b4cf-4211ac260e2c",
   "metadata": {},
   "source": [
    "We are creating a method which will place all the airbnbs based on their geographical location and also place in each one of them a short description for the user to quickly check."
   ]
  },
  {
   "cell_type": "code",
   "execution_count": 188,
   "id": "ae0ffa7a-1f63-4df6-8c2f-d762b1e987ac",
   "metadata": {},
   "outputs": [],
   "source": [
    "marker_cluster = MarkerCluster(name = 'marker_cluster').add_to(map)"
   ]
  },
  {
   "cell_type": "code",
   "execution_count": 189,
   "id": "154b651e-4a95-4acb-8de5-dad9ee20061c",
   "metadata": {},
   "outputs": [
    {
     "data": {
      "text/plain": [
       "12128    None\n",
       "2350     None\n",
       "1008     None\n",
       "4188     None\n",
       "4202     None\n",
       "         ... \n",
       "4894     None\n",
       "5986     None\n",
       "5432     None\n",
       "2466     None\n",
       "932      None\n",
       "Length: 12955, dtype: object"
      ]
     },
     "execution_count": 189,
     "metadata": {},
     "output_type": "execute_result"
    }
   ],
   "source": [
    "def add_marker(row):\n",
    "    folium.Marker(location=[row['latitude'], row['longitude']], popup = f\"Neighbourhood: {row['neighbourhood_cleansed']}<br>Type: {row['room_type']}\", parse_html=True).add_to(marker_cluster)\n",
    "list.apply(add_marker, axis=1)"
   ]
  },
  {
   "cell_type": "markdown",
   "id": "47a75ec2-d215-4462-8775-b690ec05c4e9",
   "metadata": {},
   "source": [
    "We applied them all and now we are saving it locally to our environment so we can see it because jupyter cannot handle these amount of data. "
   ]
  },
  {
   "cell_type": "code",
   "execution_count": 190,
   "id": "9dfc9d5f-116f-4530-a738-6e51181e8ae1",
   "metadata": {},
   "outputs": [
    {
     "data": {
      "text/plain": [
       "<folium.map.LayerControl at 0x28410502cf0>"
      ]
     },
     "execution_count": 190,
     "metadata": {},
     "output_type": "execute_result"
    }
   ],
   "source": [
    "folium.LayerControl().add_to(map)"
   ]
  },
  {
   "cell_type": "code",
   "execution_count": 191,
   "id": "5f956de3-614f-4b36-bbef-7414d12d92e1",
   "metadata": {},
   "outputs": [],
   "source": [
    "map.save('map.html')"
   ]
  }
 ],
 "metadata": {
  "kernelspec": {
   "display_name": "Python 3 (ipykernel)",
   "language": "python",
   "name": "python3"
  },
  "language_info": {
   "codemirror_mode": {
    "name": "ipython",
    "version": 3
   },
   "file_extension": ".py",
   "mimetype": "text/x-python",
   "name": "python",
   "nbconvert_exporter": "python",
   "pygments_lexer": "ipython3",
   "version": "3.11.7"
  }
 },
 "nbformat": 4,
 "nbformat_minor": 5
}
